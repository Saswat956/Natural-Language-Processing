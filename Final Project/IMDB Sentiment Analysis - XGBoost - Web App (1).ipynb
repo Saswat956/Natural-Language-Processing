{
 "cells": [
  {
   "cell_type": "markdown",
   "metadata": {},
   "source": [
    "# Sentiment Analysis Web App\n",
    "\n",
    "_Deep Learning Nanodegree Program | Deployment_\n",
    "\n",
    "---\n",
    "\n",
    "In this notebook we will use Amazon's SageMaker service to construct a random tree model to predict the sentiment of a movie review. In addition, we will deploy this model to an endpoint and construct a very simple web app which will interact with our model's deployed endpoint.\n",
    "\n",
    "## General Outline\n",
    "\n",
    "Typically, when using a notebook instance with SageMaker, you will proceed through the following steps. Of course, not every step will need to be done with each project. Also, there is quite a lot of room for variation in many of the steps, as you will see throughout these lessons.\n",
    "\n",
    "1. Download or otherwise retrieve the data.\n",
    "2. Process / Prepare the data.\n",
    "3. Upload the processed data to S3.\n",
    "4. Train a chosen model.\n",
    "5. Test the trained model (typically using a batch transform job).\n",
    "6. Deploy the trained model.\n",
    "7. Use the deployed model.\n",
    "\n",
    "In this notebook we will progress through each of the steps above. We will also see that the final step, using the deployed model, can be quite challenging."
   ]
  },
  {
   "cell_type": "markdown",
   "metadata": {},
   "source": [
    "## Step 1: Downloading the data\n",
    "\n",
    "The dataset we are going to use is very popular among researchers in Natural Language Processing, usually referred to as the [IMDb dataset](http://ai.stanford.edu/~amaas/data/sentiment/). It consists of movie reviews from the website [imdb.com](http://www.imdb.com/), each labeled as either '**pos**itive', if the reviewer enjoyed the film, or '**neg**ative' otherwise.\n",
    "\n",
    "> Maas, Andrew L., et al. [Learning Word Vectors for Sentiment Analysis](http://ai.stanford.edu/~amaas/data/sentiment/). In _Proceedings of the 49th Annual Meeting of the Association for Computational Linguistics: Human Language Technologies_. Association for Computational Linguistics, 2011.\n",
    "\n",
    "We begin by using some Jupyter Notebook magic to download and extract the dataset."
   ]
  },
  {
   "cell_type": "code",
   "execution_count": 1,
   "metadata": {},
   "outputs": [
    {
     "name": "stdout",
     "output_type": "stream",
     "text": [
      "--2020-07-19 05:46:49--  http://ai.stanford.edu/~amaas/data/sentiment/aclImdb_v1.tar.gz\n",
      "Resolving ai.stanford.edu (ai.stanford.edu)... 171.64.68.10\n",
      "Connecting to ai.stanford.edu (ai.stanford.edu)|171.64.68.10|:80... connected.\n",
      "HTTP request sent, awaiting response... 200 OK\n",
      "Length: 84125825 (80M) [application/x-gzip]\n",
      "Saving to: ‘../data/aclImdb_v1.tar.gz’\n",
      "\n",
      "../data/aclImdb_v1. 100%[===================>]  80.23M  22.7MB/s    in 4.8s    \n",
      "\n",
      "2020-07-19 05:46:54 (16.8 MB/s) - ‘../data/aclImdb_v1.tar.gz’ saved [84125825/84125825]\n",
      "\n"
     ]
    }
   ],
   "source": [
    "%mkdir ../data\n",
    "!wget -O ../data/aclImdb_v1.tar.gz http://ai.stanford.edu/~amaas/data/sentiment/aclImdb_v1.tar.gz\n",
    "!tar -zxf ../data/aclImdb_v1.tar.gz -C ../data"
   ]
  },
  {
   "cell_type": "markdown",
   "metadata": {},
   "source": [
    "## Step 2: Preparing and Processing the data\n",
    "\n",
    "The data we have downloaded is split into various files, each of which contains a single review. It will be much easier going forward if we combine these individual files into two large files, one for training and one for testing."
   ]
  },
  {
   "cell_type": "code",
   "execution_count": 2,
   "metadata": {},
   "outputs": [],
   "source": [
    "import os\n",
    "import glob\n",
    "\n",
    "def read_imdb_data(data_dir='../data/aclImdb'):\n",
    "    data = {}\n",
    "    labels = {}\n",
    "    \n",
    "    for data_type in ['train', 'test']:\n",
    "        data[data_type] = {}\n",
    "        labels[data_type] = {}\n",
    "        \n",
    "        for sentiment in ['pos', 'neg']:\n",
    "            data[data_type][sentiment] = []\n",
    "            labels[data_type][sentiment] = []\n",
    "            \n",
    "            path = os.path.join(data_dir, data_type, sentiment, '*.txt')\n",
    "            files = glob.glob(path)\n",
    "            \n",
    "            for f in files:\n",
    "                with open(f) as review:\n",
    "                    data[data_type][sentiment].append(review.read())\n",
    "                    # Here we represent a positive review by '1' and a negative review by '0'\n",
    "                    labels[data_type][sentiment].append(1 if sentiment == 'pos' else 0)\n",
    "                    \n",
    "            assert len(data[data_type][sentiment]) == len(labels[data_type][sentiment]), \\\n",
    "                    \"{}/{} data size does not match labels size\".format(data_type, sentiment)\n",
    "                \n",
    "    return data, labels"
   ]
  },
  {
   "cell_type": "code",
   "execution_count": 3,
   "metadata": {},
   "outputs": [
    {
     "name": "stdout",
     "output_type": "stream",
     "text": [
      "IMDB reviews: train = 12500 pos / 12500 neg, test = 12500 pos / 12500 neg\n"
     ]
    }
   ],
   "source": [
    "data, labels = read_imdb_data()\n",
    "print(\"IMDB reviews: train = {} pos / {} neg, test = {} pos / {} neg\".format(\n",
    "            len(data['train']['pos']), len(data['train']['neg']),\n",
    "            len(data['test']['pos']), len(data['test']['neg'])))"
   ]
  },
  {
   "cell_type": "code",
   "execution_count": 4,
   "metadata": {},
   "outputs": [],
   "source": [
    "from sklearn.utils import shuffle\n",
    "\n",
    "def prepare_imdb_data(data, labels):\n",
    "    \"\"\"Prepare training and test sets from IMDb movie reviews.\"\"\"\n",
    "    \n",
    "    #Combine positive and negative reviews and labels\n",
    "    data_train = data['train']['pos'] + data['train']['neg']\n",
    "    data_test = data['test']['pos'] + data['test']['neg']\n",
    "    labels_train = labels['train']['pos'] + labels['train']['neg']\n",
    "    labels_test = labels['test']['pos'] + labels['test']['neg']\n",
    "    \n",
    "    #Shuffle reviews and corresponding labels within training and test sets\n",
    "    data_train, labels_train = shuffle(data_train, labels_train)\n",
    "    data_test, labels_test = shuffle(data_test, labels_test)\n",
    "    \n",
    "    # Return a unified training data, test data, training labels, test labets\n",
    "    return data_train, data_test, labels_train, labels_test"
   ]
  },
  {
   "cell_type": "code",
   "execution_count": 5,
   "metadata": {},
   "outputs": [
    {
     "name": "stdout",
     "output_type": "stream",
     "text": [
      "IMDb reviews (combined): train = 25000, test = 25000\n"
     ]
    }
   ],
   "source": [
    "train_X, test_X, train_y, test_y = prepare_imdb_data(data, labels)\n",
    "print(\"IMDb reviews (combined): train = {}, test = {}\".format(len(train_X), len(test_X)))"
   ]
  },
  {
   "cell_type": "code",
   "execution_count": 6,
   "metadata": {},
   "outputs": [
    {
     "data": {
      "text/plain": [
       "\"I won't spend a lot of time nor energy on this comment. I just want to add it because all the comments were so positive I felt like I just had to let people know that not everyone is so thrilled, let alone intellectually provoked by this attempt at creating a captivating philosophical cinematic enigma. Some scenes seemed promising, playing with visual dimensions, but couldn't hold up the rest. I felt like I was stoned for the first time again, having semi-philosophical conversations with fellow adolescents.<br /><br />What a futile attempt to raise Dutch cinema to new heights. I'd rather watch Jesus is een Palestijn, without all the pretentions and with straight forward humor, also raising questions about life and the realities we create for ourselves.<br /><br />Gert de Graff is not Jean-Luc Godard or Tarkovsky and appearantly never will be.\""
      ]
     },
     "execution_count": 6,
     "metadata": {},
     "output_type": "execute_result"
    }
   ],
   "source": [
    "train_X[100]"
   ]
  },
  {
   "cell_type": "markdown",
   "metadata": {},
   "source": [
    "## Processing the data\n",
    "\n",
    "Now that we have our training and testing datasets merged and ready to use, we need to start processing the raw data into something that will be useable by our machine learning algorithm. To begin with, we remove any html formatting and any non-alpha numeric characters that may appear in the reviews. We will do this in a very simplistic way using Python's regular expression module. We will discuss the reason for this rather simplistic pre-processing later on."
   ]
  },
  {
   "cell_type": "code",
   "execution_count": 7,
   "metadata": {},
   "outputs": [],
   "source": [
    "import re\n",
    "\n",
    "REPLACE_NO_SPACE = re.compile(\"(\\.)|(\\;)|(\\:)|(\\!)|(\\')|(\\?)|(\\,)|(\\\")|(\\()|(\\))|(\\[)|(\\])\")\n",
    "REPLACE_WITH_SPACE = re.compile(\"(<br\\s*/><br\\s*/>)|(\\-)|(\\/)\")\n",
    "\n",
    "def review_to_words(review):\n",
    "    words = REPLACE_NO_SPACE.sub(\"\", review.lower())\n",
    "    words = REPLACE_WITH_SPACE.sub(\" \", words)\n",
    "    return words"
   ]
  },
  {
   "cell_type": "code",
   "execution_count": 8,
   "metadata": {},
   "outputs": [
    {
     "data": {
      "text/plain": [
       "'i wont spend a lot of time nor energy on this comment i just want to add it because all the comments were so positive i felt like i just had to let people know that not everyone is so thrilled let alone intellectually provoked by this attempt at creating a captivating philosophical cinematic enigma some scenes seemed promising playing with visual dimensions but couldnt hold up the rest i felt like i was stoned for the first time again having semi philosophical conversations with fellow adolescents what a futile attempt to raise dutch cinema to new heights id rather watch jesus is een palestijn without all the pretentions and with straight forward humor also raising questions about life and the realities we create for ourselves gert de graff is not jean luc godard or tarkovsky and appearantly never will be'"
      ]
     },
     "execution_count": 8,
     "metadata": {},
     "output_type": "execute_result"
    }
   ],
   "source": [
    "review_to_words(train_X[100])"
   ]
  },
  {
   "cell_type": "code",
   "execution_count": 9,
   "metadata": {},
   "outputs": [],
   "source": [
    "import pickle\n",
    "\n",
    "cache_dir = os.path.join(\"../cache\", \"sentiment_web_app\")  # where to store cache files\n",
    "os.makedirs(cache_dir, exist_ok=True)  # ensure cache directory exists\n",
    "\n",
    "def preprocess_data(data_train, data_test, labels_train, labels_test,\n",
    "                    cache_dir=cache_dir, cache_file=\"preprocessed_data.pkl\"):\n",
    "    \"\"\"Convert each review to words; read from cache if available.\"\"\"\n",
    "\n",
    "    # If cache_file is not None, try to read from it first\n",
    "    cache_data = None\n",
    "    if cache_file is not None:\n",
    "        try:\n",
    "            with open(os.path.join(cache_dir, cache_file), \"rb\") as f:\n",
    "                cache_data = pickle.load(f)\n",
    "            print(\"Read preprocessed data from cache file:\", cache_file)\n",
    "        except:\n",
    "            pass  # unable to read from cache, but that's okay\n",
    "    \n",
    "    # If cache is missing, then do the heavy lifting\n",
    "    if cache_data is None:\n",
    "        # Preprocess training and test data to obtain words for each review\n",
    "        #words_train = list(map(review_to_words, data_train))\n",
    "        #words_test = list(map(review_to_words, data_test))\n",
    "        words_train = [review_to_words(review) for review in data_train]\n",
    "        words_test = [review_to_words(review) for review in data_test]\n",
    "        \n",
    "        # Write to cache file for future runs\n",
    "        if cache_file is not None:\n",
    "            cache_data = dict(words_train=words_train, words_test=words_test,\n",
    "                              labels_train=labels_train, labels_test=labels_test)\n",
    "            with open(os.path.join(cache_dir, cache_file), \"wb\") as f:\n",
    "                pickle.dump(cache_data, f)\n",
    "            print(\"Wrote preprocessed data to cache file:\", cache_file)\n",
    "    else:\n",
    "        # Unpack data loaded from cache file\n",
    "        words_train, words_test, labels_train, labels_test = (cache_data['words_train'],\n",
    "                cache_data['words_test'], cache_data['labels_train'], cache_data['labels_test'])\n",
    "    \n",
    "    return words_train, words_test, labels_train, labels_test"
   ]
  },
  {
   "cell_type": "code",
   "execution_count": 10,
   "metadata": {},
   "outputs": [
    {
     "name": "stdout",
     "output_type": "stream",
     "text": [
      "Wrote preprocessed data to cache file: preprocessed_data.pkl\n"
     ]
    }
   ],
   "source": [
    "# Preprocess data\n",
    "train_X, test_X, train_y, test_y = preprocess_data(train_X, test_X, train_y, test_y)"
   ]
  },
  {
   "cell_type": "markdown",
   "metadata": {},
   "source": [
    "### Extract Bag-of-Words features\n",
    "\n",
    "For the model we will be implementing, rather than using the reviews directly, we are going to transform each review into a Bag-of-Words feature representation. Keep in mind that 'in the wild' we will only have access to the training set so our transformer can only use the training set to construct a representation."
   ]
  },
  {
   "cell_type": "code",
   "execution_count": 11,
   "metadata": {},
   "outputs": [
    {
     "name": "stderr",
     "output_type": "stream",
     "text": [
      "/home/ec2-user/anaconda3/envs/python3/lib/python3.6/site-packages/sklearn/externals/joblib/__init__.py:15: FutureWarning: sklearn.externals.joblib is deprecated in 0.21 and will be removed in 0.23. Please import this functionality directly from joblib, which can be installed with: pip install joblib. If this warning is raised when loading pickled models, you may need to re-serialize those models with scikit-learn 0.21+.\n",
      "  warnings.warn(msg, category=FutureWarning)\n"
     ]
    }
   ],
   "source": [
    "import numpy as np\n",
    "from sklearn.feature_extraction.text import CountVectorizer\n",
    "from sklearn.externals import joblib\n",
    "# joblib is an enhanced version of pickle that is more efficient for storing NumPy arrays\n",
    "\n",
    "def extract_BoW_features(words_train, words_test, vocabulary_size=5000,\n",
    "                         cache_dir=cache_dir, cache_file=\"bow_features.pkl\"):\n",
    "    \"\"\"Extract Bag-of-Words for a given set of documents, already preprocessed into words.\"\"\"\n",
    "    \n",
    "    # If cache_file is not None, try to read from it first\n",
    "    cache_data = None\n",
    "    if cache_file is not None:\n",
    "        try:\n",
    "            with open(os.path.join(cache_dir, cache_file), \"rb\") as f:\n",
    "                cache_data = joblib.load(f)\n",
    "            print(\"Read features from cache file:\", cache_file)\n",
    "        except:\n",
    "            pass  # unable to read from cache, but that's okay\n",
    "    \n",
    "    # If cache is missing, then do the heavy lifting\n",
    "    if cache_data is None:\n",
    "        # Fit a vectorizer to training documents and use it to transform them\n",
    "        # NOTE: Training documents have already been preprocessed and tokenized into words;\n",
    "        #       pass in dummy functions to skip those steps, e.g. preprocessor=lambda x: x\n",
    "        vectorizer = CountVectorizer(max_features=vocabulary_size)\n",
    "        features_train = vectorizer.fit_transform(words_train).toarray()\n",
    "\n",
    "        # Apply the same vectorizer to transform the test documents (ignore unknown words)\n",
    "        features_test = vectorizer.transform(words_test).toarray()\n",
    "        \n",
    "        # NOTE: Remember to convert the features using .toarray() for a compact representation\n",
    "        \n",
    "        # Write to cache file for future runs (store vocabulary as well)\n",
    "        if cache_file is not None:\n",
    "            vocabulary = vectorizer.vocabulary_\n",
    "            cache_data = dict(features_train=features_train, features_test=features_test,\n",
    "                             vocabulary=vocabulary)\n",
    "            with open(os.path.join(cache_dir, cache_file), \"wb\") as f:\n",
    "                joblib.dump(cache_data, f)\n",
    "            print(\"Wrote features to cache file:\", cache_file)\n",
    "    else:\n",
    "        # Unpack data loaded from cache file\n",
    "        features_train, features_test, vocabulary = (cache_data['features_train'],\n",
    "                cache_data['features_test'], cache_data['vocabulary'])\n",
    "    \n",
    "    # Return both the extracted features as well as the vocabulary\n",
    "    return features_train, features_test, vocabulary"
   ]
  },
  {
   "cell_type": "code",
   "execution_count": 12,
   "metadata": {},
   "outputs": [
    {
     "name": "stdout",
     "output_type": "stream",
     "text": [
      "Wrote features to cache file: bow_features.pkl\n"
     ]
    }
   ],
   "source": [
    "# Extract Bag of Words features for both training and test datasets\n",
    "train_X, test_X, vocabulary = extract_BoW_features(train_X, test_X)"
   ]
  },
  {
   "cell_type": "code",
   "execution_count": 13,
   "metadata": {},
   "outputs": [
    {
     "data": {
      "text/plain": [
       "5000"
      ]
     },
     "execution_count": 13,
     "metadata": {},
     "output_type": "execute_result"
    }
   ],
   "source": [
    "len(train_X[100])"
   ]
  },
  {
   "cell_type": "markdown",
   "metadata": {},
   "source": [
    "## Step 3: Upload data to S3\n",
    "\n",
    "Now that we have created the feature representation of our training (and testing) data, it is time to start setting up and using the XGBoost classifier provided by SageMaker.\n",
    "\n",
    "### Writing the datasets\n",
    "\n",
    "The XGBoost classifier that we will be using requires the dataset to be written to a file and stored using Amazon S3. To do this, we will start by splitting the training dataset into two parts, the data we will train the model with and a validation set. Then, we will write those datasets to a file locally and then upload the files to S3. In addition, we will write the test set to a file and upload that file to S3. This is so that we can use SageMakers Batch Transform functionality to test our model once we've fit it."
   ]
  },
  {
   "cell_type": "code",
   "execution_count": 14,
   "metadata": {},
   "outputs": [],
   "source": [
    "import pandas as pd\n",
    "\n",
    "# Earlier we shuffled the training dataset so to make things simple we can just assign\n",
    "# the first 10 000 reviews to the validation set and use the remaining reviews for training.\n",
    "val_X = pd.DataFrame(train_X[:10000])\n",
    "train_X = pd.DataFrame(train_X[10000:])\n",
    "\n",
    "val_y = pd.DataFrame(train_y[:10000])\n",
    "train_y = pd.DataFrame(train_y[10000:])"
   ]
  },
  {
   "cell_type": "markdown",
   "metadata": {},
   "source": [
    "The documentation for the XGBoost algorithm in SageMaker requires that the training and validation datasets should contain no headers or index and that the label should occur first for each sample.\n",
    "\n",
    "For more information about this and other algorithms, the SageMaker developer documentation can be found on __[Amazon's website.](https://docs.aws.amazon.com/sagemaker/latest/dg/)__"
   ]
  },
  {
   "cell_type": "code",
   "execution_count": 15,
   "metadata": {},
   "outputs": [],
   "source": [
    "# First we make sure that the local directory in which we'd like to store the training and validation csv files exists.\n",
    "data_dir = '../data/sentiment_web_app'\n",
    "if not os.path.exists(data_dir):\n",
    "    os.makedirs(data_dir)"
   ]
  },
  {
   "cell_type": "code",
   "execution_count": 16,
   "metadata": {},
   "outputs": [],
   "source": [
    "pd.DataFrame(test_X).to_csv(os.path.join(data_dir, 'test.csv'), header=False, index=False)\n",
    "\n",
    "pd.concat([val_y, val_X], axis=1).to_csv(os.path.join(data_dir, 'validation.csv'), header=False, index=False)\n",
    "pd.concat([train_y, train_X], axis=1).to_csv(os.path.join(data_dir, 'train.csv'), header=False, index=False)"
   ]
  },
  {
   "cell_type": "code",
   "execution_count": 17,
   "metadata": {},
   "outputs": [],
   "source": [
    "# To save a bit of memory we can set text_X, train_X, val_X, train_y and val_y to None.\n",
    "\n",
    "test_X = train_X = val_X = train_y = val_y = None"
   ]
  },
  {
   "cell_type": "markdown",
   "metadata": {},
   "source": [
    "### Uploading Training / Validation files to S3\n",
    "\n",
    "Amazon's S3 service allows us to store files that can be accessed by both the built-in training models such as the XGBoost model we will be using as well as custom models such as the one we will see a little later.\n",
    "\n",
    "For this and most other tasks we will be doing using SageMaker, there are two methods we could use. The first is to use the low level functionality of SageMaker which requires knowing each of the objects involved in the SageMaker environment. The second is to use the high level functionality in which certain choices have been made on the user's behalf. The low level approach benefits from allowing the user a great deal of flexibility while the high level approach makes development much quicker. For our purposes we will opt to use the high level approach although using the low-level approach is certainly an option.\n",
    "\n",
    "Recall the method `upload_data()` which is a member of the object representing our current SageMaker session. What this method does is upload the data to the default bucket (which is created if it does not exist) into the path described by the key_prefix variable. To see this for yourself, once you have uploaded the data files, go to the S3 console and look to see where the files have been uploaded.\n",
    "\n",
    "For additional resources, see the __[SageMaker API documentation](http://sagemaker.readthedocs.io/en/latest/)__ and in addition the __[SageMaker Developer Guide.](https://docs.aws.amazon.com/sagemaker/latest/dg/)__"
   ]
  },
  {
   "cell_type": "code",
   "execution_count": 18,
   "metadata": {},
   "outputs": [],
   "source": [
    "import sagemaker\n",
    "\n",
    "session = sagemaker.Session() # Store the current SageMaker session\n",
    "\n",
    "# S3 prefix (which folder will we use)\n",
    "prefix = 'sentiment-web-app'\n",
    "\n",
    "test_location = session.upload_data(os.path.join(data_dir, 'test.csv'), key_prefix=prefix)\n",
    "val_location = session.upload_data(os.path.join(data_dir, 'validation.csv'), key_prefix=prefix)\n",
    "train_location = session.upload_data(os.path.join(data_dir, 'train.csv'), key_prefix=prefix)"
   ]
  },
  {
   "cell_type": "markdown",
   "metadata": {},
   "source": [
    "## Step 4: Creating the XGBoost model\n",
    "\n",
    "Now that the data has been uploaded it is time to create the XGBoost model. To begin with, we need to do some setup. At this point it is worth discussing what a model is in SageMaker. It is easiest to think of a model of comprising three different objects in the SageMaker ecosystem, which interact with one another.\n",
    "\n",
    "- Model Artifacts\n",
    "- Training Code (Container)\n",
    "- Inference Code (Container)\n",
    "\n",
    "The Model Artifacts are what you might think of as the actual model itself. For example, if you were building a neural network, the model artifacts would be the weights of the various layers. In our case, for an XGBoost model, the artifacts are the actual trees that are created during training.\n",
    "\n",
    "The other two objects, the training code and the inference code are then used to manipulate the training artifacts. More precisely, the training code uses the training data that is provided and creates the model artifacts, while the inference code uses the model artifacts to make predictions on new data.\n",
    "\n",
    "The way that SageMaker runs the training and inference code is by making use of Docker containers. For now, think of a container as being a way of packaging code up so that dependencies aren't an issue."
   ]
  },
  {
   "cell_type": "code",
   "execution_count": 19,
   "metadata": {},
   "outputs": [],
   "source": [
    "from sagemaker import get_execution_role\n",
    "\n",
    "# Our current execution role is required when creating the model as the training\n",
    "# and inference code will need to access the model artifacts.\n",
    "role = get_execution_role()"
   ]
  },
  {
   "cell_type": "code",
   "execution_count": 20,
   "metadata": {},
   "outputs": [
    {
     "name": "stderr",
     "output_type": "stream",
     "text": [
      "'get_image_uri' method will be deprecated in favor of 'ImageURIProvider' class in SageMaker Python SDK v2.\n",
      "WARNING:root:There is a more up to date SageMaker XGBoost image. To use the newer image, please set 'repo_version'='1.0-1'. For example:\n",
      "\tget_image_uri(region, 'xgboost', '1.0-1').\n"
     ]
    }
   ],
   "source": [
    "# We need to retrieve the location of the container which is provided by Amazon for using XGBoost.\n",
    "# As a matter of convenience, the training and inference code both use the same container.\n",
    "from sagemaker.amazon.amazon_estimator import get_image_uri\n",
    "\n",
    "container = get_image_uri(session.boto_region_name, 'xgboost')"
   ]
  },
  {
   "cell_type": "code",
   "execution_count": 21,
   "metadata": {},
   "outputs": [
    {
     "name": "stderr",
     "output_type": "stream",
     "text": [
      "WARNING:root:Parameter image_name will be renamed to image_uri in SageMaker Python SDK v2.\n"
     ]
    }
   ],
   "source": [
    "# First we create a SageMaker estimator object for our model.\n",
    "xgb = sagemaker.estimator.Estimator(container, # The location of the container we wish to use\n",
    "                                    role,                                    # What is our current IAM Role\n",
    "                                    train_instance_count=1,                  # How many compute instances\n",
    "                                    train_instance_type='ml.m4.xlarge',      # What kind of compute instances\n",
    "                                    output_path='s3://{}/{}/output'.format(session.default_bucket(), prefix),\n",
    "                                    sagemaker_session=session)\n",
    "\n",
    "# And then set the algorithm specific parameters.\n",
    "xgb.set_hyperparameters(max_depth=5,\n",
    "                        eta=0.2,\n",
    "                        gamma=4,\n",
    "                        min_child_weight=6,\n",
    "                        subsample=0.8,\n",
    "                        silent=0,\n",
    "                        objective='binary:logistic',\n",
    "                        early_stopping_rounds=10,\n",
    "                        num_round=500)"
   ]
  },
  {
   "cell_type": "markdown",
   "metadata": {},
   "source": [
    "### Fit the XGBoost model\n",
    "\n",
    "Now that our model has been set up we simply need to attach the training and validation datasets and then ask SageMaker to set up the computation."
   ]
  },
  {
   "cell_type": "code",
   "execution_count": 22,
   "metadata": {},
   "outputs": [
    {
     "name": "stderr",
     "output_type": "stream",
     "text": [
      "WARNING:sagemaker:'s3_input' class will be renamed to 'TrainingInput' in SageMaker Python SDK v2.\n",
      "WARNING:sagemaker:'s3_input' class will be renamed to 'TrainingInput' in SageMaker Python SDK v2.\n"
     ]
    }
   ],
   "source": [
    "s3_input_train = sagemaker.s3_input(s3_data=train_location, content_type='csv')\n",
    "s3_input_validation = sagemaker.s3_input(s3_data=val_location, content_type='csv')"
   ]
  },
  {
   "cell_type": "code",
   "execution_count": 23,
   "metadata": {},
   "outputs": [
    {
     "name": "stdout",
     "output_type": "stream",
     "text": [
      "2020-07-19 05:49:23 Starting - Starting the training job...\n",
      "2020-07-19 05:49:25 Starting - Launching requested ML instances.........\n",
      "2020-07-19 05:51:04 Starting - Preparing the instances for training......\n",
      "2020-07-19 05:52:05 Downloading - Downloading input data...\n",
      "2020-07-19 05:52:37 Training - Downloading the training image..\u001b[34mArguments: train\u001b[0m\n",
      "\u001b[34m[2020-07-19:05:52:58:INFO] Running standalone xgboost training.\u001b[0m\n",
      "\u001b[34m[2020-07-19:05:52:58:INFO] File size need to be processed in the node: 238.5mb. Available memory size in the node: 8492.48mb\u001b[0m\n",
      "\u001b[34m[2020-07-19:05:52:58:INFO] Determined delimiter of CSV input is ','\u001b[0m\n",
      "\u001b[34m[05:52:58] S3DistributionType set as FullyReplicated\u001b[0m\n",
      "\u001b[34m[05:53:00] 15000x5000 matrix with 75000000 entries loaded from /opt/ml/input/data/train?format=csv&label_column=0&delimiter=,\u001b[0m\n",
      "\u001b[34m[2020-07-19:05:53:00:INFO] Determined delimiter of CSV input is ','\u001b[0m\n",
      "\u001b[34m[05:53:00] S3DistributionType set as FullyReplicated\u001b[0m\n",
      "\u001b[34m[05:53:01] 10000x5000 matrix with 50000000 entries loaded from /opt/ml/input/data/validation?format=csv&label_column=0&delimiter=,\u001b[0m\n",
      "\u001b[34m[05:53:05] src/tree/updater_prune.cc:74: tree pruning end, 1 roots, 44 extra nodes, 4 pruned nodes, max_depth=5\u001b[0m\n",
      "\u001b[34m[0]#011train-error:0.307067#011validation-error:0.3092\u001b[0m\n",
      "\u001b[34mMultiple eval metrics have been passed: 'validation-error' will be used for early stopping.\n",
      "\u001b[0m\n",
      "\u001b[34mWill train until validation-error hasn't improved in 10 rounds.\u001b[0m\n",
      "\u001b[34m[05:53:06] src/tree/updater_prune.cc:74: tree pruning end, 1 roots, 36 extra nodes, 6 pruned nodes, max_depth=5\u001b[0m\n",
      "\u001b[34m[1]#011train-error:0.299533#011validation-error:0.3045\u001b[0m\n",
      "\u001b[34m[05:53:08] src/tree/updater_prune.cc:74: tree pruning end, 1 roots, 42 extra nodes, 6 pruned nodes, max_depth=5\u001b[0m\n",
      "\u001b[34m[2]#011train-error:0.289533#011validation-error:0.2973\u001b[0m\n",
      "\u001b[34m[05:53:09] src/tree/updater_prune.cc:74: tree pruning end, 1 roots, 34 extra nodes, 4 pruned nodes, max_depth=5\u001b[0m\n",
      "\u001b[34m[3]#011train-error:0.2756#011validation-error:0.2796\u001b[0m\n",
      "\n",
      "2020-07-19 05:52:57 Training - Training image download completed. Training in progress.\u001b[34m[05:53:10] src/tree/updater_prune.cc:74: tree pruning end, 1 roots, 30 extra nodes, 6 pruned nodes, max_depth=5\u001b[0m\n",
      "\u001b[34m[4]#011train-error:0.271067#011validation-error:0.2749\u001b[0m\n",
      "\u001b[34m[05:53:12] src/tree/updater_prune.cc:74: tree pruning end, 1 roots, 36 extra nodes, 12 pruned nodes, max_depth=5\u001b[0m\n",
      "\u001b[34m[5]#011train-error:0.262267#011validation-error:0.2695\u001b[0m\n",
      "\u001b[34m[05:53:13] src/tree/updater_prune.cc:74: tree pruning end, 1 roots, 40 extra nodes, 2 pruned nodes, max_depth=5\u001b[0m\n",
      "\u001b[34m[6]#011train-error:0.253667#011validation-error:0.2628\u001b[0m\n",
      "\u001b[34m[05:53:14] src/tree/updater_prune.cc:74: tree pruning end, 1 roots, 24 extra nodes, 8 pruned nodes, max_depth=5\u001b[0m\n",
      "\u001b[34m[7]#011train-error:0.245933#011validation-error:0.2551\u001b[0m\n",
      "\u001b[34m[05:53:15] src/tree/updater_prune.cc:74: tree pruning end, 1 roots, 30 extra nodes, 12 pruned nodes, max_depth=5\u001b[0m\n",
      "\u001b[34m[8]#011train-error:0.2424#011validation-error:0.2539\u001b[0m\n",
      "\u001b[34m[05:53:17] src/tree/updater_prune.cc:74: tree pruning end, 1 roots, 46 extra nodes, 4 pruned nodes, max_depth=5\u001b[0m\n",
      "\u001b[34m[9]#011train-error:0.232267#011validation-error:0.2456\u001b[0m\n",
      "\u001b[34m[05:53:18] src/tree/updater_prune.cc:74: tree pruning end, 1 roots, 18 extra nodes, 16 pruned nodes, max_depth=5\u001b[0m\n",
      "\u001b[34m[10]#011train-error:0.225733#011validation-error:0.2407\u001b[0m\n",
      "\u001b[34m[05:53:19] src/tree/updater_prune.cc:74: tree pruning end, 1 roots, 28 extra nodes, 6 pruned nodes, max_depth=5\u001b[0m\n",
      "\u001b[34m[11]#011train-error:0.2212#011validation-error:0.2366\u001b[0m\n",
      "\u001b[34m[05:53:21] src/tree/updater_prune.cc:74: tree pruning end, 1 roots, 42 extra nodes, 6 pruned nodes, max_depth=5\u001b[0m\n",
      "\u001b[34m[12]#011train-error:0.215#011validation-error:0.2327\u001b[0m\n",
      "\u001b[34m[05:53:22] src/tree/updater_prune.cc:74: tree pruning end, 1 roots, 30 extra nodes, 8 pruned nodes, max_depth=5\u001b[0m\n",
      "\u001b[34m[13]#011train-error:0.210733#011validation-error:0.2303\u001b[0m\n",
      "\u001b[34m[05:53:23] src/tree/updater_prune.cc:74: tree pruning end, 1 roots, 32 extra nodes, 6 pruned nodes, max_depth=5\u001b[0m\n",
      "\u001b[34m[14]#011train-error:0.206267#011validation-error:0.2255\u001b[0m\n",
      "\u001b[34m[05:53:24] src/tree/updater_prune.cc:74: tree pruning end, 1 roots, 32 extra nodes, 6 pruned nodes, max_depth=5\u001b[0m\n",
      "\u001b[34m[15]#011train-error:0.202067#011validation-error:0.2235\u001b[0m\n",
      "\u001b[34m[05:53:26] src/tree/updater_prune.cc:74: tree pruning end, 1 roots, 20 extra nodes, 8 pruned nodes, max_depth=5\u001b[0m\n",
      "\u001b[34m[16]#011train-error:0.198467#011validation-error:0.2209\u001b[0m\n",
      "\u001b[34m[05:53:27] src/tree/updater_prune.cc:74: tree pruning end, 1 roots, 34 extra nodes, 0 pruned nodes, max_depth=5\u001b[0m\n",
      "\u001b[34m[17]#011train-error:0.198067#011validation-error:0.2182\u001b[0m\n",
      "\u001b[34m[05:53:28] src/tree/updater_prune.cc:74: tree pruning end, 1 roots, 30 extra nodes, 8 pruned nodes, max_depth=5\u001b[0m\n",
      "\u001b[34m[18]#011train-error:0.193333#011validation-error:0.2134\u001b[0m\n",
      "\u001b[34m[05:53:30] src/tree/updater_prune.cc:74: tree pruning end, 1 roots, 28 extra nodes, 8 pruned nodes, max_depth=5\u001b[0m\n",
      "\u001b[34m[19]#011train-error:0.192067#011validation-error:0.2114\u001b[0m\n",
      "\u001b[34m[05:53:31] src/tree/updater_prune.cc:74: tree pruning end, 1 roots, 38 extra nodes, 6 pruned nodes, max_depth=5\u001b[0m\n",
      "\u001b[34m[20]#011train-error:0.1878#011validation-error:0.2085\u001b[0m\n",
      "\u001b[34m[05:53:32] src/tree/updater_prune.cc:74: tree pruning end, 1 roots, 22 extra nodes, 8 pruned nodes, max_depth=5\u001b[0m\n",
      "\u001b[34m[21]#011train-error:0.1842#011validation-error:0.2059\u001b[0m\n",
      "\u001b[34m[05:53:33] src/tree/updater_prune.cc:74: tree pruning end, 1 roots, 22 extra nodes, 14 pruned nodes, max_depth=5\u001b[0m\n",
      "\u001b[34m[22]#011train-error:0.181267#011validation-error:0.2039\u001b[0m\n",
      "\u001b[34m[05:53:35] src/tree/updater_prune.cc:74: tree pruning end, 1 roots, 28 extra nodes, 6 pruned nodes, max_depth=5\u001b[0m\n",
      "\u001b[34m[23]#011train-error:0.1788#011validation-error:0.2031\u001b[0m\n",
      "\u001b[34m[05:53:36] src/tree/updater_prune.cc:74: tree pruning end, 1 roots, 30 extra nodes, 8 pruned nodes, max_depth=5\u001b[0m\n",
      "\u001b[34m[24]#011train-error:0.1772#011validation-error:0.2009\u001b[0m\n",
      "\u001b[34m[05:53:37] src/tree/updater_prune.cc:74: tree pruning end, 1 roots, 22 extra nodes, 12 pruned nodes, max_depth=5\u001b[0m\n",
      "\u001b[34m[25]#011train-error:0.174933#011validation-error:0.1987\u001b[0m\n",
      "\u001b[34m[05:53:39] src/tree/updater_prune.cc:74: tree pruning end, 1 roots, 26 extra nodes, 8 pruned nodes, max_depth=5\u001b[0m\n",
      "\u001b[34m[26]#011train-error:0.1736#011validation-error:0.1973\u001b[0m\n",
      "\u001b[34m[05:53:40] src/tree/updater_prune.cc:74: tree pruning end, 1 roots, 28 extra nodes, 14 pruned nodes, max_depth=5\u001b[0m\n",
      "\u001b[34m[27]#011train-error:0.171333#011validation-error:0.1952\u001b[0m\n",
      "\u001b[34m[05:53:41] src/tree/updater_prune.cc:74: tree pruning end, 1 roots, 24 extra nodes, 0 pruned nodes, max_depth=5\u001b[0m\n",
      "\u001b[34m[28]#011train-error:0.170067#011validation-error:0.1942\u001b[0m\n",
      "\u001b[34m[05:53:42] src/tree/updater_prune.cc:74: tree pruning end, 1 roots, 26 extra nodes, 8 pruned nodes, max_depth=5\u001b[0m\n",
      "\u001b[34m[29]#011train-error:0.168867#011validation-error:0.1927\u001b[0m\n",
      "\u001b[34m[05:53:44] src/tree/updater_prune.cc:74: tree pruning end, 1 roots, 26 extra nodes, 4 pruned nodes, max_depth=5\u001b[0m\n",
      "\u001b[34m[30]#011train-error:0.167#011validation-error:0.1933\u001b[0m\n",
      "\u001b[34m[05:53:45] src/tree/updater_prune.cc:74: tree pruning end, 1 roots, 26 extra nodes, 10 pruned nodes, max_depth=5\u001b[0m\n",
      "\u001b[34m[31]#011train-error:0.164#011validation-error:0.1892\u001b[0m\n",
      "\u001b[34m[05:53:46] src/tree/updater_prune.cc:74: tree pruning end, 1 roots, 32 extra nodes, 2 pruned nodes, max_depth=5\u001b[0m\n",
      "\u001b[34m[32]#011train-error:0.163467#011validation-error:0.1893\u001b[0m\n",
      "\u001b[34m[05:53:47] src/tree/updater_prune.cc:74: tree pruning end, 1 roots, 36 extra nodes, 6 pruned nodes, max_depth=5\u001b[0m\n",
      "\u001b[34m[33]#011train-error:0.159267#011validation-error:0.188\u001b[0m\n",
      "\u001b[34m[05:53:49] src/tree/updater_prune.cc:74: tree pruning end, 1 roots, 22 extra nodes, 6 pruned nodes, max_depth=5\u001b[0m\n",
      "\u001b[34m[34]#011train-error:0.1586#011validation-error:0.1862\u001b[0m\n",
      "\u001b[34m[05:53:50] src/tree/updater_prune.cc:74: tree pruning end, 1 roots, 18 extra nodes, 6 pruned nodes, max_depth=5\u001b[0m\n",
      "\u001b[34m[35]#011train-error:0.158933#011validation-error:0.1868\u001b[0m\n",
      "\u001b[34m[05:53:51] src/tree/updater_prune.cc:74: tree pruning end, 1 roots, 18 extra nodes, 12 pruned nodes, max_depth=5\u001b[0m\n",
      "\u001b[34m[36]#011train-error:0.157267#011validation-error:0.1864\u001b[0m\n",
      "\u001b[34m[05:53:52] src/tree/updater_prune.cc:74: tree pruning end, 1 roots, 36 extra nodes, 4 pruned nodes, max_depth=5\u001b[0m\n",
      "\u001b[34m[37]#011train-error:0.155733#011validation-error:0.1839\u001b[0m\n",
      "\u001b[34m[05:53:54] src/tree/updater_prune.cc:74: tree pruning end, 1 roots, 36 extra nodes, 8 pruned nodes, max_depth=5\u001b[0m\n",
      "\u001b[34m[38]#011train-error:0.152733#011validation-error:0.1818\u001b[0m\n",
      "\u001b[34m[05:53:55] src/tree/updater_prune.cc:74: tree pruning end, 1 roots, 18 extra nodes, 6 pruned nodes, max_depth=5\u001b[0m\n",
      "\u001b[34m[39]#011train-error:0.150733#011validation-error:0.1814\u001b[0m\n",
      "\u001b[34m[05:53:56] src/tree/updater_prune.cc:74: tree pruning end, 1 roots, 34 extra nodes, 2 pruned nodes, max_depth=5\u001b[0m\n",
      "\u001b[34m[40]#011train-error:0.149467#011validation-error:0.1807\u001b[0m\n",
      "\u001b[34m[05:53:58] src/tree/updater_prune.cc:74: tree pruning end, 1 roots, 16 extra nodes, 10 pruned nodes, max_depth=5\u001b[0m\n",
      "\u001b[34m[41]#011train-error:0.148867#011validation-error:0.1806\u001b[0m\n",
      "\u001b[34m[05:53:59] src/tree/updater_prune.cc:74: tree pruning end, 1 roots, 24 extra nodes, 8 pruned nodes, max_depth=5\u001b[0m\n",
      "\u001b[34m[42]#011train-error:0.147#011validation-error:0.1801\u001b[0m\n",
      "\u001b[34m[05:54:00] src/tree/updater_prune.cc:74: tree pruning end, 1 roots, 14 extra nodes, 10 pruned nodes, max_depth=5\u001b[0m\n",
      "\u001b[34m[43]#011train-error:0.147133#011validation-error:0.1794\u001b[0m\n",
      "\u001b[34m[05:54:02] src/tree/updater_prune.cc:74: tree pruning end, 1 roots, 36 extra nodes, 4 pruned nodes, max_depth=5\u001b[0m\n",
      "\u001b[34m[44]#011train-error:0.145267#011validation-error:0.1761\u001b[0m\n",
      "\u001b[34m[05:54:03] src/tree/updater_prune.cc:74: tree pruning end, 1 roots, 24 extra nodes, 12 pruned nodes, max_depth=5\u001b[0m\n",
      "\u001b[34m[45]#011train-error:0.142933#011validation-error:0.1759\u001b[0m\n",
      "\u001b[34m[05:54:04] src/tree/updater_prune.cc:74: tree pruning end, 1 roots, 14 extra nodes, 20 pruned nodes, max_depth=5\u001b[0m\n",
      "\u001b[34m[46]#011train-error:0.143067#011validation-error:0.175\u001b[0m\n",
      "\u001b[34m[05:54:05] src/tree/updater_prune.cc:74: tree pruning end, 1 roots, 18 extra nodes, 6 pruned nodes, max_depth=5\u001b[0m\n",
      "\u001b[34m[47]#011train-error:0.141733#011validation-error:0.1734\u001b[0m\n",
      "\u001b[34m[05:54:07] src/tree/updater_prune.cc:74: tree pruning end, 1 roots, 28 extra nodes, 18 pruned nodes, max_depth=5\u001b[0m\n",
      "\u001b[34m[48]#011train-error:0.1402#011validation-error:0.1734\u001b[0m\n",
      "\u001b[34m[05:54:08] src/tree/updater_prune.cc:74: tree pruning end, 1 roots, 14 extra nodes, 6 pruned nodes, max_depth=5\u001b[0m\n",
      "\u001b[34m[49]#011train-error:0.14#011validation-error:0.1733\u001b[0m\n",
      "\u001b[34m[05:54:09] src/tree/updater_prune.cc:74: tree pruning end, 1 roots, 22 extra nodes, 8 pruned nodes, max_depth=5\u001b[0m\n",
      "\u001b[34m[50]#011train-error:0.139267#011validation-error:0.1727\u001b[0m\n",
      "\u001b[34m[05:54:11] src/tree/updater_prune.cc:74: tree pruning end, 1 roots, 20 extra nodes, 14 pruned nodes, max_depth=5\u001b[0m\n",
      "\u001b[34m[51]#011train-error:0.138067#011validation-error:0.1713\u001b[0m\n",
      "\u001b[34m[05:54:12] src/tree/updater_prune.cc:74: tree pruning end, 1 roots, 24 extra nodes, 10 pruned nodes, max_depth=5\u001b[0m\n",
      "\u001b[34m[52]#011train-error:0.137133#011validation-error:0.1703\u001b[0m\n",
      "\u001b[34m[05:54:13] src/tree/updater_prune.cc:74: tree pruning end, 1 roots, 30 extra nodes, 8 pruned nodes, max_depth=5\u001b[0m\n",
      "\u001b[34m[53]#011train-error:0.136867#011validation-error:0.1699\u001b[0m\n",
      "\u001b[34m[05:54:14] src/tree/updater_prune.cc:74: tree pruning end, 1 roots, 18 extra nodes, 8 pruned nodes, max_depth=5\u001b[0m\n",
      "\u001b[34m[54]#011train-error:0.135133#011validation-error:0.1687\u001b[0m\n",
      "\u001b[34m[05:54:16] src/tree/updater_prune.cc:74: tree pruning end, 1 roots, 26 extra nodes, 10 pruned nodes, max_depth=5\u001b[0m\n",
      "\u001b[34m[55]#011train-error:0.134133#011validation-error:0.1681\u001b[0m\n",
      "\u001b[34m[05:54:17] src/tree/updater_prune.cc:74: tree pruning end, 1 roots, 28 extra nodes, 12 pruned nodes, max_depth=5\u001b[0m\n",
      "\u001b[34m[56]#011train-error:0.133133#011validation-error:0.1677\u001b[0m\n",
      "\u001b[34m[05:54:18] src/tree/updater_prune.cc:74: tree pruning end, 1 roots, 16 extra nodes, 14 pruned nodes, max_depth=5\u001b[0m\n",
      "\u001b[34m[57]#011train-error:0.132867#011validation-error:0.1662\u001b[0m\n",
      "\u001b[34m[05:54:20] src/tree/updater_prune.cc:74: tree pruning end, 1 roots, 26 extra nodes, 12 pruned nodes, max_depth=5\u001b[0m\n",
      "\u001b[34m[58]#011train-error:0.1324#011validation-error:0.1657\u001b[0m\n",
      "\u001b[34m[05:54:21] src/tree/updater_prune.cc:74: tree pruning end, 1 roots, 22 extra nodes, 12 pruned nodes, max_depth=5\u001b[0m\n",
      "\u001b[34m[59]#011train-error:0.130667#011validation-error:0.1652\u001b[0m\n",
      "\u001b[34m[05:54:22] src/tree/updater_prune.cc:74: tree pruning end, 1 roots, 18 extra nodes, 8 pruned nodes, max_depth=5\u001b[0m\n",
      "\u001b[34m[60]#011train-error:0.129667#011validation-error:0.1653\u001b[0m\n",
      "\u001b[34m[05:54:23] src/tree/updater_prune.cc:74: tree pruning end, 1 roots, 14 extra nodes, 8 pruned nodes, max_depth=5\u001b[0m\n",
      "\u001b[34m[61]#011train-error:0.128733#011validation-error:0.1648\u001b[0m\n",
      "\u001b[34m[05:54:25] src/tree/updater_prune.cc:74: tree pruning end, 1 roots, 22 extra nodes, 18 pruned nodes, max_depth=5\u001b[0m\n",
      "\u001b[34m[62]#011train-error:0.128#011validation-error:0.1646\u001b[0m\n",
      "\u001b[34m[05:54:26] src/tree/updater_prune.cc:74: tree pruning end, 1 roots, 24 extra nodes, 4 pruned nodes, max_depth=5\u001b[0m\n",
      "\u001b[34m[63]#011train-error:0.127#011validation-error:0.1642\u001b[0m\n",
      "\u001b[34m[05:54:27] src/tree/updater_prune.cc:74: tree pruning end, 1 roots, 14 extra nodes, 4 pruned nodes, max_depth=5\u001b[0m\n",
      "\u001b[34m[64]#011train-error:0.126467#011validation-error:0.1632\u001b[0m\n",
      "\u001b[34m[05:54:28] src/tree/updater_prune.cc:74: tree pruning end, 1 roots, 24 extra nodes, 10 pruned nodes, max_depth=5\u001b[0m\n",
      "\u001b[34m[65]#011train-error:0.124933#011validation-error:0.1625\u001b[0m\n",
      "\u001b[34m[05:54:30] src/tree/updater_prune.cc:74: tree pruning end, 1 roots, 16 extra nodes, 6 pruned nodes, max_depth=5\u001b[0m\n",
      "\u001b[34m[66]#011train-error:0.124067#011validation-error:0.1625\u001b[0m\n",
      "\u001b[34m[05:54:31] src/tree/updater_prune.cc:74: tree pruning end, 1 roots, 24 extra nodes, 6 pruned nodes, max_depth=5\u001b[0m\n",
      "\u001b[34m[67]#011train-error:0.123333#011validation-error:0.1612\u001b[0m\n",
      "\u001b[34m[05:54:32] src/tree/updater_prune.cc:74: tree pruning end, 1 roots, 16 extra nodes, 6 pruned nodes, max_depth=5\u001b[0m\n",
      "\u001b[34m[68]#011train-error:0.122733#011validation-error:0.1614\u001b[0m\n",
      "\u001b[34m[05:54:34] src/tree/updater_prune.cc:74: tree pruning end, 1 roots, 18 extra nodes, 12 pruned nodes, max_depth=5\u001b[0m\n",
      "\u001b[34m[69]#011train-error:0.122533#011validation-error:0.1614\u001b[0m\n",
      "\u001b[34m[05:54:35] src/tree/updater_prune.cc:74: tree pruning end, 1 roots, 34 extra nodes, 8 pruned nodes, max_depth=5\u001b[0m\n",
      "\u001b[34m[70]#011train-error:0.1216#011validation-error:0.161\u001b[0m\n",
      "\u001b[34m[05:54:36] src/tree/updater_prune.cc:74: tree pruning end, 1 roots, 28 extra nodes, 2 pruned nodes, max_depth=5\u001b[0m\n",
      "\u001b[34m[71]#011train-error:0.1206#011validation-error:0.161\u001b[0m\n",
      "\u001b[34m[05:54:38] src/tree/updater_prune.cc:74: tree pruning end, 1 roots, 12 extra nodes, 14 pruned nodes, max_depth=5\u001b[0m\n",
      "\u001b[34m[72]#011train-error:0.120867#011validation-error:0.1618\u001b[0m\n",
      "\u001b[34m[05:54:39] src/tree/updater_prune.cc:74: tree pruning end, 1 roots, 18 extra nodes, 8 pruned nodes, max_depth=5\u001b[0m\n",
      "\u001b[34m[73]#011train-error:0.120467#011validation-error:0.1607\u001b[0m\n",
      "\u001b[34m[05:54:40] src/tree/updater_prune.cc:74: tree pruning end, 1 roots, 36 extra nodes, 8 pruned nodes, max_depth=5\u001b[0m\n",
      "\u001b[34m[74]#011train-error:0.118933#011validation-error:0.1604\u001b[0m\n",
      "\u001b[34m[05:54:41] src/tree/updater_prune.cc:74: tree pruning end, 1 roots, 24 extra nodes, 12 pruned nodes, max_depth=5\u001b[0m\n",
      "\u001b[34m[75]#011train-error:0.118333#011validation-error:0.1596\u001b[0m\n",
      "\u001b[34m[05:54:43] src/tree/updater_prune.cc:74: tree pruning end, 1 roots, 22 extra nodes, 4 pruned nodes, max_depth=5\u001b[0m\n",
      "\u001b[34m[76]#011train-error:0.1172#011validation-error:0.1585\u001b[0m\n",
      "\u001b[34m[05:54:44] src/tree/updater_prune.cc:74: tree pruning end, 1 roots, 20 extra nodes, 10 pruned nodes, max_depth=5\u001b[0m\n",
      "\u001b[34m[77]#011train-error:0.1166#011validation-error:0.1581\u001b[0m\n",
      "\u001b[34m[05:54:45] src/tree/updater_prune.cc:74: tree pruning end, 1 roots, 22 extra nodes, 14 pruned nodes, max_depth=5\u001b[0m\n",
      "\u001b[34m[78]#011train-error:0.115933#011validation-error:0.1585\u001b[0m\n",
      "\u001b[34m[05:54:46] src/tree/updater_prune.cc:74: tree pruning end, 1 roots, 14 extra nodes, 6 pruned nodes, max_depth=5\u001b[0m\n",
      "\u001b[34m[79]#011train-error:0.114267#011validation-error:0.1579\u001b[0m\n",
      "\u001b[34m[05:54:48] src/tree/updater_prune.cc:74: tree pruning end, 1 roots, 32 extra nodes, 10 pruned nodes, max_depth=5\u001b[0m\n",
      "\u001b[34m[80]#011train-error:0.112667#011validation-error:0.1574\u001b[0m\n",
      "\u001b[34m[05:54:49] src/tree/updater_prune.cc:74: tree pruning end, 1 roots, 12 extra nodes, 6 pruned nodes, max_depth=5\u001b[0m\n",
      "\u001b[34m[81]#011train-error:0.112#011validation-error:0.1566\u001b[0m\n",
      "\u001b[34m[05:54:50] src/tree/updater_prune.cc:74: tree pruning end, 1 roots, 32 extra nodes, 10 pruned nodes, max_depth=5\u001b[0m\n",
      "\u001b[34m[82]#011train-error:0.111267#011validation-error:0.1565\u001b[0m\n",
      "\u001b[34m[05:54:52] src/tree/updater_prune.cc:74: tree pruning end, 1 roots, 18 extra nodes, 6 pruned nodes, max_depth=5\u001b[0m\n",
      "\u001b[34m[83]#011train-error:0.110733#011validation-error:0.1556\u001b[0m\n",
      "\u001b[34m[05:54:53] src/tree/updater_prune.cc:74: tree pruning end, 1 roots, 14 extra nodes, 12 pruned nodes, max_depth=5\u001b[0m\n",
      "\u001b[34m[84]#011train-error:0.110133#011validation-error:0.1545\u001b[0m\n",
      "\u001b[34m[05:54:54] src/tree/updater_prune.cc:74: tree pruning end, 1 roots, 12 extra nodes, 2 pruned nodes, max_depth=5\u001b[0m\n",
      "\u001b[34m[85]#011train-error:0.11#011validation-error:0.1538\u001b[0m\n",
      "\u001b[34m[05:54:55] src/tree/updater_prune.cc:74: tree pruning end, 1 roots, 12 extra nodes, 6 pruned nodes, max_depth=5\u001b[0m\n",
      "\u001b[34m[86]#011train-error:0.109933#011validation-error:0.1541\u001b[0m\n",
      "\u001b[34m[05:54:57] src/tree/updater_prune.cc:74: tree pruning end, 1 roots, 12 extra nodes, 10 pruned nodes, max_depth=5\u001b[0m\n",
      "\u001b[34m[87]#011train-error:0.109733#011validation-error:0.1542\u001b[0m\n",
      "\u001b[34m[05:54:58] src/tree/updater_prune.cc:74: tree pruning end, 1 roots, 16 extra nodes, 8 pruned nodes, max_depth=5\u001b[0m\n",
      "\u001b[34m[88]#011train-error:0.109533#011validation-error:0.1543\u001b[0m\n",
      "\u001b[34m[05:54:59] src/tree/updater_prune.cc:74: tree pruning end, 1 roots, 26 extra nodes, 10 pruned nodes, max_depth=5\u001b[0m\n",
      "\u001b[34m[89]#011train-error:0.1076#011validation-error:0.1537\u001b[0m\n",
      "\u001b[34m[05:55:00] src/tree/updater_prune.cc:74: tree pruning end, 1 roots, 14 extra nodes, 10 pruned nodes, max_depth=5\u001b[0m\n",
      "\u001b[34m[90]#011train-error:0.107533#011validation-error:0.1528\u001b[0m\n",
      "\u001b[34m[05:55:02] src/tree/updater_prune.cc:74: tree pruning end, 1 roots, 18 extra nodes, 10 pruned nodes, max_depth=5\u001b[0m\n",
      "\u001b[34m[91]#011train-error:0.106933#011validation-error:0.1528\u001b[0m\n",
      "\u001b[34m[05:55:03] src/tree/updater_prune.cc:74: tree pruning end, 1 roots, 10 extra nodes, 8 pruned nodes, max_depth=5\u001b[0m\n",
      "\u001b[34m[92]#011train-error:0.106333#011validation-error:0.153\u001b[0m\n",
      "\u001b[34m[05:55:04] src/tree/updater_prune.cc:74: tree pruning end, 1 roots, 26 extra nodes, 14 pruned nodes, max_depth=5\u001b[0m\n",
      "\u001b[34m[93]#011train-error:0.105867#011validation-error:0.152\u001b[0m\n",
      "\u001b[34m[05:55:06] src/tree/updater_prune.cc:74: tree pruning end, 1 roots, 12 extra nodes, 8 pruned nodes, max_depth=5\u001b[0m\n",
      "\u001b[34m[94]#011train-error:0.1058#011validation-error:0.1513\u001b[0m\n",
      "\u001b[34m[05:55:07] src/tree/updater_prune.cc:74: tree pruning end, 1 roots, 32 extra nodes, 12 pruned nodes, max_depth=5\u001b[0m\n",
      "\u001b[34m[95]#011train-error:0.105533#011validation-error:0.1515\u001b[0m\n",
      "\u001b[34m[05:55:08] src/tree/updater_prune.cc:74: tree pruning end, 1 roots, 24 extra nodes, 14 pruned nodes, max_depth=5\u001b[0m\n",
      "\u001b[34m[96]#011train-error:0.105#011validation-error:0.1506\u001b[0m\n",
      "\u001b[34m[05:55:09] src/tree/updater_prune.cc:74: tree pruning end, 1 roots, 14 extra nodes, 6 pruned nodes, max_depth=5\u001b[0m\n",
      "\u001b[34m[97]#011train-error:0.105333#011validation-error:0.1508\u001b[0m\n",
      "\u001b[34m[05:55:11] src/tree/updater_prune.cc:74: tree pruning end, 1 roots, 14 extra nodes, 6 pruned nodes, max_depth=5\u001b[0m\n",
      "\u001b[34m[98]#011train-error:0.105467#011validation-error:0.1516\u001b[0m\n",
      "\u001b[34m[05:55:12] src/tree/updater_prune.cc:74: tree pruning end, 1 roots, 14 extra nodes, 12 pruned nodes, max_depth=5\u001b[0m\n",
      "\u001b[34m[99]#011train-error:0.105#011validation-error:0.1516\u001b[0m\n",
      "\u001b[34m[05:55:13] src/tree/updater_prune.cc:74: tree pruning end, 1 roots, 12 extra nodes, 12 pruned nodes, max_depth=5\u001b[0m\n",
      "\u001b[34m[100]#011train-error:0.104733#011validation-error:0.1515\u001b[0m\n",
      "\u001b[34m[05:55:14] src/tree/updater_prune.cc:74: tree pruning end, 1 roots, 30 extra nodes, 10 pruned nodes, max_depth=5\u001b[0m\n",
      "\u001b[34m[101]#011train-error:0.103133#011validation-error:0.151\u001b[0m\n",
      "\u001b[34m[05:55:16] src/tree/updater_prune.cc:74: tree pruning end, 1 roots, 26 extra nodes, 14 pruned nodes, max_depth=5\u001b[0m\n",
      "\u001b[34m[102]#011train-error:0.103133#011validation-error:0.1501\u001b[0m\n",
      "\u001b[34m[05:55:17] src/tree/updater_prune.cc:74: tree pruning end, 1 roots, 14 extra nodes, 6 pruned nodes, max_depth=5\u001b[0m\n",
      "\u001b[34m[103]#011train-error:0.1032#011validation-error:0.1495\u001b[0m\n",
      "\u001b[34m[05:55:18] src/tree/updater_prune.cc:74: tree pruning end, 1 roots, 14 extra nodes, 8 pruned nodes, max_depth=5\u001b[0m\n",
      "\u001b[34m[104]#011train-error:0.102333#011validation-error:0.1493\u001b[0m\n",
      "\u001b[34m[05:55:19] src/tree/updater_prune.cc:74: tree pruning end, 1 roots, 12 extra nodes, 8 pruned nodes, max_depth=5\u001b[0m\n",
      "\u001b[34m[105]#011train-error:0.101533#011validation-error:0.1497\u001b[0m\n",
      "\u001b[34m[05:55:21] src/tree/updater_prune.cc:74: tree pruning end, 1 roots, 20 extra nodes, 0 pruned nodes, max_depth=5\u001b[0m\n",
      "\u001b[34m[106]#011train-error:0.101133#011validation-error:0.1494\u001b[0m\n",
      "\u001b[34m[05:55:22] src/tree/updater_prune.cc:74: tree pruning end, 1 roots, 14 extra nodes, 6 pruned nodes, max_depth=5\u001b[0m\n",
      "\u001b[34m[107]#011train-error:0.100933#011validation-error:0.1491\u001b[0m\n",
      "\u001b[34m[05:55:23] src/tree/updater_prune.cc:74: tree pruning end, 1 roots, 10 extra nodes, 12 pruned nodes, max_depth=5\u001b[0m\n",
      "\u001b[34m[108]#011train-error:0.1002#011validation-error:0.1479\u001b[0m\n",
      "\u001b[34m[05:55:25] src/tree/updater_prune.cc:74: tree pruning end, 1 roots, 18 extra nodes, 0 pruned nodes, max_depth=5\u001b[0m\n",
      "\u001b[34m[109]#011train-error:0.099467#011validation-error:0.1493\u001b[0m\n",
      "\u001b[34m[05:55:26] src/tree/updater_prune.cc:74: tree pruning end, 1 roots, 18 extra nodes, 6 pruned nodes, max_depth=5\u001b[0m\n",
      "\u001b[34m[110]#011train-error:0.0998#011validation-error:0.1488\u001b[0m\n",
      "\u001b[34m[05:55:27] src/tree/updater_prune.cc:74: tree pruning end, 1 roots, 12 extra nodes, 12 pruned nodes, max_depth=5\u001b[0m\n",
      "\u001b[34m[111]#011train-error:0.099667#011validation-error:0.1486\u001b[0m\n",
      "\u001b[34m[05:55:28] src/tree/updater_prune.cc:74: tree pruning end, 1 roots, 10 extra nodes, 16 pruned nodes, max_depth=5\u001b[0m\n",
      "\u001b[34m[112]#011train-error:0.099667#011validation-error:0.1482\u001b[0m\n",
      "\u001b[34m[05:55:30] src/tree/updater_prune.cc:74: tree pruning end, 1 roots, 28 extra nodes, 6 pruned nodes, max_depth=5\u001b[0m\n",
      "\u001b[34m[113]#011train-error:0.097733#011validation-error:0.1477\u001b[0m\n",
      "\u001b[34m[05:55:31] src/tree/updater_prune.cc:74: tree pruning end, 1 roots, 18 extra nodes, 6 pruned nodes, max_depth=5\u001b[0m\n",
      "\u001b[34m[114]#011train-error:0.097133#011validation-error:0.1486\u001b[0m\n",
      "\u001b[34m[05:55:32] src/tree/updater_prune.cc:74: tree pruning end, 1 roots, 22 extra nodes, 10 pruned nodes, max_depth=5\u001b[0m\n",
      "\u001b[34m[115]#011train-error:0.095933#011validation-error:0.1479\u001b[0m\n",
      "\u001b[34m[05:55:34] src/tree/updater_prune.cc:74: tree pruning end, 1 roots, 32 extra nodes, 14 pruned nodes, max_depth=5\u001b[0m\n",
      "\u001b[34m[116]#011train-error:0.096133#011validation-error:0.1474\u001b[0m\n",
      "\u001b[34m[05:55:35] src/tree/updater_prune.cc:74: tree pruning end, 1 roots, 10 extra nodes, 4 pruned nodes, max_depth=5\u001b[0m\n",
      "\u001b[34m[117]#011train-error:0.095867#011validation-error:0.147\u001b[0m\n",
      "\u001b[34m[05:55:36] src/tree/updater_prune.cc:74: tree pruning end, 1 roots, 18 extra nodes, 10 pruned nodes, max_depth=5\u001b[0m\n",
      "\u001b[34m[118]#011train-error:0.095333#011validation-error:0.1464\u001b[0m\n",
      "\u001b[34m[05:55:37] src/tree/updater_prune.cc:74: tree pruning end, 1 roots, 20 extra nodes, 10 pruned nodes, max_depth=5\u001b[0m\n",
      "\u001b[34m[119]#011train-error:0.094533#011validation-error:0.1465\u001b[0m\n",
      "\u001b[34m[05:55:39] src/tree/updater_prune.cc:74: tree pruning end, 1 roots, 14 extra nodes, 6 pruned nodes, max_depth=5\u001b[0m\n",
      "\u001b[34m[120]#011train-error:0.094067#011validation-error:0.1465\u001b[0m\n",
      "\u001b[34m[05:55:40] src/tree/updater_prune.cc:74: tree pruning end, 1 roots, 18 extra nodes, 14 pruned nodes, max_depth=5\u001b[0m\n",
      "\u001b[34m[121]#011train-error:0.093733#011validation-error:0.1457\u001b[0m\n",
      "\u001b[34m[05:55:41] src/tree/updater_prune.cc:74: tree pruning end, 1 roots, 20 extra nodes, 14 pruned nodes, max_depth=5\u001b[0m\n",
      "\u001b[34m[122]#011train-error:0.092933#011validation-error:0.1457\u001b[0m\n",
      "\u001b[34m[05:55:42] src/tree/updater_prune.cc:74: tree pruning end, 1 roots, 16 extra nodes, 16 pruned nodes, max_depth=5\u001b[0m\n",
      "\u001b[34m[123]#011train-error:0.0932#011validation-error:0.1459\u001b[0m\n",
      "\u001b[34m[05:55:44] src/tree/updater_prune.cc:74: tree pruning end, 1 roots, 24 extra nodes, 8 pruned nodes, max_depth=5\u001b[0m\n",
      "\u001b[34m[124]#011train-error:0.093133#011validation-error:0.1451\u001b[0m\n",
      "\u001b[34m[05:55:45] src/tree/updater_prune.cc:74: tree pruning end, 1 roots, 32 extra nodes, 14 pruned nodes, max_depth=5\u001b[0m\n",
      "\u001b[34m[125]#011train-error:0.091933#011validation-error:0.1447\u001b[0m\n",
      "\u001b[34m[05:55:46] src/tree/updater_prune.cc:74: tree pruning end, 1 roots, 20 extra nodes, 14 pruned nodes, max_depth=5\u001b[0m\n",
      "\u001b[34m[126]#011train-error:0.0914#011validation-error:0.144\u001b[0m\n",
      "\u001b[34m[05:55:48] src/tree/updater_prune.cc:74: tree pruning end, 1 roots, 12 extra nodes, 8 pruned nodes, max_depth=5\u001b[0m\n",
      "\u001b[34m[127]#011train-error:0.0912#011validation-error:0.1441\u001b[0m\n",
      "\u001b[34m[05:55:49] src/tree/updater_prune.cc:74: tree pruning end, 1 roots, 10 extra nodes, 4 pruned nodes, max_depth=5\u001b[0m\n",
      "\u001b[34m[128]#011train-error:0.090933#011validation-error:0.144\u001b[0m\n",
      "\u001b[34m[05:55:50] src/tree/updater_prune.cc:74: tree pruning end, 1 roots, 32 extra nodes, 6 pruned nodes, max_depth=5\u001b[0m\n",
      "\u001b[34m[129]#011train-error:0.089933#011validation-error:0.1432\u001b[0m\n",
      "\u001b[34m[05:55:51] src/tree/updater_prune.cc:74: tree pruning end, 1 roots, 22 extra nodes, 14 pruned nodes, max_depth=5\u001b[0m\n",
      "\u001b[34m[130]#011train-error:0.089867#011validation-error:0.1434\u001b[0m\n",
      "\u001b[34m[05:55:53] src/tree/updater_prune.cc:74: tree pruning end, 1 roots, 12 extra nodes, 4 pruned nodes, max_depth=5\u001b[0m\n",
      "\u001b[34m[131]#011train-error:0.089933#011validation-error:0.1428\u001b[0m\n",
      "\u001b[34m[05:55:54] src/tree/updater_prune.cc:74: tree pruning end, 1 roots, 14 extra nodes, 8 pruned nodes, max_depth=5\u001b[0m\n",
      "\u001b[34m[132]#011train-error:0.089133#011validation-error:0.1431\u001b[0m\n",
      "\u001b[34m[05:55:55] src/tree/updater_prune.cc:74: tree pruning end, 1 roots, 10 extra nodes, 14 pruned nodes, max_depth=5\u001b[0m\n",
      "\u001b[34m[133]#011train-error:0.0888#011validation-error:0.1432\u001b[0m\n",
      "\u001b[34m[05:55:56] src/tree/updater_prune.cc:74: tree pruning end, 1 roots, 16 extra nodes, 4 pruned nodes, max_depth=5\u001b[0m\n",
      "\u001b[34m[134]#011train-error:0.088867#011validation-error:0.1434\u001b[0m\n",
      "\u001b[34m[05:55:58] src/tree/updater_prune.cc:74: tree pruning end, 1 roots, 16 extra nodes, 14 pruned nodes, max_depth=5\u001b[0m\n",
      "\u001b[34m[135]#011train-error:0.0886#011validation-error:0.1434\u001b[0m\n",
      "\u001b[34m[05:55:59] src/tree/updater_prune.cc:74: tree pruning end, 1 roots, 18 extra nodes, 0 pruned nodes, max_depth=5\u001b[0m\n",
      "\u001b[34m[136]#011train-error:0.0876#011validation-error:0.1432\u001b[0m\n",
      "\u001b[34m[05:56:00] src/tree/updater_prune.cc:74: tree pruning end, 1 roots, 12 extra nodes, 4 pruned nodes, max_depth=5\u001b[0m\n",
      "\u001b[34m[137]#011train-error:0.0874#011validation-error:0.143\u001b[0m\n",
      "\u001b[34m[05:56:02] src/tree/updater_prune.cc:74: tree pruning end, 1 roots, 18 extra nodes, 8 pruned nodes, max_depth=5\u001b[0m\n",
      "\u001b[34m[138]#011train-error:0.086733#011validation-error:0.1434\u001b[0m\n",
      "\u001b[34m[05:56:03] src/tree/updater_prune.cc:74: tree pruning end, 1 roots, 30 extra nodes, 14 pruned nodes, max_depth=5\u001b[0m\n",
      "\u001b[34m[139]#011train-error:0.086267#011validation-error:0.1428\u001b[0m\n",
      "\u001b[34m[05:56:04] src/tree/updater_prune.cc:74: tree pruning end, 1 roots, 28 extra nodes, 10 pruned nodes, max_depth=5\u001b[0m\n",
      "\u001b[34m[140]#011train-error:0.086133#011validation-error:0.1421\u001b[0m\n",
      "\u001b[34m[05:56:05] src/tree/updater_prune.cc:74: tree pruning end, 1 roots, 18 extra nodes, 6 pruned nodes, max_depth=5\u001b[0m\n",
      "\u001b[34m[141]#011train-error:0.085933#011validation-error:0.1416\u001b[0m\n",
      "\u001b[34m[05:56:07] src/tree/updater_prune.cc:74: tree pruning end, 1 roots, 18 extra nodes, 4 pruned nodes, max_depth=5\u001b[0m\n",
      "\u001b[34m[142]#011train-error:0.086067#011validation-error:0.1411\u001b[0m\n",
      "\u001b[34m[05:56:08] src/tree/updater_prune.cc:74: tree pruning end, 1 roots, 10 extra nodes, 10 pruned nodes, max_depth=5\u001b[0m\n",
      "\u001b[34m[143]#011train-error:0.085733#011validation-error:0.1409\u001b[0m\n",
      "\u001b[34m[05:56:09] src/tree/updater_prune.cc:74: tree pruning end, 1 roots, 16 extra nodes, 6 pruned nodes, max_depth=5\u001b[0m\n",
      "\u001b[34m[144]#011train-error:0.0858#011validation-error:0.1403\u001b[0m\n",
      "\u001b[34m[05:56:10] src/tree/updater_prune.cc:74: tree pruning end, 1 roots, 22 extra nodes, 4 pruned nodes, max_depth=5\u001b[0m\n",
      "\u001b[34m[145]#011train-error:0.0852#011validation-error:0.1393\u001b[0m\n",
      "\u001b[34m[05:56:12] src/tree/updater_prune.cc:74: tree pruning end, 1 roots, 24 extra nodes, 8 pruned nodes, max_depth=5\u001b[0m\n",
      "\u001b[34m[146]#011train-error:0.0842#011validation-error:0.1403\u001b[0m\n",
      "\u001b[34m[05:56:13] src/tree/updater_prune.cc:74: tree pruning end, 1 roots, 14 extra nodes, 10 pruned nodes, max_depth=5\u001b[0m\n",
      "\u001b[34m[147]#011train-error:0.084333#011validation-error:0.1394\u001b[0m\n",
      "\u001b[34m[05:56:14] src/tree/updater_prune.cc:74: tree pruning end, 1 roots, 14 extra nodes, 2 pruned nodes, max_depth=5\u001b[0m\n",
      "\u001b[34m[148]#011train-error:0.084067#011validation-error:0.14\u001b[0m\n",
      "\u001b[34m[05:56:16] src/tree/updater_prune.cc:74: tree pruning end, 1 roots, 24 extra nodes, 12 pruned nodes, max_depth=5\u001b[0m\n",
      "\u001b[34m[149]#011train-error:0.082867#011validation-error:0.1395\u001b[0m\n",
      "\u001b[34m[05:56:17] src/tree/updater_prune.cc:74: tree pruning end, 1 roots, 10 extra nodes, 10 pruned nodes, max_depth=5\u001b[0m\n",
      "\u001b[34m[150]#011train-error:0.0824#011validation-error:0.1392\u001b[0m\n",
      "\u001b[34m[05:56:18] src/tree/updater_prune.cc:74: tree pruning end, 1 roots, 16 extra nodes, 10 pruned nodes, max_depth=5\u001b[0m\n",
      "\u001b[34m[151]#011train-error:0.0826#011validation-error:0.1396\u001b[0m\n",
      "\u001b[34m[05:56:19] src/tree/updater_prune.cc:74: tree pruning end, 1 roots, 12 extra nodes, 8 pruned nodes, max_depth=5\u001b[0m\n",
      "\u001b[34m[152]#011train-error:0.0824#011validation-error:0.14\u001b[0m\n",
      "\u001b[34m[05:56:21] src/tree/updater_prune.cc:74: tree pruning end, 1 roots, 10 extra nodes, 18 pruned nodes, max_depth=5\u001b[0m\n",
      "\u001b[34m[153]#011train-error:0.082067#011validation-error:0.14\u001b[0m\n",
      "\u001b[34m[05:56:22] src/tree/updater_prune.cc:74: tree pruning end, 1 roots, 10 extra nodes, 18 pruned nodes, max_depth=5\u001b[0m\n",
      "\u001b[34m[154]#011train-error:0.082067#011validation-error:0.14\u001b[0m\n",
      "\u001b[34m[05:56:23] src/tree/updater_prune.cc:74: tree pruning end, 1 roots, 18 extra nodes, 10 pruned nodes, max_depth=5\u001b[0m\n",
      "\u001b[34m[155]#011train-error:0.082333#011validation-error:0.1399\u001b[0m\n",
      "\u001b[34m[05:56:24] src/tree/updater_prune.cc:74: tree pruning end, 1 roots, 16 extra nodes, 4 pruned nodes, max_depth=5\u001b[0m\n",
      "\u001b[34m[156]#011train-error:0.082267#011validation-error:0.1393\u001b[0m\n",
      "\u001b[34m[05:56:26] src/tree/updater_prune.cc:74: tree pruning end, 1 roots, 14 extra nodes, 4 pruned nodes, max_depth=5\u001b[0m\n",
      "\u001b[34m[157]#011train-error:0.081467#011validation-error:0.139\u001b[0m\n",
      "\u001b[34m[05:56:27] src/tree/updater_prune.cc:74: tree pruning end, 1 roots, 18 extra nodes, 4 pruned nodes, max_depth=5\u001b[0m\n",
      "\u001b[34m[158]#011train-error:0.082#011validation-error:0.1388\u001b[0m\n",
      "\u001b[34m[05:56:28] src/tree/updater_prune.cc:74: tree pruning end, 1 roots, 10 extra nodes, 8 pruned nodes, max_depth=5\u001b[0m\n",
      "\u001b[34m[159]#011train-error:0.0818#011validation-error:0.1389\u001b[0m\n",
      "\u001b[34m[05:56:29] src/tree/updater_prune.cc:74: tree pruning end, 1 roots, 16 extra nodes, 2 pruned nodes, max_depth=5\u001b[0m\n",
      "\u001b[34m[160]#011train-error:0.0814#011validation-error:0.1392\u001b[0m\n",
      "\u001b[34m[05:56:31] src/tree/updater_prune.cc:74: tree pruning end, 1 roots, 10 extra nodes, 6 pruned nodes, max_depth=5\u001b[0m\n",
      "\u001b[34m[161]#011train-error:0.0812#011validation-error:0.1391\u001b[0m\n",
      "\u001b[34m[05:56:32] src/tree/updater_prune.cc:74: tree pruning end, 1 roots, 24 extra nodes, 14 pruned nodes, max_depth=5\u001b[0m\n",
      "\u001b[34m[162]#011train-error:0.080733#011validation-error:0.1386\u001b[0m\n",
      "\u001b[34m[05:56:33] src/tree/updater_prune.cc:74: tree pruning end, 1 roots, 10 extra nodes, 6 pruned nodes, max_depth=5\u001b[0m\n",
      "\u001b[34m[163]#011train-error:0.0808#011validation-error:0.1388\u001b[0m\n",
      "\u001b[34m[05:56:35] src/tree/updater_prune.cc:74: tree pruning end, 1 roots, 20 extra nodes, 8 pruned nodes, max_depth=5\u001b[0m\n",
      "\u001b[34m[164]#011train-error:0.079933#011validation-error:0.1383\u001b[0m\n",
      "\u001b[34m[05:56:36] src/tree/updater_prune.cc:74: tree pruning end, 1 roots, 12 extra nodes, 2 pruned nodes, max_depth=5\u001b[0m\n",
      "\u001b[34m[165]#011train-error:0.079867#011validation-error:0.1386\u001b[0m\n",
      "\u001b[34m[05:56:37] src/tree/updater_prune.cc:74: tree pruning end, 1 roots, 20 extra nodes, 10 pruned nodes, max_depth=5\u001b[0m\n",
      "\u001b[34m[166]#011train-error:0.0798#011validation-error:0.1382\u001b[0m\n",
      "\u001b[34m[05:56:38] src/tree/updater_prune.cc:74: tree pruning end, 1 roots, 10 extra nodes, 10 pruned nodes, max_depth=5\u001b[0m\n",
      "\u001b[34m[167]#011train-error:0.079267#011validation-error:0.138\u001b[0m\n",
      "\u001b[34m[05:56:40] src/tree/updater_prune.cc:74: tree pruning end, 1 roots, 14 extra nodes, 6 pruned nodes, max_depth=5\u001b[0m\n",
      "\u001b[34m[168]#011train-error:0.079533#011validation-error:0.1379\u001b[0m\n",
      "\u001b[34m[05:56:41] src/tree/updater_prune.cc:74: tree pruning end, 1 roots, 10 extra nodes, 8 pruned nodes, max_depth=5\u001b[0m\n",
      "\u001b[34m[169]#011train-error:0.079533#011validation-error:0.1375\u001b[0m\n",
      "\u001b[34m[05:56:42] src/tree/updater_prune.cc:74: tree pruning end, 1 roots, 12 extra nodes, 8 pruned nodes, max_depth=5\u001b[0m\n",
      "\u001b[34m[170]#011train-error:0.0786#011validation-error:0.1372\u001b[0m\n",
      "\u001b[34m[05:56:43] src/tree/updater_prune.cc:74: tree pruning end, 1 roots, 26 extra nodes, 8 pruned nodes, max_depth=5\u001b[0m\n",
      "\u001b[34m[171]#011train-error:0.078#011validation-error:0.1363\u001b[0m\n",
      "\u001b[34m[05:56:45] src/tree/updater_prune.cc:74: tree pruning end, 1 roots, 14 extra nodes, 8 pruned nodes, max_depth=5\u001b[0m\n",
      "\u001b[34m[172]#011train-error:0.077533#011validation-error:0.1363\u001b[0m\n",
      "\u001b[34m[05:56:46] src/tree/updater_prune.cc:74: tree pruning end, 1 roots, 18 extra nodes, 2 pruned nodes, max_depth=5\u001b[0m\n",
      "\u001b[34m[173]#011train-error:0.077#011validation-error:0.1362\u001b[0m\n",
      "\u001b[34m[05:56:47] src/tree/updater_prune.cc:74: tree pruning end, 1 roots, 12 extra nodes, 12 pruned nodes, max_depth=5\u001b[0m\n",
      "\u001b[34m[174]#011train-error:0.076933#011validation-error:0.1362\u001b[0m\n",
      "\u001b[34m[05:56:48] src/tree/updater_prune.cc:74: tree pruning end, 1 roots, 14 extra nodes, 4 pruned nodes, max_depth=5\u001b[0m\n",
      "\u001b[34m[175]#011train-error:0.076867#011validation-error:0.136\u001b[0m\n",
      "\u001b[34m[05:56:50] src/tree/updater_prune.cc:74: tree pruning end, 1 roots, 20 extra nodes, 6 pruned nodes, max_depth=5\u001b[0m\n",
      "\u001b[34m[176]#011train-error:0.076467#011validation-error:0.1359\u001b[0m\n",
      "\u001b[34m[05:56:51] src/tree/updater_prune.cc:74: tree pruning end, 1 roots, 10 extra nodes, 2 pruned nodes, max_depth=5\u001b[0m\n",
      "\u001b[34m[177]#011train-error:0.0764#011validation-error:0.1359\u001b[0m\n",
      "\u001b[34m[05:56:52] src/tree/updater_prune.cc:74: tree pruning end, 1 roots, 12 extra nodes, 4 pruned nodes, max_depth=5\u001b[0m\n",
      "\u001b[34m[178]#011train-error:0.076267#011validation-error:0.1354\u001b[0m\n",
      "\u001b[34m[05:56:54] src/tree/updater_prune.cc:74: tree pruning end, 1 roots, 14 extra nodes, 6 pruned nodes, max_depth=5\u001b[0m\n",
      "\u001b[34m[179]#011train-error:0.076267#011validation-error:0.1352\u001b[0m\n",
      "\u001b[34m[05:56:55] src/tree/updater_prune.cc:74: tree pruning end, 1 roots, 10 extra nodes, 8 pruned nodes, max_depth=5\u001b[0m\n",
      "\u001b[34m[180]#011train-error:0.076133#011validation-error:0.1348\u001b[0m\n",
      "\u001b[34m[05:56:56] src/tree/updater_prune.cc:74: tree pruning end, 1 roots, 12 extra nodes, 8 pruned nodes, max_depth=5\u001b[0m\n",
      "\u001b[34m[181]#011train-error:0.0758#011validation-error:0.1346\u001b[0m\n",
      "\u001b[34m[05:56:57] src/tree/updater_prune.cc:74: tree pruning end, 1 roots, 14 extra nodes, 4 pruned nodes, max_depth=5\u001b[0m\n",
      "\u001b[34m[182]#011train-error:0.074933#011validation-error:0.1346\u001b[0m\n",
      "\u001b[34m[05:56:59] src/tree/updater_prune.cc:74: tree pruning end, 1 roots, 10 extra nodes, 12 pruned nodes, max_depth=5\u001b[0m\n",
      "\u001b[34m[183]#011train-error:0.075133#011validation-error:0.1339\u001b[0m\n",
      "\u001b[34m[05:57:00] src/tree/updater_prune.cc:74: tree pruning end, 1 roots, 22 extra nodes, 6 pruned nodes, max_depth=5\u001b[0m\n",
      "\u001b[34m[184]#011train-error:0.074867#011validation-error:0.1351\u001b[0m\n",
      "\u001b[34m[05:57:01] src/tree/updater_prune.cc:74: tree pruning end, 1 roots, 24 extra nodes, 20 pruned nodes, max_depth=5\u001b[0m\n",
      "\u001b[34m[185]#011train-error:0.075333#011validation-error:0.1358\u001b[0m\n",
      "\u001b[34m[05:57:02] src/tree/updater_prune.cc:74: tree pruning end, 1 roots, 12 extra nodes, 12 pruned nodes, max_depth=5\u001b[0m\n",
      "\u001b[34m[186]#011train-error:0.075267#011validation-error:0.1353\u001b[0m\n",
      "\u001b[34m[05:57:04] src/tree/updater_prune.cc:74: tree pruning end, 1 roots, 16 extra nodes, 4 pruned nodes, max_depth=5\u001b[0m\n",
      "\u001b[34m[187]#011train-error:0.074067#011validation-error:0.135\u001b[0m\n",
      "\u001b[34m[05:57:05] src/tree/updater_prune.cc:74: tree pruning end, 1 roots, 12 extra nodes, 6 pruned nodes, max_depth=5\u001b[0m\n",
      "\u001b[34m[188]#011train-error:0.074267#011validation-error:0.1347\u001b[0m\n",
      "\u001b[34m[05:57:06] src/tree/updater_prune.cc:74: tree pruning end, 1 roots, 12 extra nodes, 4 pruned nodes, max_depth=5\u001b[0m\n",
      "\u001b[34m[189]#011train-error:0.074133#011validation-error:0.1348\u001b[0m\n",
      "\u001b[34m[05:57:08] src/tree/updater_prune.cc:74: tree pruning end, 1 roots, 22 extra nodes, 4 pruned nodes, max_depth=5\u001b[0m\n",
      "\u001b[34m[190]#011train-error:0.073667#011validation-error:0.1354\u001b[0m\n",
      "\u001b[34m[05:57:09] src/tree/updater_prune.cc:74: tree pruning end, 1 roots, 24 extra nodes, 10 pruned nodes, max_depth=5\u001b[0m\n",
      "\u001b[34m[191]#011train-error:0.073267#011validation-error:0.1358\u001b[0m\n",
      "\u001b[34m[05:57:10] src/tree/updater_prune.cc:74: tree pruning end, 1 roots, 10 extra nodes, 10 pruned nodes, max_depth=5\u001b[0m\n",
      "\u001b[34m[192]#011train-error:0.072867#011validation-error:0.1358\u001b[0m\n",
      "\u001b[34m[05:57:11] src/tree/updater_prune.cc:74: tree pruning end, 1 roots, 10 extra nodes, 2 pruned nodes, max_depth=5\u001b[0m\n",
      "\u001b[34m[193]#011train-error:0.072667#011validation-error:0.1362\u001b[0m\n",
      "\u001b[34mStopping. Best iteration:\u001b[0m\n",
      "\u001b[34m[183]#011train-error:0.075133#011validation-error:0.1339\n",
      "\u001b[0m\n",
      "\n",
      "2020-07-19 05:58:09 Uploading - Uploading generated training model\n",
      "2020-07-19 05:58:09 Completed - Training job completed\n",
      "Training seconds: 364\n",
      "Billable seconds: 364\n"
     ]
    }
   ],
   "source": [
    "xgb.fit({'train': s3_input_train, 'validation': s3_input_validation})"
   ]
  },
  {
   "cell_type": "markdown",
   "metadata": {},
   "source": [
    "## Step 5: Testing the model\n",
    "\n",
    "Now that we've fit our XGBoost model, it's time to see how well it performs. To do this we will use SageMakers Batch Transform functionality. Batch Transform is a convenient way to perform inference on a large dataset in a way that is not realtime. That is, we don't necessarily need to use our model's results immediately and instead we can perform inference on a large number of samples. An example of this in industry might be performing an end of month report. This method of inference can also be useful to us as it means that we can perform inference on our entire test set. \n",
    "\n",
    "To perform a Batch Transformation we need to first create a transformer objects from our trained estimator object."
   ]
  },
  {
   "cell_type": "code",
   "execution_count": 24,
   "metadata": {},
   "outputs": [
    {
     "name": "stderr",
     "output_type": "stream",
     "text": [
      "WARNING:sagemaker:Parameter image will be renamed to image_uri in SageMaker Python SDK v2.\n"
     ]
    }
   ],
   "source": [
    "xgb_transformer = xgb.transformer(instance_count = 1, instance_type = 'ml.m4.xlarge')"
   ]
  },
  {
   "cell_type": "markdown",
   "metadata": {},
   "source": [
    "Next we actually perform the transform job. When doing so we need to make sure to specify the type of data we are sending so that it is serialized correctly in the background. In our case we are providing our model with csv data so we specify `text/csv`. Also, if the test data that we have provided is too large to process all at once then we need to specify how the data file should be split up. Since each line is a single entry in our data set we tell SageMaker that it can split the input on each line."
   ]
  },
  {
   "cell_type": "code",
   "execution_count": 25,
   "metadata": {},
   "outputs": [],
   "source": [
    "xgb_transformer.transform(test_location, content_type='text/csv', split_type='Line')"
   ]
  },
  {
   "cell_type": "markdown",
   "metadata": {},
   "source": [
    "Currently the transform job is running but it is doing so in the background. Since we wish to wait until the transform job is done and we would like a bit of feedback we can run the `wait()` method."
   ]
  },
  {
   "cell_type": "code",
   "execution_count": 26,
   "metadata": {},
   "outputs": [
    {
     "name": "stdout",
     "output_type": "stream",
     "text": [
      ".....................\u001b[34mArguments: serve\u001b[0m\n",
      "\u001b[34m[2020-07-19 06:01:58 +0000] [1] [INFO] Starting gunicorn 19.7.1\u001b[0m\n",
      "\u001b[34m[2020-07-19 06:01:58 +0000] [1] [INFO] Listening at: http://0.0.0.0:8080 (1)\u001b[0m\n",
      "\u001b[34m[2020-07-19 06:01:58 +0000] [1] [INFO] Using worker: gevent\u001b[0m\n",
      "\u001b[34m[2020-07-19 06:01:58 +0000] [37] [INFO] Booting worker with pid: 37\u001b[0m\n",
      "\u001b[34m[2020-07-19 06:01:58 +0000] [38] [INFO] Booting worker with pid: 38\u001b[0m\n",
      "\u001b[34m[2020-07-19 06:01:58 +0000] [39] [INFO] Booting worker with pid: 39\u001b[0m\n",
      "\u001b[34m[2020-07-19:06:01:58:INFO] Model loaded successfully for worker : 37\u001b[0m\n",
      "\u001b[34m[2020-07-19:06:01:58:INFO] Model loaded successfully for worker : 38\u001b[0m\n",
      "\u001b[34m[2020-07-19 06:01:58 +0000] [40] [INFO] Booting worker with pid: 40\u001b[0m\n",
      "\u001b[34m[2020-07-19:06:01:58:INFO] Model loaded successfully for worker : 39\u001b[0m\n",
      "\u001b[34m[2020-07-19:06:01:58:INFO] Model loaded successfully for worker : 40\u001b[0m\n",
      "\u001b[34m[2020-07-19:06:02:35:INFO] Sniff delimiter as ','\u001b[0m\n",
      "\u001b[34m[2020-07-19:06:02:35:INFO] Determined delimiter of CSV input is ','\u001b[0m\n",
      "\u001b[34m[2020-07-19:06:02:35:INFO] Sniff delimiter as ','\u001b[0m\n",
      "\u001b[34m[2020-07-19:06:02:35:INFO] Determined delimiter of CSV input is ','\u001b[0m\n",
      "\u001b[34m[2020-07-19:06:02:35:INFO] Sniff delimiter as ','\u001b[0m\n",
      "\u001b[34m[2020-07-19:06:02:35:INFO] Determined delimiter of CSV input is ','\u001b[0m\n",
      "\u001b[35m[2020-07-19:06:02:35:INFO] Sniff delimiter as ','\u001b[0m\n",
      "\u001b[35m[2020-07-19:06:02:35:INFO] Determined delimiter of CSV input is ','\u001b[0m\n",
      "\u001b[35m[2020-07-19:06:02:35:INFO] Sniff delimiter as ','\u001b[0m\n",
      "\u001b[35m[2020-07-19:06:02:35:INFO] Determined delimiter of CSV input is ','\u001b[0m\n",
      "\u001b[35m[2020-07-19:06:02:35:INFO] Sniff delimiter as ','\u001b[0m\n",
      "\u001b[35m[2020-07-19:06:02:35:INFO] Determined delimiter of CSV input is ','\u001b[0m\n",
      "\u001b[34m[2020-07-19:06:02:35:INFO] Sniff delimiter as ','\u001b[0m\n",
      "\u001b[34m[2020-07-19:06:02:35:INFO] Determined delimiter of CSV input is ','\u001b[0m\n",
      "\u001b[35m[2020-07-19:06:02:35:INFO] Sniff delimiter as ','\u001b[0m\n",
      "\u001b[35m[2020-07-19:06:02:35:INFO] Determined delimiter of CSV input is ','\u001b[0m\n",
      "\u001b[32m2020-07-19T06:02:32.217:[sagemaker logs]: MaxConcurrentTransforms=4, MaxPayloadInMB=6, BatchStrategy=MULTI_RECORD\u001b[0m\n",
      "\u001b[34m[2020-07-19:06:02:37:INFO] Sniff delimiter as ','\u001b[0m\n",
      "\u001b[34m[2020-07-19:06:02:37:INFO] Determined delimiter of CSV input is ','\u001b[0m\n",
      "\u001b[34m[2020-07-19:06:02:37:INFO] Sniff delimiter as ','\u001b[0m\n",
      "\u001b[34m[2020-07-19:06:02:37:INFO] Determined delimiter of CSV input is ','\u001b[0m\n",
      "\u001b[34m[2020-07-19:06:02:37:INFO] Sniff delimiter as ','\u001b[0m\n",
      "\u001b[34m[2020-07-19:06:02:37:INFO] Determined delimiter of CSV input is ','\u001b[0m\n",
      "\u001b[34m[2020-07-19:06:02:38:INFO] Sniff delimiter as ','\u001b[0m\n",
      "\u001b[34m[2020-07-19:06:02:38:INFO] Determined delimiter of CSV input is ','\u001b[0m\n",
      "\u001b[35m[2020-07-19:06:02:37:INFO] Sniff delimiter as ','\u001b[0m\n",
      "\u001b[35m[2020-07-19:06:02:37:INFO] Determined delimiter of CSV input is ','\u001b[0m\n",
      "\u001b[35m[2020-07-19:06:02:37:INFO] Sniff delimiter as ','\u001b[0m\n",
      "\u001b[35m[2020-07-19:06:02:37:INFO] Determined delimiter of CSV input is ','\u001b[0m\n",
      "\u001b[35m[2020-07-19:06:02:37:INFO] Sniff delimiter as ','\u001b[0m\n",
      "\u001b[35m[2020-07-19:06:02:37:INFO] Determined delimiter of CSV input is ','\u001b[0m\n",
      "\u001b[35m[2020-07-19:06:02:38:INFO] Sniff delimiter as ','\u001b[0m\n",
      "\u001b[35m[2020-07-19:06:02:38:INFO] Determined delimiter of CSV input is ','\u001b[0m\n",
      "\u001b[34m[2020-07-19:06:02:42:INFO] Sniff delimiter as ','\u001b[0m\n",
      "\u001b[34m[2020-07-19:06:02:42:INFO] Determined delimiter of CSV input is ','\u001b[0m\n",
      "\u001b[34m[2020-07-19:06:02:42:INFO] Sniff delimiter as ','\u001b[0m\n",
      "\u001b[34m[2020-07-19:06:02:42:INFO] Determined delimiter of CSV input is ','\u001b[0m\n",
      "\u001b[35m[2020-07-19:06:02:42:INFO] Sniff delimiter as ','\u001b[0m\n",
      "\u001b[35m[2020-07-19:06:02:42:INFO] Determined delimiter of CSV input is ','\u001b[0m\n",
      "\u001b[35m[2020-07-19:06:02:42:INFO] Sniff delimiter as ','\u001b[0m\n",
      "\u001b[35m[2020-07-19:06:02:42:INFO] Determined delimiter of CSV input is ','\u001b[0m\n",
      "\u001b[34m[2020-07-19:06:02:42:INFO] Sniff delimiter as ','\u001b[0m\n",
      "\u001b[34m[2020-07-19:06:02:42:INFO] Determined delimiter of CSV input is ','\u001b[0m\n",
      "\u001b[34m[2020-07-19:06:02:43:INFO] Sniff delimiter as ','\u001b[0m\n",
      "\u001b[34m[2020-07-19:06:02:43:INFO] Determined delimiter of CSV input is ','\u001b[0m\n",
      "\u001b[35m[2020-07-19:06:02:42:INFO] Sniff delimiter as ','\u001b[0m\n",
      "\u001b[35m[2020-07-19:06:02:42:INFO] Determined delimiter of CSV input is ','\u001b[0m\n",
      "\u001b[35m[2020-07-19:06:02:43:INFO] Sniff delimiter as ','\u001b[0m\n",
      "\u001b[35m[2020-07-19:06:02:43:INFO] Determined delimiter of CSV input is ','\u001b[0m\n",
      "\u001b[34m[2020-07-19:06:02:45:INFO] Sniff delimiter as ','\u001b[0m\n",
      "\u001b[34m[2020-07-19:06:02:45:INFO] Determined delimiter of CSV input is ','\u001b[0m\n",
      "\u001b[34m[2020-07-19:06:02:45:INFO] Sniff delimiter as ','\u001b[0m\n",
      "\u001b[34m[2020-07-19:06:02:45:INFO] Determined delimiter of CSV input is ','\u001b[0m\n",
      "\u001b[34m[2020-07-19:06:02:45:INFO] Sniff delimiter as ','\u001b[0m\n",
      "\u001b[34m[2020-07-19:06:02:45:INFO] Determined delimiter of CSV input is ','\u001b[0m\n",
      "\u001b[34m[2020-07-19:06:02:45:INFO] Sniff delimiter as ','\u001b[0m\n",
      "\u001b[34m[2020-07-19:06:02:45:INFO] Determined delimiter of CSV input is ','\u001b[0m\n",
      "\u001b[35m[2020-07-19:06:02:45:INFO] Sniff delimiter as ','\u001b[0m\n",
      "\u001b[35m[2020-07-19:06:02:45:INFO] Determined delimiter of CSV input is ','\u001b[0m\n",
      "\u001b[35m[2020-07-19:06:02:45:INFO] Sniff delimiter as ','\u001b[0m\n",
      "\u001b[35m[2020-07-19:06:02:45:INFO] Determined delimiter of CSV input is ','\u001b[0m\n",
      "\u001b[35m[2020-07-19:06:02:45:INFO] Sniff delimiter as ','\u001b[0m\n",
      "\u001b[35m[2020-07-19:06:02:45:INFO] Determined delimiter of CSV input is ','\u001b[0m\n",
      "\u001b[35m[2020-07-19:06:02:45:INFO] Sniff delimiter as ','\u001b[0m\n",
      "\u001b[35m[2020-07-19:06:02:45:INFO] Determined delimiter of CSV input is ','\u001b[0m\n",
      "\u001b[34m[2020-07-19:06:02:47:INFO] Sniff delimiter as ','\u001b[0m\n",
      "\u001b[34m[2020-07-19:06:02:47:INFO] Determined delimiter of CSV input is ','\u001b[0m\n",
      "\u001b[34m[2020-07-19:06:02:47:INFO] Sniff delimiter as ','\u001b[0m\n",
      "\u001b[34m[2020-07-19:06:02:47:INFO] Determined delimiter of CSV input is ','\u001b[0m\n",
      "\u001b[35m[2020-07-19:06:02:47:INFO] Sniff delimiter as ','\u001b[0m\n",
      "\u001b[35m[2020-07-19:06:02:47:INFO] Determined delimiter of CSV input is ','\u001b[0m\n",
      "\u001b[35m[2020-07-19:06:02:47:INFO] Sniff delimiter as ','\u001b[0m\n",
      "\u001b[35m[2020-07-19:06:02:47:INFO] Determined delimiter of CSV input is ','\u001b[0m\n",
      "\u001b[34m[2020-07-19:06:02:47:INFO] Sniff delimiter as ','\u001b[0m\n",
      "\u001b[34m[2020-07-19:06:02:47:INFO] Determined delimiter of CSV input is ','\u001b[0m\n",
      "\u001b[34m[2020-07-19:06:02:47:INFO] Sniff delimiter as ','\u001b[0m\n",
      "\u001b[34m[2020-07-19:06:02:48:INFO] Determined delimiter of CSV input is ','\u001b[0m\n",
      "\u001b[35m[2020-07-19:06:02:47:INFO] Sniff delimiter as ','\u001b[0m\n",
      "\u001b[35m[2020-07-19:06:02:47:INFO] Determined delimiter of CSV input is ','\u001b[0m\n",
      "\u001b[35m[2020-07-19:06:02:47:INFO] Sniff delimiter as ','\u001b[0m\n",
      "\u001b[35m[2020-07-19:06:02:48:INFO] Determined delimiter of CSV input is ','\u001b[0m\n",
      "\u001b[34m[2020-07-19:06:02:50:INFO] Sniff delimiter as ','\u001b[0m\n",
      "\u001b[34m[2020-07-19:06:02:50:INFO] Determined delimiter of CSV input is ','\u001b[0m\n",
      "\u001b[34m[2020-07-19:06:02:50:INFO] Sniff delimiter as ','\u001b[0m\n",
      "\u001b[34m[2020-07-19:06:02:50:INFO] Determined delimiter of CSV input is ','\u001b[0m\n",
      "\u001b[35m[2020-07-19:06:02:50:INFO] Sniff delimiter as ','\u001b[0m\n",
      "\u001b[35m[2020-07-19:06:02:50:INFO] Determined delimiter of CSV input is ','\u001b[0m\n",
      "\u001b[35m[2020-07-19:06:02:50:INFO] Sniff delimiter as ','\u001b[0m\n",
      "\u001b[35m[2020-07-19:06:02:50:INFO] Determined delimiter of CSV input is ','\u001b[0m\n",
      "\u001b[34m[2020-07-19:06:02:52:INFO] Sniff delimiter as ','\u001b[0m\n",
      "\u001b[34m[2020-07-19:06:02:52:INFO] Determined delimiter of CSV input is ','\u001b[0m\n",
      "\u001b[34m[2020-07-19:06:02:52:INFO] Sniff delimiter as ','\u001b[0m\n",
      "\u001b[34m[2020-07-19:06:02:52:INFO] Determined delimiter of CSV input is ','\u001b[0m\n",
      "\u001b[34m[2020-07-19:06:02:52:INFO] Sniff delimiter as ','\u001b[0m\n",
      "\u001b[34m[2020-07-19:06:02:52:INFO] Determined delimiter of CSV input is ','\u001b[0m\n",
      "\u001b[35m[2020-07-19:06:02:52:INFO] Sniff delimiter as ','\u001b[0m\n",
      "\u001b[35m[2020-07-19:06:02:52:INFO] Determined delimiter of CSV input is ','\u001b[0m\n",
      "\u001b[35m[2020-07-19:06:02:52:INFO] Sniff delimiter as ','\u001b[0m\n",
      "\u001b[35m[2020-07-19:06:02:52:INFO] Determined delimiter of CSV input is ','\u001b[0m\n",
      "\u001b[35m[2020-07-19:06:02:52:INFO] Sniff delimiter as ','\u001b[0m\n",
      "\u001b[35m[2020-07-19:06:02:52:INFO] Determined delimiter of CSV input is ','\u001b[0m\n",
      "\u001b[34m[2020-07-19:06:02:52:INFO] Sniff delimiter as ','\u001b[0m\n",
      "\u001b[34m[2020-07-19:06:02:52:INFO] Determined delimiter of CSV input is ','\u001b[0m\n",
      "\u001b[35m[2020-07-19:06:02:52:INFO] Sniff delimiter as ','\u001b[0m\n",
      "\u001b[35m[2020-07-19:06:02:52:INFO] Determined delimiter of CSV input is ','\u001b[0m\n",
      "\u001b[34m[2020-07-19:06:02:54:INFO] Sniff delimiter as ','\u001b[0m\n",
      "\u001b[34m[2020-07-19:06:02:54:INFO] Determined delimiter of CSV input is ','\u001b[0m\n",
      "\u001b[34m[2020-07-19:06:02:55:INFO] Sniff delimiter as ','\u001b[0m\n",
      "\u001b[34m[2020-07-19:06:02:55:INFO] Determined delimiter of CSV input is ','\u001b[0m\n",
      "\u001b[34m[2020-07-19:06:02:55:INFO] Sniff delimiter as ','\u001b[0m\n",
      "\u001b[34m[2020-07-19:06:02:55:INFO] Determined delimiter of CSV input is ','\u001b[0m\n",
      "\u001b[34m[2020-07-19:06:02:55:INFO] Sniff delimiter as ','\u001b[0m\n",
      "\u001b[34m[2020-07-19:06:02:55:INFO] Determined delimiter of CSV input is ','\u001b[0m\n",
      "\u001b[35m[2020-07-19:06:02:54:INFO] Sniff delimiter as ','\u001b[0m\n",
      "\u001b[35m[2020-07-19:06:02:54:INFO] Determined delimiter of CSV input is ','\u001b[0m\n",
      "\u001b[35m[2020-07-19:06:02:55:INFO] Sniff delimiter as ','\u001b[0m\n",
      "\u001b[35m[2020-07-19:06:02:55:INFO] Determined delimiter of CSV input is ','\u001b[0m\n",
      "\u001b[35m[2020-07-19:06:02:55:INFO] Sniff delimiter as ','\u001b[0m\n",
      "\u001b[35m[2020-07-19:06:02:55:INFO] Determined delimiter of CSV input is ','\u001b[0m\n",
      "\u001b[35m[2020-07-19:06:02:55:INFO] Sniff delimiter as ','\u001b[0m\n",
      "\u001b[35m[2020-07-19:06:02:55:INFO] Determined delimiter of CSV input is ','\u001b[0m\n",
      "\u001b[34m[2020-07-19:06:02:57:INFO] Sniff delimiter as ','\u001b[0m\n",
      "\u001b[34m[2020-07-19:06:02:57:INFO] Determined delimiter of CSV input is ','\u001b[0m\n",
      "\u001b[34m[2020-07-19:06:02:57:INFO] Sniff delimiter as ','\u001b[0m\n",
      "\u001b[34m[2020-07-19:06:02:57:INFO] Determined delimiter of CSV input is ','\u001b[0m\n",
      "\u001b[34m[2020-07-19:06:02:57:INFO] Sniff delimiter as ','\u001b[0m\n",
      "\u001b[34m[2020-07-19:06:02:57:INFO] Determined delimiter of CSV input is ','\u001b[0m\n",
      "\u001b[34m[2020-07-19:06:02:57:INFO] Sniff delimiter as ','\u001b[0m\n",
      "\u001b[34m[2020-07-19:06:02:57:INFO] Determined delimiter of CSV input is ','\u001b[0m\n",
      "\u001b[35m[2020-07-19:06:02:57:INFO] Sniff delimiter as ','\u001b[0m\n",
      "\u001b[35m[2020-07-19:06:02:57:INFO] Determined delimiter of CSV input is ','\u001b[0m\n",
      "\u001b[35m[2020-07-19:06:02:57:INFO] Sniff delimiter as ','\u001b[0m\n",
      "\u001b[35m[2020-07-19:06:02:57:INFO] Determined delimiter of CSV input is ','\u001b[0m\n",
      "\u001b[35m[2020-07-19:06:02:57:INFO] Sniff delimiter as ','\u001b[0m\n",
      "\u001b[35m[2020-07-19:06:02:57:INFO] Determined delimiter of CSV input is ','\u001b[0m\n",
      "\u001b[35m[2020-07-19:06:02:57:INFO] Sniff delimiter as ','\u001b[0m\n",
      "\u001b[35m[2020-07-19:06:02:57:INFO] Determined delimiter of CSV input is ','\u001b[0m\n",
      "\n"
     ]
    }
   ],
   "source": [
    "xgb_transformer.wait()"
   ]
  },
  {
   "cell_type": "markdown",
   "metadata": {},
   "source": [
    "Now the transform job has executed and the result, the estimated sentiment of each review, has been saved on S3. Since we would rather work on this file locally we can perform a bit of notebook magic to copy the file to the `data_dir`."
   ]
  },
  {
   "cell_type": "code",
   "execution_count": 27,
   "metadata": {},
   "outputs": [
    {
     "name": "stdout",
     "output_type": "stream",
     "text": [
      "download: s3://sagemaker-us-east-1-749370112728/xgboost-2020-07-19-05-58-40-650/test.csv.out to ../data/sentiment_web_app/test.csv.out\r\n"
     ]
    }
   ],
   "source": [
    "!aws s3 cp --recursive $xgb_transformer.output_path $data_dir"
   ]
  },
  {
   "cell_type": "markdown",
   "metadata": {},
   "source": [
    "The last step is now to read in the output from our model, convert the output to something a little more usable, in this case we want the sentiment to be either `1` (positive) or `0` (negative), and then compare to the ground truth labels."
   ]
  },
  {
   "cell_type": "code",
   "execution_count": 28,
   "metadata": {},
   "outputs": [],
   "source": [
    "predictions = pd.read_csv(os.path.join(data_dir, 'test.csv.out'), header=None)\n",
    "predictions = [round(num) for num in predictions.squeeze().values]"
   ]
  },
  {
   "cell_type": "code",
   "execution_count": 29,
   "metadata": {},
   "outputs": [
    {
     "data": {
      "text/plain": [
       "0.862"
      ]
     },
     "execution_count": 29,
     "metadata": {},
     "output_type": "execute_result"
    }
   ],
   "source": [
    "from sklearn.metrics import accuracy_score\n",
    "accuracy_score(test_y, predictions)"
   ]
  },
  {
   "cell_type": "markdown",
   "metadata": {},
   "source": [
    "## Step 6: Deploying the model\n",
    "\n",
    "Once we construct and fit our model, SageMaker stores the resulting model artifacts and we can use those to deploy an endpoint (inference code). To see this, look in the SageMaker console and you should see that a model has been created along with a link to the S3 location where the model artifacts have been stored.\n",
    "\n",
    "Deploying an endpoint is a lot like training the model with a few important differences. The first is that a deployed model doesn't change the model artifacts, so as you send it various testing instances the model won't change. Another difference is that since we aren't performing a fixed computation, as we were in the training step or while performing a batch transform, the compute instance that gets started stays running until we tell it to stop. This is important to note as if we forget and leave it running we will be charged the entire time.\n",
    "\n",
    "In other words **If you are no longer using a deployed endpoint, shut it down!**"
   ]
  },
  {
   "cell_type": "code",
   "execution_count": 30,
   "metadata": {},
   "outputs": [
    {
     "name": "stderr",
     "output_type": "stream",
     "text": [
      "WARNING:sagemaker:Parameter image will be renamed to image_uri in SageMaker Python SDK v2.\n",
      "WARNING:sagemaker:Using already existing model: xgboost-2020-07-19-05-49-23-540\n"
     ]
    },
    {
     "name": "stdout",
     "output_type": "stream",
     "text": [
      "---------------!"
     ]
    }
   ],
   "source": [
    "xgb_predictor = xgb.deploy(initial_instance_count = 1, instance_type = 'ml.m4.xlarge')"
   ]
  },
  {
   "cell_type": "markdown",
   "metadata": {},
   "source": [
    "### Testing the model (again)\n",
    "\n",
    "Now that we have deployed our endpoint, we can send the testing data to it and get back the inference results. We already did this earlier using the batch transform functionality of SageMaker, however, we will test our model again using the newly deployed endpoint so that we can make sure that it works properly and to get a bit of a feel for how the endpoint works.\n",
    "\n",
    "When using the created endpoint it is important to know that we are limited in the amount of information we can send in each call so we need to break the testing data up into chunks and then send each chunk. Also, we need to serialize our data before we send it to the endpoint to ensure that our data is transmitted properly. Fortunately, SageMaker can do the serialization part for us provided we tell it the format of our data."
   ]
  },
  {
   "cell_type": "code",
   "execution_count": 31,
   "metadata": {},
   "outputs": [],
   "source": [
    "from sagemaker.predictor import csv_serializer\n",
    "\n",
    "# We need to tell the endpoint what format the data we are sending is in so that SageMaker can perform the serialization.\n",
    "xgb_predictor.content_type = 'text/csv'\n",
    "xgb_predictor.serializer = csv_serializer"
   ]
  },
  {
   "cell_type": "code",
   "execution_count": 32,
   "metadata": {},
   "outputs": [],
   "source": [
    "# We split the data into chunks and send each chunk seperately, accumulating the results.\n",
    "\n",
    "def predict(data, rows=512):\n",
    "    split_array = np.array_split(data, int(data.shape[0] / float(rows) + 1))\n",
    "    predictions = ''\n",
    "    for array in split_array:\n",
    "        predictions = ','.join([predictions, xgb_predictor.predict(array).decode('utf-8')])\n",
    "    \n",
    "    return np.fromstring(predictions[1:], sep=',')"
   ]
  },
  {
   "cell_type": "code",
   "execution_count": 33,
   "metadata": {},
   "outputs": [],
   "source": [
    "test_X = pd.read_csv(os.path.join(data_dir, 'test.csv'), header=None).values\n",
    "\n",
    "predictions = predict(test_X)\n",
    "predictions = [round(num) for num in predictions]"
   ]
  },
  {
   "cell_type": "markdown",
   "metadata": {},
   "source": [
    "Lastly, we check to see what the accuracy of our model is."
   ]
  },
  {
   "cell_type": "code",
   "execution_count": 36,
   "metadata": {},
   "outputs": [
    {
     "data": {
      "text/plain": [
       "0.862"
      ]
     },
     "execution_count": 36,
     "metadata": {},
     "output_type": "execute_result"
    }
   ],
   "source": [
    "from sklearn.metrics import accuracy_score\n",
    "accuracy_score(test_y, predictions)"
   ]
  },
  {
   "cell_type": "markdown",
   "metadata": {},
   "source": [
    "And the results here should agree with the model testing that we did earlier using the batch transform job.\n",
    "\n",
    "### Cleaning up\n",
    "\n",
    "Now that we've determined that deploying our model works as expected, we are going to shut it down. Remember that the longer the endpoint is left running, the greater the cost and since we have a bit more work to do before we are able to use our endpoint with our simple web app, we should shut everything down."
   ]
  },
  {
   "cell_type": "code",
   "execution_count": 37,
   "metadata": {},
   "outputs": [
    {
     "ename": "ClientError",
     "evalue": "An error occurred (ValidationException) when calling the DeleteEndpointConfig operation: Could not find endpoint configuration \"arn:aws:sagemaker:us-east-1:749370112728:endpoint-config/xgboost-2020-07-19-05-49-23-540\".",
     "output_type": "error",
     "traceback": [
      "\u001b[0;31m---------------------------------------------------------------------------\u001b[0m",
      "\u001b[0;31mClientError\u001b[0m                               Traceback (most recent call last)",
      "\u001b[0;32m<ipython-input-37-16a6b43a8b29>\u001b[0m in \u001b[0;36m<module>\u001b[0;34m\u001b[0m\n\u001b[0;32m----> 1\u001b[0;31m \u001b[0mxgb_predictor\u001b[0m\u001b[0;34m.\u001b[0m\u001b[0mdelete_endpoint\u001b[0m\u001b[0;34m(\u001b[0m\u001b[0;34m)\u001b[0m\u001b[0;34m\u001b[0m\u001b[0;34m\u001b[0m\u001b[0m\n\u001b[0m",
      "\u001b[0;32m~/anaconda3/envs/python3/lib/python3.6/site-packages/sagemaker/predictor.py\u001b[0m in \u001b[0;36mdelete_endpoint\u001b[0;34m(self, delete_endpoint_config)\u001b[0m\n\u001b[1;32m    174\u001b[0m         \"\"\"\n\u001b[1;32m    175\u001b[0m         \u001b[0;32mif\u001b[0m \u001b[0mdelete_endpoint_config\u001b[0m\u001b[0;34m:\u001b[0m\u001b[0;34m\u001b[0m\u001b[0;34m\u001b[0m\u001b[0m\n\u001b[0;32m--> 176\u001b[0;31m             \u001b[0mself\u001b[0m\u001b[0;34m.\u001b[0m\u001b[0m_delete_endpoint_config\u001b[0m\u001b[0;34m(\u001b[0m\u001b[0;34m)\u001b[0m\u001b[0;34m\u001b[0m\u001b[0;34m\u001b[0m\u001b[0m\n\u001b[0m\u001b[1;32m    177\u001b[0m \u001b[0;34m\u001b[0m\u001b[0m\n\u001b[1;32m    178\u001b[0m         \u001b[0mself\u001b[0m\u001b[0;34m.\u001b[0m\u001b[0msagemaker_session\u001b[0m\u001b[0;34m.\u001b[0m\u001b[0mdelete_endpoint\u001b[0m\u001b[0;34m(\u001b[0m\u001b[0mself\u001b[0m\u001b[0;34m.\u001b[0m\u001b[0mendpoint\u001b[0m\u001b[0;34m)\u001b[0m\u001b[0;34m\u001b[0m\u001b[0;34m\u001b[0m\u001b[0m\n",
      "\u001b[0;32m~/anaconda3/envs/python3/lib/python3.6/site-packages/sagemaker/predictor.py\u001b[0m in \u001b[0;36m_delete_endpoint_config\u001b[0;34m(self)\u001b[0m\n\u001b[1;32m    160\u001b[0m     \u001b[0;32mdef\u001b[0m \u001b[0m_delete_endpoint_config\u001b[0m\u001b[0;34m(\u001b[0m\u001b[0mself\u001b[0m\u001b[0;34m)\u001b[0m\u001b[0;34m:\u001b[0m\u001b[0;34m\u001b[0m\u001b[0;34m\u001b[0m\u001b[0m\n\u001b[1;32m    161\u001b[0m         \u001b[0;34m\"\"\"Delete the Amazon SageMaker endpoint configuration\"\"\"\u001b[0m\u001b[0;34m\u001b[0m\u001b[0;34m\u001b[0m\u001b[0m\n\u001b[0;32m--> 162\u001b[0;31m         \u001b[0mself\u001b[0m\u001b[0;34m.\u001b[0m\u001b[0msagemaker_session\u001b[0m\u001b[0;34m.\u001b[0m\u001b[0mdelete_endpoint_config\u001b[0m\u001b[0;34m(\u001b[0m\u001b[0mself\u001b[0m\u001b[0;34m.\u001b[0m\u001b[0m_endpoint_config_name\u001b[0m\u001b[0;34m)\u001b[0m\u001b[0;34m\u001b[0m\u001b[0;34m\u001b[0m\u001b[0m\n\u001b[0m\u001b[1;32m    163\u001b[0m \u001b[0;34m\u001b[0m\u001b[0m\n\u001b[1;32m    164\u001b[0m     \u001b[0;32mdef\u001b[0m \u001b[0mdelete_endpoint\u001b[0m\u001b[0;34m(\u001b[0m\u001b[0mself\u001b[0m\u001b[0;34m,\u001b[0m \u001b[0mdelete_endpoint_config\u001b[0m\u001b[0;34m=\u001b[0m\u001b[0;32mTrue\u001b[0m\u001b[0;34m)\u001b[0m\u001b[0;34m:\u001b[0m\u001b[0;34m\u001b[0m\u001b[0;34m\u001b[0m\u001b[0m\n",
      "\u001b[0;32m~/anaconda3/envs/python3/lib/python3.6/site-packages/sagemaker/session.py\u001b[0m in \u001b[0;36mdelete_endpoint_config\u001b[0;34m(self, endpoint_config_name)\u001b[0m\n\u001b[1;32m   2471\u001b[0m         \"\"\"\n\u001b[1;32m   2472\u001b[0m         \u001b[0mLOGGER\u001b[0m\u001b[0;34m.\u001b[0m\u001b[0minfo\u001b[0m\u001b[0;34m(\u001b[0m\u001b[0;34m\"Deleting endpoint configuration with name: %s\"\u001b[0m\u001b[0;34m,\u001b[0m \u001b[0mendpoint_config_name\u001b[0m\u001b[0;34m)\u001b[0m\u001b[0;34m\u001b[0m\u001b[0;34m\u001b[0m\u001b[0m\n\u001b[0;32m-> 2473\u001b[0;31m         \u001b[0mself\u001b[0m\u001b[0;34m.\u001b[0m\u001b[0msagemaker_client\u001b[0m\u001b[0;34m.\u001b[0m\u001b[0mdelete_endpoint_config\u001b[0m\u001b[0;34m(\u001b[0m\u001b[0mEndpointConfigName\u001b[0m\u001b[0;34m=\u001b[0m\u001b[0mendpoint_config_name\u001b[0m\u001b[0;34m)\u001b[0m\u001b[0;34m\u001b[0m\u001b[0;34m\u001b[0m\u001b[0m\n\u001b[0m\u001b[1;32m   2474\u001b[0m \u001b[0;34m\u001b[0m\u001b[0m\n\u001b[1;32m   2475\u001b[0m     \u001b[0;32mdef\u001b[0m \u001b[0mdelete_model\u001b[0m\u001b[0;34m(\u001b[0m\u001b[0mself\u001b[0m\u001b[0;34m,\u001b[0m \u001b[0mmodel_name\u001b[0m\u001b[0;34m)\u001b[0m\u001b[0;34m:\u001b[0m\u001b[0;34m\u001b[0m\u001b[0;34m\u001b[0m\u001b[0m\n",
      "\u001b[0;32m~/anaconda3/envs/python3/lib/python3.6/site-packages/botocore/client.py\u001b[0m in \u001b[0;36m_api_call\u001b[0;34m(self, *args, **kwargs)\u001b[0m\n\u001b[1;32m    314\u001b[0m                     \"%s() only accepts keyword arguments.\" % py_operation_name)\n\u001b[1;32m    315\u001b[0m             \u001b[0;31m# The \"self\" in this scope is referring to the BaseClient.\u001b[0m\u001b[0;34m\u001b[0m\u001b[0;34m\u001b[0m\u001b[0;34m\u001b[0m\u001b[0m\n\u001b[0;32m--> 316\u001b[0;31m             \u001b[0;32mreturn\u001b[0m \u001b[0mself\u001b[0m\u001b[0;34m.\u001b[0m\u001b[0m_make_api_call\u001b[0m\u001b[0;34m(\u001b[0m\u001b[0moperation_name\u001b[0m\u001b[0;34m,\u001b[0m \u001b[0mkwargs\u001b[0m\u001b[0;34m)\u001b[0m\u001b[0;34m\u001b[0m\u001b[0;34m\u001b[0m\u001b[0m\n\u001b[0m\u001b[1;32m    317\u001b[0m \u001b[0;34m\u001b[0m\u001b[0m\n\u001b[1;32m    318\u001b[0m         \u001b[0m_api_call\u001b[0m\u001b[0;34m.\u001b[0m\u001b[0m__name__\u001b[0m \u001b[0;34m=\u001b[0m \u001b[0mstr\u001b[0m\u001b[0;34m(\u001b[0m\u001b[0mpy_operation_name\u001b[0m\u001b[0;34m)\u001b[0m\u001b[0;34m\u001b[0m\u001b[0;34m\u001b[0m\u001b[0m\n",
      "\u001b[0;32m~/anaconda3/envs/python3/lib/python3.6/site-packages/botocore/client.py\u001b[0m in \u001b[0;36m_make_api_call\u001b[0;34m(self, operation_name, api_params)\u001b[0m\n\u001b[1;32m    633\u001b[0m             \u001b[0merror_code\u001b[0m \u001b[0;34m=\u001b[0m \u001b[0mparsed_response\u001b[0m\u001b[0;34m.\u001b[0m\u001b[0mget\u001b[0m\u001b[0;34m(\u001b[0m\u001b[0;34m\"Error\"\u001b[0m\u001b[0;34m,\u001b[0m \u001b[0;34m{\u001b[0m\u001b[0;34m}\u001b[0m\u001b[0;34m)\u001b[0m\u001b[0;34m.\u001b[0m\u001b[0mget\u001b[0m\u001b[0;34m(\u001b[0m\u001b[0;34m\"Code\"\u001b[0m\u001b[0;34m)\u001b[0m\u001b[0;34m\u001b[0m\u001b[0;34m\u001b[0m\u001b[0m\n\u001b[1;32m    634\u001b[0m             \u001b[0merror_class\u001b[0m \u001b[0;34m=\u001b[0m \u001b[0mself\u001b[0m\u001b[0;34m.\u001b[0m\u001b[0mexceptions\u001b[0m\u001b[0;34m.\u001b[0m\u001b[0mfrom_code\u001b[0m\u001b[0;34m(\u001b[0m\u001b[0merror_code\u001b[0m\u001b[0;34m)\u001b[0m\u001b[0;34m\u001b[0m\u001b[0;34m\u001b[0m\u001b[0m\n\u001b[0;32m--> 635\u001b[0;31m             \u001b[0;32mraise\u001b[0m \u001b[0merror_class\u001b[0m\u001b[0;34m(\u001b[0m\u001b[0mparsed_response\u001b[0m\u001b[0;34m,\u001b[0m \u001b[0moperation_name\u001b[0m\u001b[0;34m)\u001b[0m\u001b[0;34m\u001b[0m\u001b[0;34m\u001b[0m\u001b[0m\n\u001b[0m\u001b[1;32m    636\u001b[0m         \u001b[0;32melse\u001b[0m\u001b[0;34m:\u001b[0m\u001b[0;34m\u001b[0m\u001b[0;34m\u001b[0m\u001b[0m\n\u001b[1;32m    637\u001b[0m             \u001b[0;32mreturn\u001b[0m \u001b[0mparsed_response\u001b[0m\u001b[0;34m\u001b[0m\u001b[0;34m\u001b[0m\u001b[0m\n",
      "\u001b[0;31mClientError\u001b[0m: An error occurred (ValidationException) when calling the DeleteEndpointConfig operation: Could not find endpoint configuration \"arn:aws:sagemaker:us-east-1:749370112728:endpoint-config/xgboost-2020-07-19-05-49-23-540\"."
     ]
    }
   ],
   "source": [
    "xgb_predictor.delete_endpoint()"
   ]
  },
  {
   "cell_type": "markdown",
   "metadata": {},
   "source": [
    "## Step 7: Putting our model to work\n",
    "\n",
    "As we've mentioned a few times now, our goal is to have our model deployed and then access it using a very simple web app. The intent is for this web app to take some user submitted data (a review), send it off to our endpoint (the model) and then display the result.\n",
    "\n",
    "However, there is a small catch. Currently the only way we can access the endpoint to send it data is using the SageMaker API. We can, if we wish, expose the actual URL that our model's endpoint is receiving data from, however, if we just send it data ourselves we will not get anything in return. This is because the endpoint created by SageMaker requires the entity accessing it have the correct permissions. So, we would need to somehow authenticate our web app with AWS.\n",
    "\n",
    "Having a website that authenticates to AWS seems a bit beyond the scope of this lesson so we will opt for an alternative approach. Namely, we will create a new endpoint which does not require authentication and which acts as a proxy for the SageMaker endpoint.\n",
    "\n",
    "As an additional constraint, we will try to avoid doing any data processing in the web app itself. Remember that when we constructed and tested our model we started with a movie review, then we simplified it by removing any html formatting and punctuation, then we constructed a bag of words embedding and the resulting vector is what we sent to our model. All of this needs to be done to our user input as well.\n",
    "\n",
    "Fortunately we can do all of this data processing in the backend, using Amazon's Lambda service.\n",
    "\n",
    "<img src=\"Web App Diagram.svg\">\n",
    "\n",
    "The diagram above gives an overview of how the various services will work together. On the far right is the model which we trained above and which will be deployed using SageMaker. On the far left is our web app that collects a user's movie review, sends it off and expects a positive or negative sentiment in return.\n",
    "\n",
    "In the middle is where some of the magic happens. We will construct a Lambda function, which you can think of as a straightforward Python function that can be executed whenever a specified event occurs. This Python function will do the data processing we need to perform on a user submitted review. In addition, we will give this function permission to send and recieve data from a SageMaker endpoint.\n",
    "\n",
    "Lastly, the method we will use to execute the Lambda function is a new endpoint that we will create using API Gateway. This endpoint will be a url that listens for data to be sent to it. Once it gets some data it will pass that data on to the Lambda function and then return whatever the Lambda function returns. Essentially it will act as an interface that lets our web app communicate with the Lambda function.\n",
    "\n",
    "### Processing a single review\n",
    "\n",
    "For now, suppose we are given a movie review by our user in the form of a string, like so:"
   ]
  },
  {
   "cell_type": "code",
   "execution_count": 38,
   "metadata": {},
   "outputs": [],
   "source": [
    "test_review = \"Nothing but a disgusting materialistic pageant of glistening abed remote control greed zombies, totally devoid of any heart or heat. A romantic comedy that has zero romantic chemestry and zero laughs!\""
   ]
  },
  {
   "cell_type": "markdown",
   "metadata": {},
   "source": [
    "How do we go from this string to the bag of words feature vector that is expected by our model?\n",
    "\n",
    "If we recall at the beginning of this notebook, the first step is to remove any unnecessary characters using the `review_to_words` method. Remember that we intentionally did this in a very simplistic way. This is because we are going to have to copy this method to our (eventual) Lambda function (we will go into more detail later) and this means it needs to be rather simplistic."
   ]
  },
  {
   "cell_type": "code",
   "execution_count": 39,
   "metadata": {},
   "outputs": [
    {
     "name": "stdout",
     "output_type": "stream",
     "text": [
      "nothing but a disgusting materialistic pageant of glistening abed remote control greed zombies totally devoid of any heart or heat a romantic comedy that has zero romantic chemestry and zero laughs\n"
     ]
    }
   ],
   "source": [
    "test_words = review_to_words(test_review)\n",
    "print(test_words)"
   ]
  },
  {
   "cell_type": "markdown",
   "metadata": {},
   "source": [
    "Next, we need to construct a bag of words embedding of the `test_words` string. To do this, remember that a bag of words embedding uses a `vocabulary` consisting of the most frequently appearing words in a set of documents. Then, for each word in the vocabulary we record the number of times that word appears in `test_words`. We constructed the `vocabulary` earlier using the training set for our problem so encoding `test_words` is relatively straightforward."
   ]
  },
  {
   "cell_type": "code",
   "execution_count": 40,
   "metadata": {},
   "outputs": [],
   "source": [
    "def bow_encoding(words, vocabulary):\n",
    "    bow = [0] * len(vocabulary) # Start by setting the count for each word in the vocabulary to zero.\n",
    "    for word in words.split():  # For each word in the string\n",
    "        if word in vocabulary:  # If the word is one that occurs in the vocabulary, increase its count.\n",
    "            bow[vocabulary[word]] += 1\n",
    "    return bow"
   ]
  },
  {
   "cell_type": "code",
   "execution_count": 41,
   "metadata": {},
   "outputs": [
    {
     "name": "stdout",
     "output_type": "stream",
     "text": [
      "[0, 0, 0, 0, 0, 0, 0, 0, 0, 0, 0, 0, 0, 0, 0, 0, 0, 0, 0, 0, 0, 0, 0, 0, 0, 0, 0, 0, 0, 0, 0, 0, 0, 0, 0, 0, 0, 0, 0, 0, 0, 0, 0, 0, 0, 0, 0, 0, 0, 0, 0, 0, 0, 0, 0, 0, 0, 0, 0, 0, 0, 0, 0, 0, 0, 0, 0, 0, 0, 0, 0, 0, 0, 0, 0, 0, 0, 0, 0, 0, 0, 0, 0, 0, 0, 0, 0, 0, 0, 0, 0, 0, 0, 0, 0, 0, 0, 0, 0, 0, 0, 0, 0, 0, 0, 0, 0, 0, 0, 0, 0, 0, 0, 0, 0, 0, 0, 0, 0, 0, 0, 0, 0, 0, 0, 0, 0, 0, 0, 0, 0, 0, 0, 0, 0, 0, 0, 0, 0, 0, 0, 0, 0, 0, 0, 0, 0, 0, 0, 0, 0, 0, 0, 0, 0, 0, 0, 0, 0, 0, 0, 0, 0, 0, 0, 0, 0, 0, 0, 0, 0, 0, 0, 0, 0, 0, 0, 0, 0, 0, 0, 0, 0, 0, 0, 0, 0, 0, 0, 0, 0, 0, 0, 0, 0, 0, 0, 0, 0, 0, 0, 0, 0, 0, 0, 0, 0, 0, 0, 0, 0, 0, 0, 0, 0, 0, 0, 0, 0, 0, 0, 0, 0, 0, 0, 0, 1, 0, 0, 0, 0, 0, 0, 0, 0, 0, 0, 0, 0, 0, 0, 0, 0, 0, 0, 0, 0, 0, 0, 0, 0, 0, 0, 0, 0, 0, 1, 0, 0, 0, 0, 0, 0, 0, 0, 0, 0, 0, 0, 0, 0, 0, 0, 0, 0, 0, 0, 0, 0, 0, 0, 0, 0, 0, 0, 0, 0, 0, 0, 0, 0, 0, 0, 0, 0, 0, 0, 0, 0, 0, 0, 0, 0, 0, 0, 0, 0, 0, 0, 0, 0, 0, 0, 0, 0, 0, 0, 0, 0, 0, 0, 0, 0, 0, 0, 0, 0, 0, 0, 0, 0, 0, 0, 0, 0, 0, 0, 0, 0, 0, 0, 0, 0, 0, 0, 0, 0, 0, 0, 0, 0, 0, 0, 0, 0, 0, 0, 0, 0, 0, 0, 0, 0, 0, 0, 0, 0, 0, 0, 0, 0, 0, 0, 0, 0, 0, 0, 0, 0, 0, 0, 0, 0, 0, 0, 0, 0, 0, 0, 0, 0, 0, 0, 0, 0, 0, 0, 0, 0, 0, 0, 0, 0, 0, 0, 0, 0, 0, 0, 0, 0, 0, 0, 0, 0, 0, 0, 0, 0, 0, 0, 0, 0, 0, 0, 0, 0, 0, 0, 0, 0, 0, 0, 0, 0, 0, 0, 0, 0, 0, 0, 0, 0, 0, 0, 0, 0, 0, 0, 0, 0, 0, 0, 0, 0, 0, 0, 0, 0, 0, 0, 0, 0, 0, 0, 0, 0, 0, 0, 0, 0, 0, 0, 0, 0, 0, 0, 0, 0, 0, 0, 0, 0, 0, 0, 0, 0, 0, 0, 0, 0, 0, 0, 0, 0, 0, 0, 0, 0, 0, 0, 0, 0, 0, 0, 0, 0, 0, 0, 0, 0, 0, 0, 0, 0, 0, 0, 0, 0, 0, 0, 0, 0, 0, 0, 0, 0, 0, 0, 0, 0, 0, 0, 0, 0, 0, 0, 0, 0, 0, 0, 0, 0, 0, 0, 0, 0, 0, 0, 0, 0, 0, 0, 0, 0, 0, 0, 0, 0, 0, 0, 0, 0, 0, 0, 0, 0, 0, 0, 0, 0, 0, 0, 0, 0, 0, 0, 0, 0, 0, 0, 0, 0, 0, 0, 0, 0, 0, 0, 0, 0, 0, 0, 0, 0, 0, 0, 0, 0, 0, 0, 0, 0, 0, 0, 0, 0, 0, 0, 0, 0, 0, 0, 0, 0, 0, 0, 0, 0, 0, 0, 0, 0, 0, 0, 0, 0, 0, 0, 0, 0, 0, 0, 0, 0, 0, 1, 0, 0, 0, 0, 0, 0, 0, 0, 0, 0, 0, 0, 0, 0, 0, 0, 0, 0, 0, 0, 0, 0, 0, 0, 0, 0, 0, 0, 0, 0, 0, 0, 0, 0, 0, 0, 0, 0, 0, 0, 0, 0, 0, 0, 0, 0, 0, 0, 0, 0, 0, 0, 0, 0, 0, 0, 0, 0, 0, 0, 0, 0, 0, 0, 0, 0, 0, 0, 0, 0, 0, 0, 0, 0, 0, 0, 0, 0, 0, 0, 0, 0, 0, 0, 0, 0, 0, 0, 0, 0, 0, 0, 0, 0, 0, 0, 0, 0, 0, 0, 0, 0, 0, 0, 0, 0, 0, 0, 0, 0, 0, 0, 0, 0, 0, 0, 0, 0, 0, 0, 0, 0, 0, 0, 0, 0, 0, 0, 0, 0, 0, 0, 0, 0, 0, 0, 0, 0, 0, 0, 0, 0, 0, 0, 0, 0, 0, 0, 0, 0, 0, 0, 0, 0, 0, 0, 0, 0, 0, 0, 0, 0, 0, 0, 0, 0, 0, 0, 0, 0, 0, 0, 0, 0, 0, 0, 0, 0, 0, 0, 0, 0, 0, 0, 0, 0, 0, 0, 0, 0, 0, 0, 0, 0, 0, 0, 0, 0, 0, 0, 0, 0, 0, 0, 0, 0, 0, 0, 0, 0, 0, 0, 0, 0, 0, 0, 0, 0, 0, 0, 0, 0, 0, 0, 0, 0, 0, 0, 0, 0, 0, 0, 0, 0, 0, 0, 0, 0, 0, 0, 0, 0, 0, 0, 0, 0, 0, 0, 0, 0, 0, 0, 0, 1, 0, 0, 0, 0, 0, 0, 0, 0, 0, 0, 0, 0, 0, 0, 0, 0, 0, 0, 0, 0, 0, 0, 0, 0, 0, 0, 0, 0, 0, 0, 0, 0, 0, 0, 0, 0, 0, 0, 0, 0, 0, 0, 0, 0, 0, 0, 0, 0, 0, 0, 0, 0, 0, 0, 0, 0, 0, 0, 0, 0, 0, 0, 0, 0, 0, 0, 0, 0, 0, 0, 0, 0, 0, 0, 0, 0, 0, 0, 0, 0, 0, 0, 0, 0, 0, 0, 1, 0, 0, 0, 0, 0, 0, 0, 0, 0, 0, 0, 0, 0, 0, 0, 0, 0, 0, 0, 0, 0, 0, 0, 0, 0, 0, 0, 0, 0, 0, 0, 0, 0, 0, 0, 0, 0, 0, 0, 0, 0, 0, 0, 0, 0, 0, 0, 0, 0, 0, 0, 0, 0, 0, 0, 0, 0, 0, 0, 0, 0, 0, 0, 0, 0, 0, 0, 0, 0, 0, 0, 0, 0, 0, 0, 0, 0, 0, 0, 0, 0, 0, 0, 0, 0, 0, 0, 0, 0, 0, 0, 0, 0, 0, 0, 0, 0, 0, 0, 0, 0, 0, 0, 0, 0, 0, 0, 0, 0, 0, 0, 0, 0, 0, 0, 0, 0, 0, 0, 0, 0, 0, 0, 0, 0, 0, 0, 0, 0, 0, 0, 0, 0, 0, 0, 0, 0, 0, 0, 0, 0, 0, 0, 0, 0, 0, 0, 0, 0, 0, 0, 0, 0, 0, 0, 0, 0, 0, 0, 0, 0, 0, 0, 0, 0, 0, 0, 0, 0, 0, 0, 0, 0, 0, 0, 0, 0, 0, 0, 0, 0, 0, 0, 0, 0, 0, 0, 0, 0, 0, 0, 0, 0, 0, 0, 0, 0, 0, 0, 0, 0, 0, 0, 0, 0, 0, 0, 0, 0, 0, 0, 0, 0, 0, 0, 0, 0, 0, 0, 0, 0, 0, 0, 0, 0, 0, 0, 0, 0, 0, 0, 0, 0, 0, 0, 0, 0, 0, 0, 0, 0, 0, 0, 0, 0, 0, 0, 0, 0, 0, 0, 0, 1, 0, 0, 0, 0, 0, 0, 0, 0, 0, 0, 0, 0, 0, 0, 0, 0, 0, 0, 0, 0, 0, 0, 0, 0, 0, 0, 0, 0, 0, 0, 0, 0, 0, 0, 0, 0, 0, 0, 0, 0, 0, 0, 0, 0, 0, 0, 0, 0, 0, 0, 0, 0, 0, 0, 0, 1, 0, 0, 0, 0, 0, 0, 0, 0, 0, 0, 0, 0, 0, 0, 0, 0, 0, 0, 0, 0, 0, 0, 0, 0, 0, 0, 0, 0, 0, 0, 0, 0, 0, 0, 0, 0, 0, 0, 0, 0, 0, 0, 0, 0, 0, 0, 0, 0, 0, 0, 0, 0, 0, 0, 0, 0, 0, 0, 0, 0, 0, 0, 0, 0, 0, 0, 0, 0, 0, 0, 0, 0, 0, 0, 0, 0, 0, 0, 0, 0, 0, 0, 0, 0, 0, 0, 0, 0, 0, 0, 0, 0, 0, 0, 0, 0, 0, 0, 0, 0, 0, 0, 0, 0, 0, 0, 0, 0, 0, 0, 0, 0, 0, 0, 0, 0, 0, 0, 0, 0, 0, 0, 0, 0, 0, 0, 0, 0, 0, 0, 0, 0, 0, 0, 0, 0, 0, 0, 0, 0, 0, 0, 0, 0, 0, 0, 0, 0, 0, 0, 0, 0, 0, 0, 0, 0, 0, 0, 0, 0, 0, 0, 0, 0, 0, 0, 0, 0, 0, 0, 0, 0, 0, 0, 0, 0, 0, 0, 0, 0, 0, 0, 0, 0, 0, 0, 0, 0, 0, 0, 0, 0, 0, 0, 0, 0, 0, 0, 0, 0, 0, 0, 0, 0, 0, 0, 0, 0, 0, 0, 0, 0, 0, 0, 0, 0, 0, 0, 0, 0, 0, 0, 0, 0, 0, 0, 0, 0, 0, 0, 0, 0, 0, 0, 0, 0, 0, 0, 0, 0, 0, 0, 0, 0, 0, 0, 0, 0, 0, 0, 0, 0, 0, 0, 0, 0, 0, 0, 0, 0, 0, 0, 0, 0, 0, 0, 0, 0, 0, 0, 0, 0, 0, 0, 0, 0, 0, 0, 0, 0, 0, 0, 0, 0, 0, 0, 0, 0, 0, 0, 0, 0, 0, 0, 0, 0, 0, 0, 0, 0, 0, 0, 0, 0, 0, 0, 0, 0, 0, 0, 0, 0, 0, 0, 0, 0, 0, 0, 0, 0, 0, 0, 0, 0, 0, 0, 0, 0, 0, 0, 0, 0, 0, 0, 0, 0, 0, 0, 0, 0, 0, 0, 0, 0, 0, 0, 0, 0, 0, 0, 0, 0, 0, 0, 0, 0, 0, 0, 0, 0, 0, 0, 0, 0, 0, 0, 0, 0, 0, 0, 0, 0, 0, 0, 0, 0, 0, 0, 0, 0, 0, 0, 0, 0, 0, 0, 0, 0, 0, 0, 0, 0, 0, 0, 0, 0, 0, 0, 0, 0, 0, 0, 0, 0, 0, 0, 0, 0, 0, 0, 0, 0, 0, 0, 0, 0, 0, 0, 0, 0, 0, 0, 0, 0, 0, 0, 0, 0, 0, 0, 0, 0, 0, 0, 0, 0, 0, 0, 0, 0, 0, 0, 0, 0, 0, 0, 0, 0, 0, 0, 0, 0, 0, 0, 0, 0, 0, 0, 0, 0, 0, 0, 0, 0, 0, 0, 0, 0, 0, 0, 0, 0, 0, 0, 0, 0, 0, 0, 0, 0, 0, 0, 0, 0, 0, 0, 0, 0, 0, 0, 0, 0, 0, 0, 0, 0, 0, 0, 0, 0, 0, 0, 0, 0, 0, 0, 0, 0, 0, 0, 0, 0, 0, 0, 0, 0, 0, 0, 0, 0, 0, 0, 0, 0, 0, 0, 0, 0, 0, 0, 0, 0, 0, 0, 0, 0, 0, 0, 0, 0, 0, 0, 0, 0, 0, 0, 0, 0, 0, 0, 0, 0, 0, 0, 0, 0, 0, 0, 0, 0, 0, 0, 0, 0, 0, 0, 0, 0, 0, 0, 0, 0, 0, 0, 0, 0, 0, 0, 0, 0, 0, 0, 0, 0, 0, 0, 0, 0, 0, 0, 0, 0, 0, 0, 0, 0, 0, 0, 0, 0, 0, 0, 0, 0, 0, 0, 0, 0, 0, 0, 0, 0, 0, 0, 0, 0, 0, 0, 0, 0, 0, 0, 0, 0, 0, 0, 0, 0, 0, 0, 0, 0, 0, 0, 0, 0, 0, 0, 0, 0, 0, 0, 0, 0, 0, 0, 0, 0, 0, 0, 0, 0, 0, 0, 0, 0, 0, 0, 0, 0, 0, 0, 0, 0, 0, 0, 0, 0, 0, 0, 0, 0, 0, 0, 0, 0, 0, 0, 0, 0, 0, 1, 0, 0, 0, 0, 0, 0, 0, 0, 0, 0, 0, 0, 0, 0, 0, 0, 0, 0, 0, 0, 0, 0, 0, 0, 0, 0, 0, 0, 0, 0, 0, 0, 0, 0, 0, 0, 0, 0, 0, 0, 0, 0, 0, 0, 0, 0, 0, 0, 0, 0, 0, 0, 0, 0, 0, 0, 0, 0, 0, 0, 0, 0, 0, 0, 0, 0, 0, 0, 0, 0, 0, 0, 0, 0, 1, 0, 0, 0, 0, 0, 0, 0, 0, 0, 0, 0, 0, 0, 0, 0, 0, 0, 0, 0, 0, 1, 0, 0, 1, 0, 0, 0, 0, 0, 0, 0, 0, 0, 0, 0, 0, 0, 0, 0, 0, 0, 0, 0, 0, 0, 0, 0, 0, 0, 0, 0, 0, 0, 0, 0, 0, 0, 0, 0, 0, 0, 0, 0, 0, 0, 0, 0, 0, 0, 0, 0, 0, 0, 0, 0, 0, 0, 0, 0, 0, 0, 0, 0, 0, 0, 0, 0, 0, 0, 0, 0, 0, 0, 0, 0, 0, 0, 0, 0, 0, 0, 0, 0, 0, 0, 0, 0, 0, 0, 0, 0, 0, 0, 0, 0, 0, 0, 0, 0, 0, 0, 0, 0, 0, 0, 0, 0, 0, 0, 0, 0, 0, 0, 0, 0, 0, 0, 0, 0, 0, 0, 0, 0, 0, 0, 0, 0, 0, 0, 0, 0, 0, 0, 0, 0, 0, 0, 0, 0, 0, 0, 0, 0, 0, 0, 0, 0, 0, 0, 0, 0, 0, 0, 0, 0, 0, 0, 0, 0, 0, 0, 0, 0, 0, 0, 0, 0, 0, 0, 0, 0, 0, 0, 0, 0, 0, 0, 0, 0, 0, 0, 0, 0, 0, 0, 0, 0, 0, 0, 0, 0, 0, 0, 0, 0, 0, 0, 0, 0, 0, 0, 0, 0, 0, 0, 0, 0, 0, 0, 0, 0, 0, 0, 0, 0, 0, 0, 0, 0, 0, 0, 0, 0, 0, 0, 0, 0, 0, 0, 0, 0, 0, 0, 0, 0, 0, 0, 0, 0, 0, 0, 0, 0, 0, 0, 0, 0, 0, 0, 0, 0, 0, 0, 0, 0, 0, 0, 0, 0, 0, 0, 0, 0, 0, 0, 0, 0, 0, 0, 0, 0, 0, 0, 0, 0, 0, 0, 0, 0, 0, 0, 0, 0, 0, 0, 0, 0, 0, 0, 0, 0, 0, 0, 0, 0, 0, 0, 0, 0, 0, 0, 0, 0, 0, 0, 0, 0, 0, 0, 0, 0, 0, 0, 0, 0, 0, 0, 0, 0, 0, 0, 0, 0, 0, 0, 0, 0, 0, 0, 0, 0, 0, 0, 0, 0, 0, 0, 0, 0, 0, 0, 0, 0, 0, 0, 0, 0, 0, 0, 0, 0, 0, 0, 0, 0, 0, 0, 0, 0, 0, 0, 0, 0, 0, 0, 0, 0, 0, 0, 0, 0, 0, 0, 0, 0, 0, 0, 0, 0, 0, 0, 0, 0, 0, 0, 0, 0, 0, 0, 0, 0, 0, 0, 0, 0, 0, 0, 0, 0, 0, 0, 0, 0, 0, 0, 0, 0, 0, 0, 0, 0, 0, 0, 0, 0, 0, 0, 0, 0, 0, 0, 0, 0, 0, 0, 0, 0, 0, 0, 0, 0, 0, 0, 0, 0, 0, 0, 0, 0, 0, 0, 0, 0, 0, 0, 0, 0, 0, 0, 0, 0, 0, 0, 0, 0, 0, 0, 0, 0, 0, 0, 0, 0, 0, 0, 0, 0, 0, 0, 0, 1, 0, 0, 0, 0, 0, 0, 0, 0, 0, 0, 0, 0, 0, 0, 0, 0, 0, 0, 0, 0, 0, 0, 0, 0, 0, 0, 0, 0, 0, 0, 0, 0, 0, 0, 0, 0, 0, 0, 0, 0, 0, 0, 0, 0, 0, 0, 0, 0, 0, 0, 0, 0, 0, 0, 0, 0, 0, 0, 0, 0, 0, 0, 0, 0, 0, 0, 0, 0, 0, 0, 0, 0, 0, 0, 0, 0, 0, 0, 0, 0, 0, 0, 0, 0, 0, 0, 0, 0, 0, 0, 0, 0, 0, 0, 0, 0, 0, 0, 0, 0, 0, 0, 0, 0, 0, 0, 0, 0, 0, 0, 0, 0, 0, 0, 0, 0, 0, 0, 0, 0, 0, 0, 0, 0, 0, 0, 0, 0, 0, 0, 0, 0, 0, 0, 0, 0, 0, 0, 0, 0, 0, 0, 0, 0, 0, 0, 0, 0, 0, 0, 0, 0, 0, 0, 0, 0, 0, 0, 0, 0, 0, 0, 0, 0, 0, 0, 0, 0, 0, 0, 0, 0, 0, 0, 0, 0, 0, 0, 0, 0, 0, 0, 0, 0, 0, 0, 0, 0, 0, 0, 0, 0, 0, 0, 0, 0, 0, 0, 0, 0, 0, 0, 0, 0, 0, 0, 0, 0, 0, 0, 0, 0, 0, 0, 0, 0, 0, 0, 0, 0, 0, 0, 0, 0, 0, 0, 0, 0, 0, 0, 0, 0, 0, 0, 0, 0, 0, 0, 0, 0, 0, 0, 0, 0, 0, 0, 0, 0, 0, 0, 0, 0, 0, 0, 0, 0, 0, 0, 0, 0, 0, 0, 0, 0, 0, 0, 0, 0, 0, 0, 0, 0, 0, 0, 0, 0, 0, 0, 0, 0, 0, 0, 0, 0, 0, 0, 0, 0, 0, 0, 0, 0, 0, 0, 0, 0, 0, 0, 0, 0, 0, 0, 0, 0, 0, 0, 0, 0, 0, 0, 0, 0, 0, 0, 0, 0, 0, 0, 0, 0, 0, 0, 0, 0, 0, 0, 0, 0, 0, 0, 0, 0, 0, 0, 0, 0, 0, 0, 0, 0, 0, 0, 0, 0, 0, 0, 0, 0, 0, 0, 0, 0, 0, 0, 0, 0, 0, 0, 0, 0, 0, 0, 0, 0, 0, 0, 0, 0, 0, 0, 0, 0, 0, 0, 0, 0, 0, 0, 0, 0, 0, 0, 0, 0, 0, 0, 0, 0, 0, 0, 0, 0, 0, 0, 0, 0, 0, 0, 0, 0, 0, 0, 0, 0, 0, 0, 0, 0, 0, 0, 0, 0, 0, 0, 0, 0, 0, 0, 0, 0, 0, 0, 0, 0, 0, 0, 0, 0, 0, 0, 0, 0, 0, 0, 0, 0, 0, 0, 0, 0, 0, 0, 0, 0, 0, 0, 0, 0, 0, 0, 0, 0, 0, 0, 0, 0, 0, 0, 0, 0, 0, 0, 0, 0, 0, 0, 0, 0, 0, 0, 0, 0, 0, 0, 0, 0, 0, 0, 0, 0, 0, 0, 0, 0, 0, 0, 0, 0, 0, 0, 0, 0, 0, 0, 0, 0, 0, 0, 0, 0, 0, 0, 0, 0, 0, 0, 0, 0, 0, 0, 0, 0, 1, 0, 0, 0, 0, 0, 0, 0, 0, 0, 0, 0, 0, 0, 0, 0, 0, 0, 0, 0, 0, 0, 0, 0, 0, 0, 0, 0, 0, 0, 0, 0, 0, 0, 0, 0, 2, 0, 0, 0, 0, 0, 0, 0, 0, 0, 0, 0, 0, 0, 0, 0, 0, 0, 0, 0, 0, 0, 0, 0, 0, 0, 0, 0, 0, 0, 0, 0, 0, 0, 0, 0, 0, 0, 0, 0, 0, 1, 0, 0, 0, 0, 0, 0, 0, 0, 0, 0, 0, 0, 0, 0, 0, 0, 0, 0, 0, 0, 0, 0, 0, 0, 0, 0, 0, 0, 0, 0, 0, 0, 0, 0, 0, 0, 0, 0, 0, 0, 0, 0, 0, 0, 0, 0, 0, 0, 0, 0, 0, 0, 0, 0, 0, 0, 0, 0, 0, 0, 0, 0, 0, 0, 0, 0, 0, 0, 0, 0, 0, 0, 0, 0, 0, 0, 0, 0, 0, 0, 0, 0, 0, 0, 0, 0, 0, 0, 0, 0, 0, 0, 0, 0, 0, 0, 0, 0, 0, 0, 0, 0, 0, 0, 0, 0, 0, 0, 0, 0, 0, 0, 0, 0, 0, 0, 0, 0, 0, 0, 0, 0, 0, 0, 0, 0, 0, 0, 0, 0, 0, 0, 0, 0, 0, 0, 0, 0, 0, 0, 0, 0, 0, 0, 0, 0, 0, 0, 0, 0, 0, 0, 0, 0, 0, 0, 0, 0, 0, 0, 0, 0, 0, 0, 0, 0, 0, 0, 0, 0, 0, 0, 0, 0, 0, 0, 0, 0, 0, 0, 0, 0, 0, 0, 0, 0, 0, 0, 0, 0, 0, 0, 0, 0, 0, 0, 0, 0, 0, 0, 0, 0, 0, 0, 0, 0, 0, 0, 0, 0, 0, 0, 0, 0, 0, 0, 0, 0, 0, 0, 0, 0, 0, 0, 0, 0, 0, 0, 0, 0, 0, 0, 0, 0, 0, 0, 0, 0, 0, 0, 0, 0, 0, 0, 0, 0, 0, 0, 0, 0, 0, 0, 0, 0, 0, 0, 0, 0, 0, 0, 0, 0, 0, 0, 0, 0, 0, 0, 0, 0, 0, 0, 0, 0, 0, 0, 0, 0, 0, 0, 0, 0, 0, 0, 0, 0, 0, 0, 0, 0, 0, 0, 0, 0, 0, 0, 0, 0, 0, 0, 0, 0, 0, 0, 0, 0, 0, 0, 0, 0, 0, 0, 0, 0, 0, 0, 0, 0, 0, 0, 0, 0, 0, 0, 0, 0, 0, 0, 0, 0, 0, 0, 0, 0, 0, 0, 0, 0, 0, 0, 0, 0, 0, 0, 0, 0, 0, 0, 0, 0, 0, 0, 0, 0, 0, 0, 0, 0, 0, 0, 0, 0, 0, 0, 0, 0, 0, 0, 0, 0, 0, 0, 0, 0, 0, 0, 0, 0, 0, 0, 0, 0, 0, 0, 0, 0, 0, 0, 0, 0, 0, 0, 0, 0, 0, 0, 0, 0, 0, 0, 0, 0, 0, 0, 0, 0, 0, 0, 0, 0, 0, 0, 0, 0, 0, 0, 0, 0, 0, 0, 0, 0, 0, 0, 0, 0, 0, 0, 0, 0, 0, 0, 0, 0, 0, 0, 0, 0, 0, 0, 0, 0, 0, 0, 0, 0, 0, 0, 0, 0, 0, 0, 0, 0, 0, 0, 0, 0, 0, 0, 0, 0, 0, 0, 0, 0, 0, 0, 0, 0, 0, 0, 0, 0, 0, 0, 0, 0, 0, 0, 0, 0, 0, 0, 0, 0, 0, 0, 0, 0, 0, 0, 0, 0, 0, 0, 0, 1, 0, 0, 0, 0, 0, 0, 0, 0, 0, 0, 0, 0, 0, 0, 0, 0, 0, 0, 0, 0, 0, 0, 0, 0, 0, 0, 0, 0, 0, 0, 0, 0, 0, 0, 0, 0, 0, 0, 0, 0, 0, 0, 0, 0, 0, 0, 0, 0, 0, 0, 0, 0, 0, 0, 0, 0, 0, 0, 0, 0, 0, 0, 0, 0, 0, 0, 0, 0, 0, 0, 0, 0, 0, 0, 0, 0, 0, 0, 0, 0, 0, 0, 0, 0, 0, 0, 0, 0, 0, 0, 0, 0, 0, 0, 0, 0, 0, 0, 0, 0, 0, 0, 0, 0, 0, 0, 0, 0, 0, 0, 2, 0, 0, 0, 0, 0, 0, 0, 0, 0, 0, 0, 0, 0, 0, 0, 0, 0, 0, 0, 0, 0, 0, 0, 0, 0, 0, 0, 0, 0, 0, 0, 0, 0, 0, 0, 0, 0, 0, 0, 0, 0, 0, 0, 0, 0, 0, 0, 0, 0, 0, 0, 0, 0, 0, 0, 0, 0, 0, 0, 0, 0, 0, 0, 0, 0, 0, 0, 0, 0, 0, 0, 0, 0, 0, 0, 0, 0, 0, 0, 0, 0, 0, 0, 0, 0, 0, 0, 0, 0, 0, 0, 0, 0, 0, 0, 0, 0, 0, 0, 0, 0, 0, 0, 0, 0, 0, 0, 0, 0, 0, 0, 0, 0, 0, 0, 0, 0, 0, 0, 0, 0, 0, 0, 0, 0, 0, 0, 0, 0, 0, 0, 0, 0, 0, 0, 0, 0, 0, 0, 0, 0, 0, 0, 0, 0, 0, 0, 0, 0, 0, 0, 0, 0, 0, 0, 0, 0, 0, 0, 0, 0, 0, 0, 0, 0, 0, 0, 0, 0, 0, 0, 0, 0, 0, 0, 0, 0, 0, 0, 0, 0, 0, 0, 0, 0, 0, 0, 0, 0, 0, 0, 0, 0, 0, 0, 0, 0, 0, 0, 0, 0, 0, 0, 0, 0, 0, 0, 0, 0, 0, 0, 0, 0, 0, 0, 0, 0, 0, 0, 0, 0, 0, 0, 0, 0, 0, 0, 0, 0, 0, 0, 0, 0, 0, 0, 0, 0, 0, 0, 0, 0, 0, 0, 0, 0, 0, 0, 0, 0, 0, 0, 0, 0, 0, 0, 0, 0, 0, 0, 0, 0, 0, 0, 0, 0, 0, 0, 0, 0, 0, 0, 0, 0, 0, 0, 0, 0, 0, 0, 0, 0, 0, 0, 0, 0, 0, 0, 0, 0, 0, 0, 0, 0, 0, 0, 0, 0, 0, 0, 0, 0, 0, 0, 0, 0, 0, 0, 0, 0, 0, 0, 0, 0, 0, 0, 0, 0, 0, 0, 0, 0, 0, 0, 0, 0, 0, 0, 0, 0, 0, 0, 0, 0, 0, 0, 0, 0, 0, 0, 0, 0, 0, 0, 0, 0, 0, 0, 0, 0, 0, 0, 0, 0, 0, 0, 0, 0, 0, 0, 0, 0, 0, 0, 0, 0, 0, 0, 0, 0, 0, 0, 0, 0, 0, 0, 0, 0, 0, 0, 0, 0, 0, 0, 0, 0, 0, 0, 0, 0, 0, 0, 0, 0, 0, 0, 0, 0, 0, 0, 0, 0, 0, 0, 0, 0, 0, 0, 0, 0, 0, 0, 0, 0, 0, 0, 0, 0, 0, 0, 0, 0, 0, 0, 0, 0, 0, 0, 0, 0, 0, 0, 0, 0, 0, 0, 0, 0, 0, 0, 0, 0, 0, 0, 0, 0, 0, 0, 0, 0, 0, 0, 0, 0, 0, 0, 0, 0, 0, 0, 0, 0, 0, 0, 0, 0, 0, 0, 0, 0, 0, 0, 0, 0, 0, 0, 0, 0, 0, 0, 0, 0, 0, 0, 0, 0, 0, 0, 0, 0, 0, 0, 0, 0, 0, 0, 0, 0, 0, 0, 0, 0, 0, 0, 0, 0, 0, 0, 0, 0, 0, 0, 0, 0, 0, 0, 0, 0, 0, 0, 0, 0, 0, 0, 0, 0, 0, 0, 0, 0, 0, 0, 0, 0, 0, 0, 0, 0, 0, 0, 0, 0, 0, 0, 0, 0, 0, 0, 0, 0, 0, 0, 0, 0, 0, 0, 0, 0, 0, 0, 0, 0, 0, 0, 0, 0, 0, 0, 0, 0, 0, 0, 0, 0, 0, 0, 0, 0, 0, 0, 0, 0, 0, 0, 0, 0, 0, 0, 0, 0, 0, 0, 0, 0, 0, 0, 0, 0, 0, 0, 0, 0, 0, 0, 0, 0, 0, 0, 0, 0, 0, 0, 0, 0, 0, 0, 0, 0, 0, 0, 0, 0, 0, 0, 0, 0, 0, 0, 0, 0, 0, 0, 0, 0, 0, 0, 0, 0, 0, 0, 0, 0, 0, 0, 0, 0, 0, 0, 0, 0, 0, 0, 0, 0, 0, 0, 0, 0, 0, 0, 0, 0, 0, 0, 0, 0, 0, 0, 0, 0, 0, 0, 0, 0, 0, 0, 0, 0, 0, 0, 0, 0, 0, 0, 0, 0, 0, 0, 0, 0, 0, 1, 0, 0, 0, 0, 0, 0, 0, 0, 0, 0, 0, 0, 0, 0, 0, 0, 0, 0, 0, 0, 0, 0, 0, 0, 0, 0, 0, 0, 0, 0, 0, 0, 0, 0, 0, 0, 0, 0, 0, 0, 0, 0, 0, 0, 0, 0, 0, 0, 0, 0, 0, 0, 0, 0, 0, 0, 0, 0, 0, 0, 0, 0, 0, 0, 0, 0, 0, 0, 0, 0, 0, 0, 0, 0, 0, 0, 0, 0, 0, 0, 0, 0, 0, 0, 0, 0, 0, 0, 0, 0, 0, 0, 0, 0, 0, 0, 0, 0, 0, 0, 0, 0, 0, 0, 0, 0, 0, 1, 0, 0, 0, 0, 0, 0, 0, 0, 0, 0, 0, 0, 0, 0, 0, 0, 0, 0, 0, 0, 0, 0, 0, 0, 0, 0, 0, 0, 0, 0, 0, 0, 0, 0, 0, 0, 0, 0, 0, 0, 0, 0, 0, 0, 0, 0, 0, 0, 0, 0, 0, 0, 0, 0, 0, 0, 0, 0, 0, 0, 0, 0, 0, 0, 0, 0, 0, 0, 0, 0, 0, 0, 0, 0, 0, 0, 0, 0, 0, 0, 0, 0, 0, 0, 0, 0, 0, 0, 0, 0, 0, 0, 0, 0, 0, 0, 0, 0, 0, 0, 0, 0, 0, 0, 0, 0, 0, 0, 0, 0, 0, 0, 0, 0, 0, 0, 0, 0, 0, 0, 0, 0, 0, 0, 0, 0, 0, 0, 0, 0, 0, 0, 0, 0, 0, 0, 0, 0, 0, 0, 0, 0, 0, 0, 0, 0, 0, 0, 0, 0, 0, 0, 0, 0, 0, 0, 0, 0, 0, 0, 0, 0, 0, 0, 0, 0, 0, 0, 0, 0, 0, 0, 0, 0, 0, 0, 0, 0, 0, 0, 0, 0, 0, 0, 0, 0, 0, 0, 0, 0, 0, 0, 0, 0, 0, 0, 0, 0, 0, 0, 0, 0, 0, 0, 0, 0, 0, 0, 0, 0, 0, 0, 0, 0, 0, 0, 0, 0, 0, 0, 0, 0, 0, 0, 0, 0, 0, 0, 0, 0, 0, 0, 0, 0, 0, 0, 0, 0, 0, 0, 0, 0, 0, 0, 0, 0, 0, 0, 0, 0, 0, 0, 0, 0, 0, 0, 0, 0, 0, 0, 0, 0, 0, 0, 0, 0, 0, 0, 0, 0, 0, 0, 0, 0, 0, 0, 0, 0, 0, 0, 0, 0, 0, 0, 0, 0, 0, 0, 0, 0, 0, 0, 0, 0, 0, 0, 0, 0, 0, 0, 0, 0, 0, 0, 0, 0, 0, 0, 0, 0, 0, 0, 0, 0, 0, 0, 0, 0, 0, 0, 0, 0, 0, 0, 0, 0, 0, 0, 0, 0, 0, 0, 0, 0, 0, 0, 0, 0, 0, 0, 0, 0, 0, 0, 0, 0, 0, 0, 0, 0, 0, 0, 0, 0, 0, 0, 0, 0, 0, 0, 0, 0, 0, 0, 0, 0, 0, 0, 0, 0, 0, 0, 0, 0, 0, 0, 0, 0, 0, 0, 0, 0, 0, 0, 0, 0, 0, 0, 0, 0, 0, 0, 0, 0, 0, 0, 0, 0, 0, 0, 0, 0, 0, 0, 0, 0, 0, 0, 0, 0, 0, 0, 0, 0, 0, 0, 0, 0, 0, 0, 0, 0, 0, 0, 0, 0, 0, 0, 0, 0, 0, 0, 0, 0, 0, 0, 0, 0, 0, 0, 0, 0, 0, 0, 0, 0, 0, 0, 0, 0, 0, 0, 0, 0, 0, 0, 0, 0, 0, 0, 0, 0, 0, 2, 0, 1, 0]\n"
     ]
    }
   ],
   "source": [
    "test_bow = bow_encoding(test_words, vocabulary)\n",
    "print(test_bow)"
   ]
  },
  {
   "cell_type": "code",
   "execution_count": 42,
   "metadata": {},
   "outputs": [
    {
     "data": {
      "text/plain": [
       "5000"
      ]
     },
     "execution_count": 42,
     "metadata": {},
     "output_type": "execute_result"
    }
   ],
   "source": [
    "len(test_bow)"
   ]
  },
  {
   "cell_type": "markdown",
   "metadata": {},
   "source": [
    "So now we know how to construct a bag of words encoding of a user provided review, how to we send it to our endpoint? First, we need to start the endpoint back up."
   ]
  },
  {
   "cell_type": "code",
   "execution_count": 43,
   "metadata": {},
   "outputs": [
    {
     "name": "stderr",
     "output_type": "stream",
     "text": [
      "WARNING:sagemaker:Parameter image will be renamed to image_uri in SageMaker Python SDK v2.\n",
      "WARNING:sagemaker:Using already existing model: xgboost-2020-07-19-05-49-23-540\n"
     ]
    },
    {
     "name": "stdout",
     "output_type": "stream",
     "text": [
      "-------------!"
     ]
    }
   ],
   "source": [
    "xgb_predictor = xgb.deploy(initial_instance_count = 1, instance_type = 'ml.m4.xlarge')"
   ]
  },
  {
   "cell_type": "markdown",
   "metadata": {},
   "source": [
    "At this point we could just do the same thing that we did earlier when we tested our deployed model and send `test_bow` to our endpoint using the `xgb_predictor` object. However, when we eventually construct our Lambda function we won't have access to this object, so how do we call a SageMaker endpoint?\n",
    "\n",
    "It turns out that Python functions that are used in Lambda have access to another Amazon library called `boto3`. This library provides an API for working with Amazon services, including SageMaker. To start with, we need to get a handle to the SageMaker runtime."
   ]
  },
  {
   "cell_type": "code",
   "execution_count": 44,
   "metadata": {},
   "outputs": [],
   "source": [
    "import boto3\n",
    "\n",
    "runtime = boto3.Session().client('sagemaker-runtime')"
   ]
  },
  {
   "cell_type": "markdown",
   "metadata": {},
   "source": [
    "And now that we have access to the SageMaker runtime, we can ask it to make use of (invoke) an endpoint that has already been created. However, we need to provide SageMaker with the name of the deployed endpoint. To find this out we can print it out using the `xgb_predictor` object."
   ]
  },
  {
   "cell_type": "code",
   "execution_count": 45,
   "metadata": {},
   "outputs": [
    {
     "data": {
      "text/plain": [
       "'xgboost-2020-07-19-05-49-23-540'"
      ]
     },
     "execution_count": 45,
     "metadata": {},
     "output_type": "execute_result"
    }
   ],
   "source": [
    "xgb_predictor.endpoint"
   ]
  },
  {
   "cell_type": "markdown",
   "metadata": {},
   "source": [
    "Using the SageMaker runtime and the name of our endpoint, we can invoke the endpoint and send it the `test_bow` data."
   ]
  },
  {
   "cell_type": "code",
   "execution_count": null,
   "metadata": {},
   "outputs": [],
   "source": [
    "response = runtime.invoke_endpoint(EndpointName = xgb_predictor.endpoint, # The name of the endpoint we created\n",
    "                                       ContentType = 'text/csv',                     # The data format that is expected\n",
    "                                       Body = test_bow)"
   ]
  },
  {
   "cell_type": "markdown",
   "metadata": {},
   "source": [
    "So why did we get an error?\n",
    "\n",
    "Because we tried to send the endpoint a list of integers but it expected us to send data of type `text/csv`. So, we need to convert it."
   ]
  },
  {
   "cell_type": "code",
   "execution_count": 46,
   "metadata": {},
   "outputs": [],
   "source": [
    "response = runtime.invoke_endpoint(EndpointName = xgb_predictor.endpoint, # The name of the endpoint we created\n",
    "                                       ContentType = 'text/csv',                     # The data format that is expected\n",
    "                                       Body = ','.join([str(val) for val in test_bow]).encode('utf-8'))"
   ]
  },
  {
   "cell_type": "code",
   "execution_count": 47,
   "metadata": {},
   "outputs": [
    {
     "name": "stdout",
     "output_type": "stream",
     "text": [
      "{'ResponseMetadata': {'RequestId': 'ef27b8ad-8245-4fe4-92f0-d0e681fb32c6', 'HTTPStatusCode': 200, 'HTTPHeaders': {'x-amzn-requestid': 'ef27b8ad-8245-4fe4-92f0-d0e681fb32c6', 'x-amzn-invoked-production-variant': 'AllTraffic', 'date': 'Sun, 19 Jul 2020 06:22:35 GMT', 'content-type': 'text/csv; charset=utf-8', 'content-length': '14'}, 'RetryAttempts': 0}, 'ContentType': 'text/csv; charset=utf-8', 'InvokedProductionVariant': 'AllTraffic', 'Body': <botocore.response.StreamingBody object at 0x7f90c14dc1d0>}\n"
     ]
    }
   ],
   "source": [
    "print(response)"
   ]
  },
  {
   "cell_type": "markdown",
   "metadata": {},
   "source": [
    "As we can see, the response from our model is a somewhat complicated looking dict that contains a bunch of information. The bit that we are most interested in is `'Body'` object which is a streaming object that we need to `read` in order to make use of."
   ]
  },
  {
   "cell_type": "code",
   "execution_count": 48,
   "metadata": {},
   "outputs": [
    {
     "name": "stdout",
     "output_type": "stream",
     "text": [
      "0.307255446911\n"
     ]
    }
   ],
   "source": [
    "response = response['Body'].read().decode('utf-8')\n",
    "print(response)"
   ]
  },
  {
   "cell_type": "markdown",
   "metadata": {},
   "source": [
    "Now that we know how to process the incoming user data we can start setting up the infrastructure to make our simple web app work. To do this we will make use of two different services. Amazon's Lambda and API Gateway services.\n",
    "\n",
    "Lambda is a service which allows someone to write some relatively simple code and have it executed whenever a chosen trigger occurs. For example, you may want to update a database whenever new data is uploaded to a folder stored on S3.\n",
    "\n",
    "API Gateway is a service that allows you to create HTTP endpoints (url addresses) which are connected to other AWS services. One of the benefits to this is that you get to decide what credentials, if any, are required to access these endpoints.\n",
    "\n",
    "In our case we are going to set up an HTTP endpoint through API Gateway which is open to the public. Then, whenever anyone sends data to our public endpoint we will trigger a Lambda function which will send the input (in our case a review) to our model's endpoint and then return the result."
   ]
  },
  {
   "cell_type": "markdown",
   "metadata": {},
   "source": [
    "### Setting up a Lambda function\n",
    "\n",
    "The first thing we are going to do is set up a Lambda function. This Lambda function will be executed whenever our public API has data sent to it. When it is executed it will receive the data, perform any sort of processing that is required, send the data (the review) to the SageMaker endpoint we've created and then return the result.\n",
    "\n",
    "#### Part A: Create an IAM Role for the Lambda function\n",
    "\n",
    "Since we want the Lambda function to call a SageMaker endpoint, we need to make sure that it has permission to do so. To do this, we will construct a role that we can later give the Lambda function.\n",
    "\n",
    "Using the AWS Console, navigate to the **IAM** page and click on **Roles**. Then, click on **Create role**. Make sure that the **AWS service** is the type of trusted entity selected and choose **Lambda** as the service that will use this role, then click **Next: Permissions**.\n",
    "\n",
    "In the search box type `sagemaker` and select the check box next to the **AmazonSageMakerFullAccess** policy. Then, click on **Next: Review**.\n",
    "\n",
    "Lastly, give this role a name. Make sure you use a name that you will remember later on, for example `LambdaSageMakerRole`. Then, click on **Create role**."
   ]
  },
  {
   "cell_type": "markdown",
   "metadata": {},
   "source": [
    "#### Part B: Create a Lambda function\n",
    "\n",
    "Now it is time to actually create the Lambda function. Remember from earlier that in order to process the user provided input and send it to our endpoint we need to gather two pieces of information:\n",
    "\n",
    " - The name of the endpoint, and\n",
    " - the vocabulary object.\n",
    "\n",
    "We will copy these pieces of information to our Lambda function after we create it.\n",
    "\n",
    "To start, using the AWS Console, navigate to the AWS Lambda page and click on **Create a function**. When you get to the next page, make sure that **Author from scratch** is selected. Now, name your Lambda function, using a name that you will remember later on, for example `sentiment_analysis_xgboost_func`. Make sure that the **Python 3.6** runtime is selected and then choose the role that you created in the previous part. Then, click on **Create Function**.\n",
    "\n",
    "On the next page you will see some information about the Lambda function you've just created. If you scroll down you should see an editor in which you can write the code that will be executed when your Lambda function is triggered. Collecting the code we wrote above to process a single review and adding it to the provided example `lambda_handler` we arrive at the following.\n",
    "\n",
    "```python\n",
    "# We need to use the low-level library to interact with SageMaker since the SageMaker API\n",
    "# is not available natively through Lambda.\n",
    "import boto3\n",
    "\n",
    "# And we need the regular expression library to do some of the data processing\n",
    "import re\n",
    "\n",
    "REPLACE_NO_SPACE = re.compile(\"(\\.)|(\\;)|(\\:)|(\\!)|(\\')|(\\?)|(\\,)|(\\\")|(\\()|(\\))|(\\[)|(\\])\")\n",
    "REPLACE_WITH_SPACE = re.compile(\"(<br\\s*/><br\\s*/>)|(\\-)|(\\/)\")\n",
    "\n",
    "def review_to_words(review):\n",
    "    words = REPLACE_NO_SPACE.sub(\"\", review.lower())\n",
    "    words = REPLACE_WITH_SPACE.sub(\" \", words)\n",
    "    return words\n",
    "    \n",
    "def bow_encoding(words, vocabulary):\n",
    "    bow = [0] * len(vocabulary) # Start by setting the count for each word in the vocabulary to zero.\n",
    "    for word in words.split():  # For each word in the string\n",
    "        if word in vocabulary:  # If the word is one that occurs in the vocabulary, increase its count.\n",
    "            bow[vocabulary[word]] += 1\n",
    "    return bow\n",
    "\n",
    "\n",
    "def lambda_handler(event, context):\n",
    "    \n",
    "    vocab = \"*** ACTUAL VOCABULARY GOES HERE ***\"\n",
    "    \n",
    "    words = review_to_words(event['body'])\n",
    "    bow = bow_encoding(words, vocab)\n",
    "\n",
    "    # The SageMaker runtime is what allows us to invoke the endpoint that we've created.\n",
    "    runtime = boto3.Session().client('sagemaker-runtime')\n",
    "\n",
    "    # Now we use the SageMaker runtime to invoke our endpoint, sending the review we were given\n",
    "    response = runtime.invoke_endpoint(EndpointName = '***ENDPOINT NAME HERE***',# The name of the endpoint we created\n",
    "                                       ContentType = 'text/csv',                 # The data format that is expected\n",
    "                                       Body = ','.join([str(val) for val in bow]).encode('utf-8')) # The actual review\n",
    "\n",
    "    # The response is an HTTP response whose body contains the result of our inference\n",
    "    result = response['Body'].read().decode('utf-8')\n",
    "    \n",
    "    # Round the result so that our web app only gets '1' or '0' as a response.\n",
    "    result = round(float(result))\n",
    "\n",
    "    return {\n",
    "        'statusCode' : 200,\n",
    "        'headers' : { 'Content-Type' : 'text/plain', 'Access-Control-Allow-Origin' : '*' },\n",
    "        'body' : str(result)\n",
    "    }\n",
    "```"
   ]
  },
  {
   "cell_type": "markdown",
   "metadata": {},
   "source": [
    "Once you have copy and pasted the code above into the Lambda code editor, replace the `**ENDPOINT NAME HERE**` portion with the name of the endpoint that we deployed earlier. You can determine the name of the endpoint using the code cell below."
   ]
  },
  {
   "cell_type": "code",
   "execution_count": 49,
   "metadata": {},
   "outputs": [
    {
     "data": {
      "text/plain": [
       "'xgboost-2020-07-19-05-49-23-540'"
      ]
     },
     "execution_count": 49,
     "metadata": {},
     "output_type": "execute_result"
    }
   ],
   "source": [
    "xgb_predictor.endpoint"
   ]
  },
  {
   "cell_type": "markdown",
   "metadata": {},
   "source": [
    "In addition, you will need to copy the vocabulary dict to the appropriate place in the code at the beginning of the `lambda_handler` method. The cell below prints out the vocabulary dict in a way that is easy to copy and paste."
   ]
  },
  {
   "cell_type": "code",
   "execution_count": 50,
   "metadata": {},
   "outputs": [
    {
     "name": "stdout",
     "output_type": "stream",
     "text": [
      "{'four': 1812, 'best': 469, 'friends': 1837, 'young': 4989, 'male': 2719, 'with': 4911, 'the': 4426, 'emphasis': 1463, 'on': 3105, 'meet': 2793, 'at': 331, 'nyc': 3065, 'to': 4507, 'their': 4431, 'dating': 1120, 'in': 2257, 'this': 4457, 'and': 226, 'comedy': 890, 'is': 2360, 'common': 906, 'who': 4871, 'three': 4469, 'group': 1980, 'which': 4867, 'leads': 2548, 'conflict': 939, 'inevitable': 2282, 'although': 201, 'films': 1721, 'premise': 3370, 'has': 2043, 'potential': 3355, 'there': 4438, 'are': 285, 'some': 4061, 'funny': 1852, 'moments': 2887, 'be': 418, 'had': 2003, 'overall': 3150, 'flick': 1754, 'doesnt': 1309, 'work': 4940, 'especially': 1520, 'end': 1468, 'where': 4864, 'girls': 1911, 'made': 2697, 'appear': 273, 'no': 3020, 'better': 472, 'than': 4420, 'guys': 2001, 'runs': 3757, 'contrary': 974, 'of': 3083, 'story': 4207, 'one': 3107, 'those': 4460, 'man': 2721, 'band': 391, 'dozen': 1338, 'producers': 3416, 'likely': 2601, 'enjoyed': 1486, 'only': 3110, 'by': 642, 'kind': 2476, 'think': 4452, 'show': 3953, 'material': 2766, 'enjoy': 1484, 'quality': 3484, 'ranks': 3519, 'up': 4683, 'finest': 1730, 'cg': 739, 'out': 3141, 'world': 4946, 'or': 3124, 'least': 2554, 'pre': 3365, 'our': 3139, 'foot': 1781, 'rat': 3525, 'outfit': 3144, 'chasing': 772, 'after': 143, 'people': 3221, 'laughably': 2531, 'bad': 382, 'quite': 3495, 'but': 636, 'acting': 99, 'so': 4046, 'awful': 372, 'even': 1533, 'nude': 3058, 'scene': 3809, 'really': 3556, 'have': 2052, 'any': 256, 'it': 2366, 'just': 2437, 'complete': 921, 'waste': 4808, 'time': 4495, 'if': 2222, 'ever': 1538, 'saw': 3798, 'dont': 1324, 'know': 2489, 'wasted': 4809, 'more': 2904, 'me': 2778, 'watching': 4815, 'poor': 3328, 'got': 1944, 'dragged': 1343, 'into': 2332, 'making': 2718, 'hope': 2155, 'that': 4424, 'will': 4886, 'careers': 687, 'can': 665, 'you': 4986, 'wont': 4932, 'however': 2183, 'note': 3044, 'managed': 2723, 'successfully': 4267, 'do': 1302, 'kevin': 2457, 'from': 1840, 'movie': 2926, 'was': 4805, 'almost': 193, 'worthwhile': 4955, 'minutes': 2859, 'my': 2951, 'personal': 3240, 'mission': 2870, 'go': 1924, 'responsible': 3656, 'for': 1784, 'film': 1716, 'rental': 3627, 'company': 910, 'give': 1912, 'money': 2888, 'back': 378, 'because': 432, 'they': 4442, 'false': 1641, 'advertising': 132, 'its': 2370, 'not': 3040, 'enough': 1491, 'itself': 2371, 'cover': 1022, 'art': 304, 'what': 4858, 'sold': 4052, 'ive': 2372, 'done': 1322, 'make': 2713, 'effects': 1431, 'children': 792, 'halloween': 2010, 'actually': 109, 'depicts': 1186, 'versus': 4722, 'say': 3799, 'eyes': 1613, 'im': 2232, 'going': 1931, 'full': 1846, 'details': 1219, 'come': 886, 'movies': 2927, 'main': 2707, 'character': 758, 'an': 223, 'la': 2500, 'cop': 991, 'born': 544, 'raised': 3508, 'german': 1896, 'accent': 78, 'beyond': 476, 'insulting': 2310, 'gotta': 1946, 'start': 4156, 'ed': 1415, 'god': 1926, 'kid': 2464, 'bucks': 606, 'says': 3801, 'he': 2056, 'plays': 3301, 'hes': 2093, 'like': 2599, 'real': 3547, 'life': 2592, 'two': 4620, 'blow': 514, 'subtle': 4260, 'humor': 2192, 'script': 3834, 'all': 187, 'guy': 2000, 'gone': 1935, 'through': 4477, 'recent': 3566, 'years': 4979, 'seem': 3861, 'maybe': 2776, 'thats': 4425, 'why': 4878, 'his': 2118, 'performance': 3228, 'good': 1937, 'same': 3778, 'keep': 2449, 'thinking': 4453, 'bet': 470, 'does': 1308, 'act': 97, 'natural': 2973, 'obviously': 3072, 'moved': 2922, 'type': 4621, 'mummy': 2937, 'biggest': 480, 'surprise': 4312, 'her': 2085, 'reactions': 3542, 'spot': 4131, 'she': 3923, 'hot': 2174, 'realized': 3553, 'would': 4957, 'see': 3855, 'big': 478, 'fan': 1648, 'shoot': 3942, 'em': 1452, 'am': 204, 'lots': 2662, 'twists': 4619, 'turns': 4609, 'try': 4600, 'guessing': 1991, 'your': 4991, 'standard': 4144, 'take': 4349, 'over': 3148, 'bank': 394, 'kill': 2468, 'win': 4892, 'coming': 896, 'scenes': 3811, 'hand': 2015, 'held': 2074, 'bit': 488, 'bourne': 554, 'style': 4249, 'bo': 521, 'actor': 103, 'curtis': 1087, 'wayne': 4821, 'double': 1331, 'these': 4441, 'twins': 4616, 'as': 311, 'watched': 4813, 'wondered': 4927, 'actors': 104, 'foreign': 1790, 'accents': 79, 'were': 4848, 'doing': 1312, 'small': 4033, 'town': 4541, 'sense': 3877, 'stuff': 4243, 'other': 3135, 'countries': 1013, 'states': 4163, 'might': 2835, 'revealed': 3671, 'bonus': 534, 'features': 1680, 'how': 2181, 'wanted': 4789, 'international': 2326, 'audiences': 353, 'stars': 4155, 'we': 4823, 'heard': 2062, 'them': 4432, 'smoking': 4040, 'dean': 1139, 'need': 2987, 'title': 4504, 'sound': 4081, 'live': 2625, 'cannot': 670, 'misery': 2865, 'passing': 3204, 'represents': 3639, 'relatively': 3600, 'rich': 3685, 'middle': 2833, 'class': 833, 'little': 2624, 'boy': 557, 'beloved': 461, 'yet': 4984, 'sadly': 3769, 'insane': 2296, 'father': 1666, 'most': 2909, 'touching': 4536, 'first': 1736, 'colour': 880, 'uses': 4697, 'beautifully': 429, 'shocking': 3940, 'seen': 3865, 'dreams': 1355, 'surreal': 4317, 'beauty': 430, 'humanity': 2189, 'force': 1786, 'always': 203, 'focused': 1767, 'capturing': 679, 'genius': 1887, 'cinema': 816, 'about': 67, 'another': 250, 'hollywoods': 2138, 'horror': 2168, 'very': 4723, 'high': 2100, 'million': 2847, 'scary': 3807, 'offers': 3090, 'us': 4690, 'few': 1700, 'thrills': 4475, 'creepy': 1052, 'sequence': 3887, 'lot': 2661, 'computer': 927, 'generated': 1882, 'special': 4097, 'nothing': 3047, 'jones': 2418, 'beautiful': 428, 'taylor': 4372, 'also': 199, 'hill': 2108, 'house': 2178, 'ending': 1471, 'form': 1798, 'own': 3158, 'opinion': 3118, 'picture': 3269, '10': 0, 'whether': 4866, 'cabin': 643, 'fever': 1699, 'supposed': 4306, 'joke': 2414, 'far': 1653, 'much': 2934, 'closer': 856, 'being': 448, 'anything': 260, 'else': 1448, 'ago': 154, 'community': 908, 'makers': 2715, 'decided': 1149, 'new': 3003, 'step': 4175, 'fun': 1848, 'genre': 1888, 'thus': 4486, 'giving': 1915, 'birth': 486, 'scream': 3826, 'series': 3890, 'list': 2617, 'given': 1913, 'stupid': 4247, 'things': 4451, 'characters': 760, 'predictable': 3367, 'ended': 1470, 'exactly': 1551, 'added': 116, 'irony': 2357, 'analysis': 224, 'led': 2558, 'now': 3054, 'different': 1248, 'either': 1438, 'towards': 4540, 'self': 3869, 'dramatic': 1348, 'process': 3412, 'old': 3100, 'tired': 4501, 'seeing': 3857, 'alas': 172, 'many': 2732, 'unoriginal': 4673, 'serious': 3891, 'pretentious': 3383, 'boring': 543, 'supposedly': 4307, 'later': 2525, 'lacks': 2505, 'originality': 3130, 'way': 4820, 'others': 3136, 'been': 438, 'said': 3774, 'several': 3905, 'times': 4497, 'imagination': 2236, 'directors': 1266, 'today': 4508, 'sequels': 3886, 'setting': 3900, 'woods': 4935, 'seems': 3864, 'simply': 3986, 'whoever': 4872, 'wishes': 4906, 'surprised': 4313, 'once': 3106, 'again': 146, 'dealing': 1136, 'whose': 4877, 'early': 1400, 'when': 4862, 'placed': 3283, 'front': 1841, 'problem': 3408, 'rather': 3528, 'argue': 290, 'hours': 2177, 'pick': 3265, 'fights': 1710, 'something': 4066, 'excitement': 1562, 'kiss': 2483, 'love': 2669, 'basically': 407, 'sorts': 4078, 'victims': 4730, 'previously': 3388, 'secondly': 3847, 'every': 1539, 'situation': 4008, 'dialog': 1232, 'treated': 4573, 'such': 4268, 'viewer': 4738, 'finally': 1724, 'dying': 1393, 'directed': 1259, 'written': 4972, 'acted': 98, 'shows': 3960, 'sign': 3970, 'amazing': 209, 'considering': 952, 'invisible': 2344, 'never': 3001, 'before': 440, 'flesh': 1753, 'eating': 1413, 'virus': 4752, 'laughs': 2534, 'please': 3304, 'bring': 585, 'since': 3990, 'cast': 710, 'certainly': 738, 'hired': 2117, 'neighbors': 2994, 'director': 1264, 'strike': 4224, 'screenplay': 3831, 'absolutely': 72, 'empty': 1465, 'happens': 2029, 'actions': 101, 'repeated': 3631, 'lets': 2580, 'get': 1899, 'help': 2079, 'makes': 2716, 'facts': 1624, 'hilariously': 2107, 'lame': 2510, 'last': 2521, 'probably': 3407, 'according': 88, 'fake': 1635, 'blood': 512, 'scare': 3803, 'audience': 352, 'major': 2711, 'ideas': 2215, 'claims': 830, 'shot': 3949, 'wasnt': 4807, 'total': 4531, 'failure': 1629, 'agree': 155, 'talent': 4354, 'disgusting': 1286, 'watch': 4811, 'scared': 3805, 'feelings': 1686, 'let': 2579, 'known': 2492, 'anyone': 259, 'tad': 4347, 'curious': 1083, 'interested': 2324, 'check': 777, 'older': 3101, '60s': 54, '70s': 56, '80s': 59, 'wes': 4851, 'craven': 1034, 'sam': 3777, 'stanley': 4148, 'kubrick': 2496, 'david': 1124, 'lynch': 2691, 'roger': 3724, 'william': 4887, 'john': 2409, 'carpenter': 694, 'definition': 1163, 'convince': 983, 'viewers': 4739, 'isnt': 2362, 'necessarily': 2983, 'example': 1553, 'related': 3594, 'tracks': 4545, 'provided': 3449, 'close': 853, 'previous': 3387, 'below': 462, 'well': 4843, 'superb': 4296, 'along': 195, 'fine': 1729, 'audio': 354, 'soundtrack': 4085, 'purchased': 3470, 'moving': 2928, 'favorite': 1671, 'ahead': 159, 'white': 4870, 'heart': 2064, 'judge': 2424, 'service': 3896, 'super': 4295, 'star': 4150, 'starring': 4154, 'hyde': 2206, 'lee': 2559, 'famous': 1647, 'singer': 3993, 'japan': 2381, 'staff': 4138, 'worked': 4941, 'hard': 2033, 'inside': 2297, 'sad': 3767, 'until': 4680, 'cant': 671, 'stop': 4201, 'pretty': 3384, 'admit': 122, 'disappointing': 1274, 'skill': 4013, 'under': 4639, 'weird': 4841, 'hear': 2061, 'speaks': 4096, 'language': 2516, 'except': 1556, 'native': 2972, 'trying': 4601, 'someone': 4064, 'weak': 4824, 'lose': 2654, 'important': 2247, 'person': 3238, 'killed': 2469, 'asked': 317, 'turn': 4605, 'che': 773, 'vampire': 4711, 'him': 2110, 'die': 1243, 'brother': 598, 'died': 1244, 'son': 4070, 'pass': 3201, 'away': 369, 'told': 4513, 'still': 4188, 'theres': 4440, 'plot': 3309, 'goes': 1930, 'too': 4522, 'fast': 1661, 'didnt': 1242, 'tell': 4395, 'reason': 3557, 'join': 2412, 'local': 2634, 'mafia': 2700, 'enemy': 1477, 'friend': 1835, 'past': 3207, 'law': 2538, 'whatever': 4859, 'action': 100, '1st': 28, 'news': 3005, 'based': 404, 'true': 4596, 'point': 3316, 'human': 2188, 'history': 2121, 'actual': 108, 'meat': 2787, 'matter': 2769, 'flies': 1756, 'nonetheless': 3029, 'remember': 3616, 'rats': 3531, 'vs': 4767, 'intended': 2315, 'praise': 3364, 'literally': 2622, 'ones': 3108, 'less': 2575, 'empathy': 1462, 'baby': 376, 'odd': 3080, 'hollywood': 2137, 'drawing': 1350, 'space': 4090, 'rent': 3626, '13': 4, 'rated': 3527, 'program': 3424, 'rip': 3700, 'decide': 1148, 'trip': 4588, 'desert': 1198, 'find': 1726, 'themselves': 4435, 'murdered': 2940, 'mysterious': 2955, 'killer': 2470, 'black': 493, 'inspired': 2301, 'hills': 2109, 'slasher': 4020, 'plenty': 3307, 'nasty': 2968, 'violence': 4747, 'gory': 1943, 'highlight': 2103, 'involving': 2349, 'having': 2054, 'arm': 292, 'leg': 2562, 'together': 4511, 'around': 297, 'tree': 4576, 'then': 4436, 'chain': 741, 'pulled': 3462, 'suspense': 4330, 'exciting': 1563, 'paced': 3162, 'villain': 4744, 'fairly': 1631, 'locations': 2636, 'provide': 3448, 'atmosphere': 333, 'gore': 1941, 'low': 2676, 'budget': 610, 'came': 656, 'showing': 3958, 'basic': 406, 'instinct': 2308, 'crappy': 1032, 'preview': 3386, 'critics': 1064, 'pleasantly': 3303, 'liked': 2600, 'original': 3129, 'great': 1964, 'keeps': 2451, 'wondering': 4930, 'music': 2946, 'theme': 4433, 'expecting': 1578, 'academy': 77, 'award': 366, 'enjoyment': 1488, 'designed': 1203, 'escape': 1517, 'stone': 4197, 'sexy': 3911, 'weekend': 4838, 'bizarre': 492, 'evil': 1548, 'sorry': 4076, 'cut': 1089, 'off': 3084, 'loved': 2670, 'could': 1007, 'found': 1811, 'yourself': 4993, 'toward': 4539, 'lucas': 2680, 'buck': 605, 'sheriff': 3929, 'secrets': 3852, 'frightening': 1839, 'became': 431, 'buy': 640, 'tv': 4610, 'cousin': 1021, 'mystery': 2956, 'meant': 2784, 'shame': 3918, 'finished': 1733, 'happened': 2027, 'nightmare': 3014, 'elm': 1447, 'street': 4216, 'dream': 1354, 'child': 789, 'freddy': 1826, 'mediocre': 2791, 'effort': 1432, 'build': 614, 'interesting': 2325, 'strong': 4229, 'production': 3419, 'course': 1019, 'hoping': 2160, 'easy': 1410, 'dollars': 1315, 'grab': 1949, 'attention': 345, 'simple': 3983, 'alice': 182, 'survivor': 4324, 'part': 3193, 'pregnant': 3369, 'beginning': 443, 'learn': 2550, 'must': 2950, 'mother': 2911, 'slowly': 4032, 'meaning': 2780, 'dialogues': 1235, 'fact': 1621, 'thing': 4450, 'deaths': 1142, 'slightly': 4029, 'cool': 989, 'uninteresting': 4660, 'couldnt': 1008, 'care': 684, 'possible': 3350, 'whole': 4873, 'reminded': 3619, 'amateur': 206, 'theatre': 4429, 'school': 3813, 'embarrassing': 1454, 'lisa': 2616, 'manages': 2725, 'shine': 3931, 'pity': 3281, 'stephen': 4176, 'nowhere': 3056, 'brilliant': 583, 'direction': 1261, 'master': 2757, 'tries': 4585, 'imaginative': 2237, 'shots': 3950, 'near': 2979, 'tension': 4404, 'created': 1037, 'sequel': 3885, 'name': 2960, 'clown': 862, 'understand': 4643, 'create': 1036, 'cheap': 774, 'looking': 2648, 'crocodile': 1065, 'model': 2880, 'video': 4733, 'clip': 851, 'getting': 1901, 'eaten': 1412, 'believe': 454, 'utterly': 4702, 'cgi': 740, 'looks': 2649, 'completely': 922, 'place': 3282, 'influence': 2286, 'events': 1536, 'grade': 1951, 'piece': 3272, 'crap': 1031, 'sit': 4003, 'apparently': 270, 'worth': 4953, 'laughing': 2533, 'words': 4938, 'fear': 1676, 'joe': 2407, 'don': 1320, 'baker': 385, 'clark': 832, 'both': 547, 'run': 3755, 'seriously': 3892, 'starts': 4159, 'downhill': 1336, 'ugly': 4625, 'rolling': 3730, 'floor': 1759, 'laughter': 2535, 'yes': 4982, 'texas': 4418, 'hit': 2122, 'rules': 3754, 'while': 4868, 'wearing': 4831, 'cowboy': 1025, 'want': 4788, 'move': 2921, 'hotel': 2175, 'relationships': 3598, 'winning': 4898, 'contest': 967, 'including': 2264, 'contract': 973, 'road': 3709, 'non': 3027, 'existent': 1572, 'tonight': 4519, 'turner': 4607, 'classic': 835, 'musical': 2947, 'singing': 3995, 'rain': 3506, 'may': 2775, 'taken': 4350, 'notably': 3042, 'leading': 2547, 'lady': 2507, 'studio': 4240, 'conclusion': 936, 'concerning': 933, 'score': 3822, 'credit': 1049, 'screen': 3829, 'fascinating': 1658, '1930s': 11, 'among': 217, 'supporting': 4304, 'players': 3299, 'playing': 3300, 'herself': 2092, 'despite': 1211, 'negative': 2991, 'comments': 901, 'personality': 3242, 'command': 897, 'lines': 2612, 'briefly': 580, 'appears': 278, 'himself': 2111, 'career': 686, 'mr': 2929, 'radio': 3504, 'nicely': 3009, 'brief': 579, 'particularly': 3195, 'realizes': 3554, 'nobody': 3022, 'dick': 1239, 'powell': 3358, 'should': 3951, 'used': 4693, 'won': 4925, 'leaving': 2557, 'job': 2405, 'impressive': 2253, 'drives': 1367, 'proper': 3436, 'wonderful': 4928, 'number': 3060, 'left': 2561, 'purpose': 3474, 'throughout': 4478, 'johnny': 2410, 'lyrics': 2692, 'references': 3583, 'max': 2774, 'factor': 1622, 'king': 2479, 'hint': 2112, 'tarzan': 4367, 'song': 4071, 'power': 3359, 'jack': 2373, 'warner': 4799, 'brothers': 599, '20th': 38, 'century': 736, 'fox': 1814, 'donald': 1321, 'event': 1535, 'showed': 3956, 'singers': 3994, 'did': 1241, 'five': 1743, 'minute': 2858, 'section': 3853, 'leaves': 2556, 'girl': 1909, 'player': 3298, 'musicals': 2948, 'met': 2822, 'allen': 188, 'owner': 3159, 'grant': 1956, 'mitchell': 2875, 'fellow': 1691, 'busy': 635, 'tends': 4402, 'unless': 4669, 'necessary': 2984, 'speak': 4094, 'room': 3735, 'studios': 4241, 'lane': 2515, 'lives': 2628, 'hugh': 2186, 'sister': 4001, 'todd': 4510, 'cynical': 1093, 'assistant': 326, 'jean': 2389, 'speaking': 4095, 'voice': 4761, 'version': 4720, 'dan': 1102, 'alexander': 180, 'alan': 171, 'stealing': 4171, 'ease': 1404, 'difference': 1246, 'nice': 3008, 'gene': 1879, 'kelly': 2452, 'wrapped': 4964, 'ego': 1435, 'fully': 1847, 'aware': 368, 'fit': 1740, 'passed': 3202, 'ordinary': 3128, 'role': 3726, 'refuses': 3587, 'attend': 344, 'latest': 2526, 'finds': 1728, 'play': 3296, 'follow': 1772, 'party': 3200, 'wanting': 4790, 'down': 1335, 'latter': 2528, 'otherwise': 3137, 'evening': 1534, 'success': 4265, 'finding': 1727, 'each': 1395, 'attractive': 351, 'deal': 1135, 'face': 1616, 'attacked': 338, 'gang': 1867, 'bought': 552, 'working': 4944, 'photographer': 3259, 'turned': 4606, 'agent': 150, 'ted': 4386, 'imitation': 2241, 'stand': 4143, 'edgar': 1417, 'kennedy': 2454, 'broken': 594, 'restaurant': 3658, 'slow': 4031, 'burns': 628, 'eventually': 1537, 'gets': 1900, 'break': 569, 'wind': 4893, 'final': 1722, 'chance': 747, 'cute': 1090, 'appealing': 272, 'worst': 4952, 'aspects': 322, 'due': 1382, 'jokes': 2415, 'african': 142, 'americans': 214, 'longer': 2645, 'arrives': 302, 'accidentally': 85, 'mentions': 2813, 'fashion': 1659, 'shall': 3916, 'popular': 3333, 'incident': 2260, 'nearly': 2981, 'reminds': 3620, 'tragic': 4552, 'comedian': 887, 'disappoint': 1272, 'eerie': 1427, 'unusual': 4681, 'dark': 1115, 'promising': 3433, 'indeed': 2271, 'ten': 4399, 'feeling': 1685, 'uncomfortable': 4637, 'whats': 4860, 'worse': 4951, 'comes': 891, 'hour': 2176, 'half': 2007, 'fight': 1707, 'boredom': 542, 'falling': 1639, 'asleep': 320, 'kept': 2456, 'awake': 365, 'truly': 4597, 'horrifying': 2167, 'ears': 1402, 'intelligence': 2313, 'thought': 4462, 'spending': 4106, 'precious': 3366, 'ticket': 4487, 'mix': 2876, 'add': 115, 'ill': 2228, 'set': 3898, 'pieces': 3273, 'youll': 4988, 'lack': 2502, 'above': 68, 'average': 362, 'comment': 898, 'jim': 2402, 'quiet': 3492, 'simplicity': 3984, 'draws': 1352, 'opening': 3114, 'entire': 1502, 'camera': 659, 'distracting': 1297, 'ladies': 2506, 'single': 3996, 'beat': 423, 'actresses': 106, 'performing': 3233, 'political': 3324, 'handful': 2017, 'deserves': 1201, 'providing': 3451, 'needed': 2988, 'wait': 4770, 'next': 3007, 'seemed': 3862, 'brutal': 603, 'murder': 2939, 'murders': 2943, 'released': 3603, 'genuinely': 1892, 'sadistic': 3768, 'unfortunately': 4654, 'zero': 4996, 'development': 1225, 'between': 475, 'pace': 3161, 'tedious': 4387, 'dawn': 1127, 'central': 735, 'girlfriend': 1910, 'producer': 3415, 'wife': 4884, 'opportunity': 3121, 'gain': 1863, 'insight': 2298, 'anyway': 261, 'rick': 3689, 'sci': 3815, 'fi': 1701, 'amazingly': 210, 'everything': 1544, 'everyone': 1542, 'brought': 600, 'questions': 3489, 'mst3k': 2932, 'knew': 2486, 'mars': 2746, 'attacks': 339, 'guess': 1989, 'standing': 4146, 'conversation': 980, 'mention': 2810, 'titanic': 4503, 'couple': 1016, 'pay': 3216, 'mind': 2849, 'tears': 4380, 'theyre': 4445, 'embarrassed': 1453, 'long': 2644, 'lost': 2660, 'none': 3028, 'cried': 1054, 'places': 3284, 'public': 3460, 'recall': 3562, 'wars': 4804, 'folks': 1771, 'straight': 4210, 'look': 2646, 'touch': 4533, 'perfect': 3224, 'faults': 1669, 'dialogue': 1234, 'falls': 1640, 'flat': 1748, 'surrounding': 4319, 'lovers': 2673, 'ruins': 3752, 'kate': 2446, 'leo': 2571, 'generation': 1883, 'york': 4985, 'call': 651, 'james': 2378, 'cameron': 661, 'believed': 455, 'impossible': 2249, 'believable': 453, 'horrific': 2166, 'night': 3013, 'memorable': 2802, 'rose': 3739, 'flying': 1764, 'right': 3696, 'hanging': 2023, 'unbelievably': 4635, 'ocean': 3079, 'screams': 3828, 'doomed': 1327, 'went': 4847, 'theater': 4427, 'victim': 4729, 'key': 2458, 'pop': 3330, 'destroy': 1213, 'buff': 611, 'ship': 3934, 'perhaps': 3235, 'sink': 3999, 'affected': 137, 'interest': 2323, 'doubt': 1332, 'crying': 1074, 'buffs': 612, 'bringing': 586, 'masses': 2755, 'tragedy': 4551, 'reviewer': 3677, 'open': 3112, 'hearts': 2066, 'disappointed': 1273, 'year': 4978, 'research': 3644, 'unfortunate': 4653, 'death': 1141, 'princess': 3397, 'diana': 1237, 'woman': 4921, 'gave': 1875, 'release': 3602, 'tale': 4353, 'fall': 1637, 'torn': 4528, 'apart': 264, 'social': 4049, 'emotional': 1459, 'meets': 2795, 'disaster': 1276, 'anybody': 257, 'expected': 1577, 'huge': 2185, 'bigger': 479, 'millions': 2848, 'fans': 1650, 'teenage': 4389, '12': 3, 'multiple': 2936, 'felt': 1692, 'wrong': 4973, 'grew': 1972, '14': 6, 'dvd': 1391, 'figured': 1712, 'price': 3389, 'hype': 2207, 'nose': 3037, 'ok': 3098, 'silly': 3976, 're': 3535, 'honest': 2146, 'here': 2086, 'idea': 2213, 'delivered': 1170, 'romance': 3732, 'emotions': 1461, 'team': 4378, 'wreck': 4965, 'searching': 3842, 'valuable': 4708, 'blue': 518, 'diamond': 1236, 'called': 652, 'instead': 2307, 'discover': 1279, 'dated': 1119, 'day': 1129, 'dawson': 1128, 'learns': 2553, 'elizabeth': 1445, 'visit': 4755, 'memories': 2803, 'revealing': 3672, 'upper': 4685, '17': 9, 'ruth': 3763, 'whom': 4875, 'stress': 4220, 'importance': 2246, 'marriage': 2743, 'mean': 2779, 'appearance': 274, 'broke': 593, 'frustrated': 1842, 'putting': 3482, 'attempts': 343, 'suicide': 4283, 'jumping': 2431, 'artist': 307, 'named': 2961, 'friendship': 1838, 'thanks': 4423, 'saving': 3797, 'stories': 4205, 'adventures': 131, 'traveling': 4568, 'bond': 532, 'leave': 2555, 'dinner': 1254, 'building': 615, 'wealthy': 4827, 'irish': 2353, 'dance': 1103, 'beer': 439, 'third': 4455, 'forbidden': 1785, 'seven': 3903, 'daughter': 1121, 'behave': 445, 'tea': 4373, 'asking': 318, 'present': 3374, 'moment': 2886, 'witness': 4914, 'ships': 3935, 'fatal': 1664, 'tells': 4397, 'warn': 4797, 'meanwhile': 2785, 'discovers': 1281, 'safe': 3771, 'plant': 3293, 'upon': 4684, 'learning': 2552, 'rescue': 3643, 'return': 3665, 'top': 4525, 'though': 4461, 'enemies': 1476, 'board': 522, 'realizing': 3555, 'jumps': 2432, 'taking': 4352, 'trash': 4565, 'awards': 367, 'flawless': 1751, 'hate': 2046, 'ability': 65, 'cry': 1073, 'sight': 3969, 'hold': 2129, 'aside': 315, 'recommend': 3571, 'sure': 4308, 'classics': 837, 'blind': 506, 'nor': 3032, 'often': 3095, 'rush': 3759, 'mostly': 2910, 'accurate': 90, 'usual': 4699, 'territory': 4411, 'using': 4698, 'crowd': 1067, '30': 42, 'sum': 4289, 'youve': 4995, 'lived': 2626, 'minor': 2857, 'youre': 4992, 'randomly': 3515, 'historical': 2119, 'european': 1530, 'standards': 4145, 'domino': 1319, 'widely': 4881, 'site': 4005, 'editing': 1421, 'photography': 3260, 'substance': 4258, 'disagree': 1269, 'absolute': 71, 'tony': 4521, 'late': 2523, 'eighties': 1437, 'scott': 3824, 'portray': 3340, 'inner': 2292, 'worlds': 4947, 'drama': 1346, 'nuclear': 3057, 'excellent': 1555, 'use': 4692, 'combined': 885, 'angle': 236, 'carried': 698, 'state': 4160, 'spy': 4135, 'game': 1864, 'visually': 4758, 'represented': 3638, 'fire': 1734, 'extreme': 1609, 'flash': 1745, 'express': 1600, 'rage': 3505, 'entirely': 1503, 'successful': 4266, 'introduced': 2337, 'techniques': 4384, 'expression': 1602, 'device': 1227, 'fbi': 1675, 'presents': 3377, 'infamous': 2284, 'hunter': 2199, 'via': 4726, 'disjointed': 1287, 'memory': 2804, 'describes': 1196, 'view': 4736, 'system': 4345, 'individual': 2277, 'vision': 4754, 'hunting': 2201, 'begins': 444, 'relate': 3593, 'lead': 2545, 'cinematographer': 819, 'harry': 2039, 'williams': 4888, 'contemporary': 965, 'gradually': 1952, 'begin': 442, 'realize': 3552, 'culture': 1079, 'cultural': 1078, 'innocence': 2293, 'narrative': 2966, 'introduces': 2338, 'ultimately': 4628, 'portrays': 3344, 'overly': 3155, 'painting': 3175, 'surface': 4310, 'associated': 327, 'free': 1827, 'continue': 969, 'emma': 1457, 'horribly': 2164, 'flawed': 1750, 'jane': 2380, 'novel': 3052, 'read': 3543, 'book': 535, 'writing': 4971, 'directing': 1260, 'entertaining': 1499, 'majority': 2712, 'paltrow': 3178, 'gives': 1914, 'performances': 3229, 'heroine': 2091, 'okay': 3099, 'impressed': 2251, 'jeremy': 2394, 'wooden': 4934, 'books': 536, 'introduce': 2336, 'songs': 4072, 'word': 4937, 'impression': 2252, 'causes': 725, 'resist': 3648, 'sword': 4340, 'mechanical': 2788, 'horse': 2170, 'magic': 2703, 'encounters': 1467, 'laugh': 2529, 'loud': 2664, 'mountain': 2917, 'temple': 4398, 'armed': 293, 'giant': 1905, 'spider': 4109, 'justice': 2438, 'magical': 2704, 'eye': 1611, 'future': 1856, 'save': 3794, 'shallow': 3917, 'grave': 1962, 'tribute': 4581, 'shower': 3957, 'psycho': 3457, 'surprisingly': 4316, 'amateurish': 207, 'already': 197, 'south': 4087, 'bunch': 623, 'college': 875, 'head': 2057, 'summer': 4291, 'vacation': 4704, 'stay': 4166, 'florida': 1761, 'sue': 4274, 'ellen': 1446, 'heads': 2059, 'business': 633, 'witnesses': 4916, 'march': 2734, 'mistress': 2874, 'across': 96, 'practice': 3363, 'oscar': 3133, 'speech': 4102, 'becomes': 434, 'normal': 3033, 'tom': 4514, 'likable': 2598, 'authentic': 358, 'southern': 4088, 'steve': 4181, 'display': 1291, 'racism': 3502, 'hide': 2097, 'behind': 447, 'realistic': 3550, 'large': 2517, 'snake': 4042, 'hiding': 2099, 'rape': 3521, 'carol': 693, 'clothes': 860, 'noise': 3024, 'needs': 2990, 'bible': 477, 'saved': 3795, 'jesus': 2399, 'christ': 807, 'feel': 1684, 'testament': 4417, 'thousand': 4465, 'means': 2783, 'heaven': 2068, 'episodes': 1508, 'produced': 3414, 'parker': 3191, 'witnessed': 4915, 'bush': 632, 'dressed': 1358, 'sort': 4077, 'sitcom': 4004, 'considered': 951, 'spooky': 4128, 'soldier': 4053, 'definitely': 1162, 'summary': 4290, 'science': 3816, 'fiction': 1702, 'kurt': 2499, 'russell': 3761, 'usually': 4700, 'fits': 1741, 'unrealistic': 4677, 'land': 2511, 'favorites': 1672, 'lucky': 2683, 'likes': 2602, 'tough': 4537, 'american': 213, 'author': 359, 'visits': 4756, 'london': 2641, 'british': 589, 'journalist': 2420, 'foster': 1809, 'target': 4366, 'believing': 457, 'experience': 1580, 'sir': 4000, 'thomas': 4458, 'spend': 4105, 'haunted': 2050, 'castle': 712, 'abandoned': 62, 'alone': 194, 'various': 4715, 'women': 4923, 'handsome': 2021, 'men': 2805, 'doctor': 1304, 'explains': 1589, 'souls': 4080, 'glorious': 1921, 'twice': 4613, 'terror': 4412, 'inducing': 2279, 'topless': 4527, 'threw': 4470, 'damn': 1100, 'age': 148, 'boot': 538, 'starting': 4158, 'collection': 874, 'lumet': 2688, 'guilty': 1995, 'proof': 3434, 'retired': 3664, 'masterpiece': 2759, 'incredible': 2269, 'notch': 3043, 'situations': 4009, 'structure': 4233, 'wouldve': 4959, 'thriller': 4472, 'highly': 2105, 'rest': 3657, 'boss': 546, 'iii': 2227, 'assigned': 325, 'task': 4368, 'italy': 2368, 'plane': 3288, 'landing': 2512, 'escapes': 1519, 'police': 3322, 'murderer': 2941, 'names': 2963, 'brand': 565, 'country': 1014, 'without': 4913, '3000': 43, 'commentary': 899, 'coherent': 871, 'prefer': 3368, 'lousy': 2667, 'helps': 2082, 'corny': 997, 'thick': 4447, 'italian': 2367, 'holes': 2133, 'terribly': 4408, 'dull': 1384, 'points': 3319, 'reviews': 3679, 'involve': 2345, 'size': 4012, 'choices': 798, 'decision': 1151, 'struck': 4232, 'decent': 1147, 'hero': 2088, 'stretch': 4221, 'sidekick': 3966, 'solid': 4057, 'blame': 499, 'problems': 3409, 'finger': 1731, 'compare': 911, 'lay': 2542, 'ritter': 3705, 'drop': 1369, 'adding': 117, 'regular': 3592, '2003': 33, '2005': 35, 'centers': 734, 'family': 1645, 'paul': 3214, 'peace': 3219, 'daughters': 1122, 'amy': 222, 'martin': 2748, 'proud': 3444, 'occasional': 3074, 'glad': 1916, 'fell': 1690, 'wants': 4791, 'happy': 2032, 'ultimate': 4627, 'daddy': 1096, 'hates': 2048, 'boyfriend': 558, 'entertainment': 1500, 'provides': 3450, 'strength': 4219, 'kids': 2467, 'funniest': 1851, 'played': 3297, 'blonde': 511, 'gorgeous': 1942, 'smart': 4035, 'wall': 4781, 'hilarious': 2106, 'innocent': 2294, 'annoying': 249, 'fault': 1668, 'shes': 3930, 'feels': 1687, 'thrown': 4481, 'lone': 2642, 'hysterical': 2208, 'comic': 893, 'side': 3965, 'background': 380, 'information': 2288, 'review': 3676, 'happen': 2026, 'firstly': 1737, 'laughable': 2530, 'appropriate': 283, 'narration': 2965, 'technically': 4382, 'vague': 4705, 'unconvincing': 4638, 'mickey': 2831, 'seemingly': 3863, 'breaking': 570, 'case': 707, 'totally': 4532, 'unnecessary': 4672, 'put': 3480, 'detail': 1217, 'conspiracy': 956, 'filmmakers': 1720, 'courage': 1018, 'particular': 3194, 'society': 4050, 'capable': 672, 'creating': 1039, 'explanation': 1590, 'suffice': 4279, 'fails': 1628, 'levels': 2585, 'exact': 1550, 'splatter': 4118, 'university': 4667, 'areas': 287, 'improved': 2255, 'ideal': 2214, 'tim': 4494, 'dutch': 1389, 'writers': 4969, 'works': 4945, 'de': 1131, 'psychological': 3458, 'youth': 4994, 'camp': 662, 'surprising': 4315, 'become': 433, 'dear': 1140, 'somewhat': 4068, 'spends': 4107, 'charismatic': 763, 'animal': 239, 'heavy': 2070, 'drinking': 1362, 'criminal': 1057, 'concern': 931, 'bedroom': 437, 'reading': 3544, 'illegal': 2229, 'drug': 1373, 'distant': 1295, 'asian': 314, 'positive': 3346, 'suffers': 4278, 'complex': 923, 'portrait': 3339, 'relationship': 3597, 'presented': 3376, 'episode': 1507, 'remote': 3622, 'complaint': 920, 'stereotypical': 4180, 'intellectual': 2312, 'opposite': 3123, 'dimensional': 1253, 'rarely': 3524, 'exist': 1569, 'credibility': 1047, 'pleasant': 3302, 'adaptation': 113, 'cinematography': 820, 'humour': 2194, 'van': 4713, 'forget': 1793, 'highest': 2102, 'achieve': 92, 'mainly': 2708, 'wrote': 4974, 'obvious': 3071, 'talented': 4355, 'clear': 839, 'chosen': 805, 'trouble': 4592, 'amusing': 221, 'parts': 3199, 'cat': 713, 'dog': 1310, 'support': 4303, 'humans': 2190, 'abysmal': 76, 'eva': 1531, 'lake': 2509, 'jason': 2383, 'paint': 3173, 'dry': 1377, 'gag': 1861, 'gay': 1876, 'werent': 4849, 'change': 749, 'dare': 1113, 'plain': 3286, 'hopefully': 2157, 'expect': 1575, 'viewing': 4740, 'aka': 168, 'fourth': 1813, 'unsettling': 4679, 'tight': 4492, 'intense': 2316, 'user': 4696, 'noticed': 3049, 'mentioning': 2812, 'alfred': 181, 'hitchcock': 2123, 'touches': 4535, 'visuals': 4759, 'roman': 3731, 'polanski': 3321, 'wise': 4903, '1983': 22, 'figure': 1711, 'gerard': 1895, 'fictional': 1703, 'writer': 4968, 'dangerous': 1110, 'line': 2610, 'severe': 3906, 'stopped': 4202, 'french': 1830, 'feature': 1678, 'sequences': 3888, 'sometimes': 4067, 'aspect': 321, 'clearly': 840, 'progresses': 3426, 'intentions': 2321, 'proves': 3447, 'actress': 105, 'contains': 964, 'portraying': 3343, 'female': 1693, 'nudity': 3059, 'explicit': 1591, 'sex': 3907, 'notice': 3048, 'symbolism': 4341, 'images': 2235, 'thoroughly': 4459, 'hated': 2047, 'conservative': 948, 'catholic': 720, 'movements': 2924, 'worthy': 4956, 'second': 3846, 'recently': 3567, 'position': 3345, 'virgin': 4749, 'mary': 2751, 'myself': 2953, 'issues': 2365, 'portrayed': 3342, 'whatsoever': 4861, 'bother': 548, 'protagonists': 3442, 'question': 3487, 'somehow': 4063, 'fool': 1779, 'compelling': 916, 'convincing': 985, 'adequate': 120, 'recommended': 3572, 'dubbed': 1379, 'suit': 4284, 'sidney': 3968, 'eccentric': 1414, 'chances': 748, 'pays': 3218, 'merely': 2815, 'ball': 388, 'mill': 2845, 'goal': 1925, 'wears': 4832, 'ignored': 2225, 'suddenly': 4273, 'doom': 1326, 'industry': 2280, 'quickly': 3491, 'edge': 1418, 'technology': 4385, 'crucial': 1068, 'whilst': 4869, 'closing': 859, 'britain': 588, 'decade': 1144, 'weapons': 4829, 'quick': 3490, 'protagonist': 3441, 'foul': 1810, 'pursuit': 3476, 'honestly': 2147, 'alex': 179, 'filmed': 1717, 'wouldnt': 4958, 'tremendous': 4579, 'handled': 2019, 'brings': 587, 'certain': 737, 'elephant': 1444, 'timeless': 4496, 'tricks': 4583, 'darkness': 1117, 'anne': 246, 'correct': 1000, 'answer': 251, 'destroyed': 1214, 'fired': 1735, 'description': 1197, 'text': 4419, 'gray': 1963, 'capital': 673, 'anna': 245, 'sounds': 4084, 'featuring': 1681, 'sea': 3838, 'monsters': 2893, 'thinks': 4454, 'driven': 1365, 'maggie': 2702, 'hopes': 2159, 'current': 1084, 'murphy': 2944, 'matt': 2768, 'liking': 2604, 'trailer': 4554, 'entertain': 1497, 'dead': 1132, 'roles': 3727, 'alright': 198, 'friday': 1834, 'justin': 2440, 'michael': 2829, 'keaton': 2448, 'angela': 232, 'robinson': 3716, 'directs': 1267, 'ben': 463, 'taxi': 4371, 'light': 2595, 'fail': 1625, 'enjoyable': 1485, 'harder': 2035, 'rating': 3529, 'ice': 2210, 'animated': 241, 'fantasy': 1652, 'village': 4743, 'home': 2142, 'lord': 2652, 'sets': 3899, 'moves': 2925, 'kidnapped': 2466, 'creatures': 1046, 'ralph': 3510, 'bakshi': 386, 'favourite': 1673, 'adult': 125, 'masterpieces': 2760, 'animation': 242, 'wish': 4904, 'thin': 4449, '80': 58, 'running': 3756, 'adventure': 130, 'unlike': 4670, 'developed': 1223, 'stunning': 4244, 'experienced': 1581, 'frankly': 1823, 'describe': 1194, 'choose': 799, 'stood': 4199, 'suppose': 4305, 'reaction': 3541, 'trapped': 4564, 'unaware': 4632, 'shock': 3938, 'disbelief': 1277, 'silence': 3974, 'voices': 4763, 'documentary': 1307, 'reveals': 3673, 'incredibly': 2270, 'visual': 4757, 'anger': 235, 'frustration': 1843, 'missed': 2867, 'powerful': 3360, '11': 2, 'plan': 3287, 'box': 555, 'spoilers': 4124, 'within': 4912, 'von': 4765, 'balance': 387, 'earlier': 1399, 'carefully': 689, 'concerned': 932, 'blend': 504, 'lighting': 2596, 'modern': 2882, 'confused': 941, 'lena': 2568, 'sleep': 4024, 'intent': 2318, 'frame': 1815, 'historically': 2120, 'shown': 3959, 'prisoners': 3403, 'evidence': 1546, 'annoyed': 248, 'planned': 3290, 'era': 1513, 'reasons': 3560, 'screens': 3832, 'oh': 3096, 'jennifer': 2392, 'acts': 107, 'ripped': 3701, 'intrigued': 2334, 'buried': 624, 'alive': 186, 'level': 2584, 'pool': 3327, 'hall': 2009, 'arrested': 298, 'sent': 3880, 'jail': 2376, 'frank': 1821, 'alternate': 200, 'crazy': 1035, 'helped': 2080, 'sell': 3871, 'effectively': 1430, 'homage': 2141, 'dirty': 1268, 'larry': 2520, 'shortly': 3947, 'crime': 1055, 'violent': 4748, 'values': 4710, 'suspect': 4327, 'mob': 2879, 'ask': 316, 'godfather': 1927, 'buddy': 609, 'vengeance': 4719, 'besides': 468, 'cult': 1077, 'looked': 2647, 'saturday': 3792, 'costumes': 1006, 'settings': 3901, 'spoken': 4126, 'block': 508, 'badly': 383, 'forced': 1787, 'include': 2261, 'seat': 3845, 'throws': 4482, 'car': 680, 'numerous': 3062, 'graphic': 1958, 'message': 2819, 'toilet': 4512, 'easily': 1406, 'forgotten': 1797, 'storyline': 4208, 'clever': 841, 'store': 4204, 'field': 1704, 'disappeared': 1271, 'dire': 1257, 'during': 1387, 'subtitles': 4259, 'screaming': 3827, 'ready': 3546, 'kissing': 2484, 'santa': 3783, 'wicked': 4879, 'thoughts': 4464, 'emotionally': 1460, 'bitter': 491, 'upset': 4687, 'toys': 4543, 'christmas': 810, 'spirit': 4113, 'dies': 1245, 'bride': 577, 'japanese': 2382, 'fields': 1705, 'planning': 3291, 'able': 66, 'equally': 1510, 'fate': 1665, 'fifteen': 1706, 'promised': 3431, '15': 7, 'date': 1118, 'younger': 4990, 'fighting': 1709, 'dignity': 1252, 'portrayal': 3341, 'struggling': 4236, 'survive': 4321, 'strange': 4211, 'alien': 183, 'physical': 3262, 'moral': 2902, 'survival': 4320, 'landscape': 2513, 'captures': 678, 'recognition': 3568, 'ties': 4490, 'themes': 4434, 'requires': 3642, 'understanding': 4645, 'hong': 2149, 'kong': 2494, 'welcome': 4842, 'martial': 2747, 'arts': 310, 'epic': 1506, 'china': 795, 'fair': 1630, 'nail': 2957, 'happening': 2028, 'loses': 2657, 'san': 3780, 'california': 650, 'hardcore': 2034, 'reached': 3537, 'dropped': 1370, 'interview': 2329, 'grown': 1984, 'terms': 4406, 'hardly': 2036, 'ring': 3698, 'harris': 2038, 'barely': 399, 'holding': 2130, 'paying': 3217, 'neither': 2996, 'short': 3946, 'plus': 3311, 'cliché': 844, 'drag': 1342, 'couldve': 1009, 'root': 3737, 'india': 2273, 'imagine': 2238, 'cause': 723, 'shooting': 3943, 'location': 2635, 'advice': 133, 'cops': 993, 'effect': 1428, 'logic': 2638, 'scale': 3802, 'department': 1182, 'streets': 4217, 'discuss': 1283, 'matters': 2770, 'climax': 849, 'challenge': 743, 'lights': 2597, 'chases': 771, 'dude': 1381, 'gun': 1996, 'considerable': 950, 'amount': 219, 'explain': 1586, 'mood': 2898, 'raped': 3522, 'report': 3635, 'excessive': 1560, 'somewhere': 4069, 'pain': 3170, 'sinatra': 3989, 'nowadays': 3055, '1960s': 15, 'wore': 4939, 'mans': 2730, 'started': 4157, 'detective': 1220, 'competition': 918, 'appeared': 276, '1950s': 14, 'period': 3236, 'failed': 1626, 'teen': 4388, '1980s': 21, 'nightmares': 3015, 'ways': 4822, 'manage': 2722, 'freak': 1824, 'hurt': 2202, 'mine': 2853, 'blowing': 515, 'etc': 1527, 'island': 2361, 'crew': 1053, 'smoke': 4039, 'machine': 2693, 'miss': 2866, 'ms': 2931, 'talking': 4360, 'videos': 4734, 'page': 3167, 'finish': 1732, 'wasting': 4810, 'credits': 1050, 'roll': 3728, 'mall': 2720, 'ignore': 2224, 'demand': 1174, 'hell': 2077, 'onto': 3111, 'titled': 4505, 'dislike': 1288, 'hatred': 2049, 'content': 966, 'spite': 4117, 'efforts': 1433, 'design': 1202, 'striking': 4226, 'warned': 4798, 'wonder': 4926, 'hideous': 2098, 'arent': 288, 'stuck': 4237, 'shelf': 3926, 'days': 1130, 'separate': 3883, 'vhs': 4725, 'claimed': 829, 'generally': 1881, 'knowing': 2490, 'exception': 1557, 'filled': 1715, 'isolated': 2363, 'awkward': 374, 'adds': 119, 'tone': 4517, 'countless': 1012, 'villains': 4745, 'spanish': 4092, 'priceless': 3390, 'bloody': 513, 'torture': 4529, 'soon': 4074, 'pack': 3165, 'vote': 4766, 'belong': 459, 'bottom': 551, '100': 1, 'virginia': 4750, 'lovely': 2671, 'weve': 4856, 'havent': 2053, 'mothers': 2912, 'gift': 1906, 'sake': 3775, 'consider': 949, 'essentially': 1523, 'spots': 4132, 'outside': 3146, 'citizen': 824, 'nearby': 2980, 'forward': 1808, 'attack': 337, 'bear': 420, 'against': 147, 'neighbor': 2992, 'attempt': 340, 'twisted': 4618, 'immediately': 2242, 'agrees': 157, 'court': 1020, 'identify': 2216, 'cross': 1066, 'distance': 1294, 'faces': 1618, 'creep': 1051, 'practically': 3362, 'winds': 4895, 'chief': 788, 'sympathetic': 4342, 'trap': 4563, 'serve': 3893, 'theyll': 4444, 'attracted': 349, 'alert': 178, 'enters': 1496, 'scenario': 3808, 'bone': 533, 'tiny': 4500, 'mouth': 2920, 'hair': 2005, 'evident': 1547, 'twilight': 4614, 'zone': 4999, 'greedy': 1969, 'clumsy': 866, 'contrived': 976, 'officer': 3092, 'neat': 2982, 'stage': 4139, 'apes': 267, 'bar': 396, 'beach': 419, 'north': 3036, 'elegant': 1441, 'reality': 3551, 'witch': 4909, 'airplane': 166, 'neighborhood': 2993, 'driver': 1366, 'changes': 751, 'image': 2233, 'scores': 3823, 'faith': 1633, 'ford': 1789, 'punk': 3468, 'execution': 1566, 'knows': 2493, 'somebody': 4062, 'forest': 1791, 'underlying': 4641, 'remarkable': 3613, 'perfectly': 3226, 'albeit': 173, 'hence': 2083, 'spoiler': 4123, 'expectations': 1576, 'offer': 3087, 'concert': 935, 'includes': 2263, 'addition': 118, 'greek': 1970, 'english': 1483, 'hearing': 2063, 'becoming': 435, 'recognized': 3570, 'area': 286, 'rise': 3702, 'indie': 2276, 'walking': 4779, 'africa': 141, 'hbo': 2055, 'earth': 1403, 'moon': 2900, 'spin': 4112, 'boys': 559, 'choice': 797, 'repetitive': 3633, 'grow': 1982, 'staged': 4140, 'poorly': 3329, 'filmmaker': 1719, 'genres': 1889, 'shirley': 3936, 'awesome': 371, 'waiting': 4772, 'develop': 1222, 'loosely': 2651, 'staring': 4152, 'catherine': 719, 'suck': 4269, 'campy': 664, '13th': 5, 'value': 4709, 'fill': 1714, 'females': 1694, 'stylish': 4251, 'robert': 3713, 'peter': 3247, 'adapted': 114, 'mysteries': 2954, 'superior': 4300, 'possibility': 3349, 'engaging': 1481, 'hands': 2020, 'fortunately': 1805, 'warren': 4801, 'chose': 804, 'apparent': 269, 'vicious': 4728, 'rights': 3697, 'challenging': 744, 'apartment': 265, 'comedic': 888, 'irrelevant': 2358, 'minded': 2850, 'partner': 3198, 'professional': 3421, 'timing': 4498, 'effective': 1429, 'red': 3576, 'talked': 4359, 'proved': 3446, 'helen': 2075, 'morgan': 2905, 'da': 1094, 'quirky': 3493, 'witty': 4917, 'chinese': 796, 'intelligent': 2314, 'breaks': 571, 'west': 4852, 'prevent': 3385, 'entry': 1504, 'portion': 3338, 'involves': 2348, 'mistake': 2871, 'enter': 1494, 'locked': 2637, 'romantic': 3733, 'expensive': 1579, 'marry': 2745, 'butler': 637, 'excuse': 1564, 'took': 4523, 'cuts': 1091, 'daring': 1114, 'variety': 4714, 'included': 2262, 'projects': 3428, 'copy': 994, 'indian': 2274, 'television': 4394, 'channel': 753, 'aired': 165, 'calls': 654, 'pull': 3461, 'suggest': 4280, 'available': 361, 'initial': 2290, 'introduction': 2339, 'flop': 1760, 'tried': 4584, '45': 50, 'lazy': 2543, 'sunday': 4293, 'afternoon': 144, 'refreshing': 3586, 'serial': 3889, 'stronger': 4230, 'willing': 4889, 'intention': 2319, 'writes': 4970, 'capture': 676, 'deliver': 1169, 'personally': 3243, 'pathetic': 3210, 'perry': 3237, 'ex': 1549, 'steal': 4170, 'richard': 3686, 'brooks': 596, 'chilling': 794, 'disturbing': 1300, 'killers': 2471, 'haunting': 2051, 'principal': 3398, 'blake': 498, 'wilson': 4891, 'punishment': 3467, 'gripping': 1976, 'superbly': 4297, 'belief': 451, '2004': 34, 'francisco': 1819, 'festival': 1697, 'understood': 4647, 'angel': 231, 'bettie': 473, '90': 60, 'sub': 4252, 'par': 3184, 'wow': 4962, 'followed': 1773, 'remake': 3612, 'ridiculous': 3693, 'ludicrous': 2685, 'maker': 2714, 'independent': 2272, 'kane': 2442, 'paid': 3169, 'tortured': 4530, 'redeeming': 3577, 'gotten': 1947, 'walk': 4775, 'leonard': 2572, 'delightful': 1168, 'delivery': 1173, 'regarding': 3589, 'thief': 4448, 'hollow': 2135, 'treatment': 4574, 'marie': 2737, 'forever': 1792, 'defense': 1159, 'depth': 1190, 'douglas': 1334, 'lacking': 2504, 'feet': 1688, 'wet': 4855, 'gold': 1932, 'magnificent': 2705, 'obsession': 3070, 'allows': 192, 'paris': 3189, 'affair': 135, 'cheesy': 781, 'subject': 4253, 'tales': 4357, 'grandmother': 1955, 'england': 1482, 'attitudes': 347, 'depiction': 1185, 'represent': 3637, 'changed': 750, 'transfer': 4559, 'media': 2789, 'disney': 1289, 'greatest': 1966, 'resembles': 3646, 'load': 2631, 'cinderella': 815, 'happily': 2030, 'garbage': 1870, 'deserve': 1199, 'twist': 4617, 'sides': 3967, '40': 48, 'extremely': 1610, 'write': 4967, 'direct': 1258, 'chick': 786, 'miserably': 2864, 'andy': 230, 'sympathy': 4343, 'unintentionally': 4659, 'suspenseful': 4331, 'lies': 2591, 'beaten': 424, 'corner': 996, 'asks': 319, 'aid': 160, 'spare': 4093, 'costs': 1004, 'usa': 4691, 'manhattan': 2726, 'spent': 4108, 'alongside': 196, 'angles': 237, 'match': 2762, 'website': 4834, 'remind': 3618, 'filming': 1718, 'desire': 1205, 'abuse': 74, 'mtv': 2933, 'australian': 357, 'fisher': 1739, 'miller': 2846, 'arrive': 300, 'sports': 4130, 'throw': 4479, 'susan': 4326, 'search': 3841, 'shark': 3921, 'waters': 4817, 'boat': 523, 'footage': 1782, 'fat': 1663, 'importantly': 2248, 'cares': 690, 'picked': 3266, 'captain': 674, 'settle': 3902, 'members': 2801, 'showdown': 3955, 'dr': 1340, '2000': 30, 'sucks': 4271, 'terrible': 4407, 'mentioned': 2811, 'mark': 2739, 'bored': 541, 'familiar': 1643, 'stereotypes': 4179, 'stock': 4193, 'someones': 4065, 'water': 4816, 'achieved': 93, 'legs': 2566, 'reasonable': 3558, 'continuity': 972, 'logical': 2639, 'errors': 1516, 'physically': 3263, 'surely': 4309, 'sky': 4017, 'attached': 336, 'carry': 700, 'jump': 2429, 'cliff': 847, 'listed': 2618, 'avoid': 363, 'secret': 3849, 'mistakes': 2873, 'cable': 644, 'insult': 2309, 'myers': 2952, 'robot': 3717, 'suffer': 4275, '1990': 24, 'following': 1774, 'began': 441, 'fond': 1776, 'gundam': 1997, 'wing': 4896, 'rangers': 3517, 'menacing': 2807, 'stick': 4185, 'sweet': 4336, 'bland': 500, 'office': 3091, 'pleasure': 3306, 'exploitation': 1592, 'pg': 3250, 'allowed': 190, 'generic': 1885, 'occur': 3076, 'paper': 3183, 'bodies': 526, 'choreographed': 801, 'numbers': 3061, 'smile': 4036, 'genuine': 1891, 'cheated': 775, 'executive': 1567, 'metal': 2823, 'dracula': 1341, 'christopher': 811, 'count': 1010, 'corpse': 999, 'stolen': 4195, 'multi': 2935, 'racial': 3501, 'universal': 4665, 'huh': 2187, 'soldiers': 4054, 'brain': 562, 'goldberg': 1933, 'test': 4416, 'government': 1948, 'project': 3427, 'ah': 158, 'forgot': 1796, '20': 29, 'cube': 1076, 'angry': 238, 'sends': 3876, 'hunters': 2200, 'sentence': 3881, 'reporter': 3636, 'terrific': 4409, 'flow': 1762, 'keeping': 2450, 'claire': 831, 'ps': 3453, 'cameos': 658, 'chris': 806, 'carl': 692, 'possibly': 3351, 'context': 968, 'account': 89, 'caught': 722, 'repeatedly': 3632, 'prison': 3401, 'revenge': 3675, 'america': 212, 'europe': 1529, 'worthless': 4954, 'rough': 3741, 'neck': 2985, 'ass': 323, 'drunk': 1375, 'joy': 2422, 'prisoner': 3402, 'former': 1800, 'president': 3378, 'swimming': 4338, 'parents': 3188, 'teachers': 4376, 'determined': 1221, 'lips': 2615, 'grows': 1985, 'swim': 4337, 'blond': 510, 'sensitive': 3879, 'crush': 1072, 'deals': 1137, 'hidden': 2096, 'topic': 4526, 'soft': 4051, 'porn': 3336, 'covers': 1024, 'partly': 3197, 'expressed': 1601, 'satisfied': 3789, 'dumb': 1385, 'bus': 631, 'favor': 1670, 'takes': 4351, 'draw': 1349, 'shed': 3924, 'rid': 3690, 'drawn': 1351, 'sexually': 3910, 'performs': 3234, 'dances': 1106, 'follows': 1775, 'stands': 4147, 'reaches': 3538, 'steps': 4177, 'smiling': 4037, 'walks': 4780, 'club': 863, 'initially': 2291, 'treats': 4575, 'lover': 2672, 'satisfy': 3790, 'louise': 2666, 'member': 2800, 'trio': 4587, 'suggests': 4282, 'typical': 4623, 'medium': 2792, 'western': 4853, 'montana': 2895, 'horrible': 2163, 'dorothy': 1330, 'steven': 4182, 'city': 825, 'warning': 4800, 'packed': 3166, 'quote': 3496, 'wild': 4885, 'virtually': 4751, 'louis': 2665, 'burt': 629, 'reynolds': 3684, 'river': 3707, 'desperately': 1209, 'commit': 904, 'element': 1442, 'rural': 3758, 'urban': 4688, 'peoples': 3222, 'gas': 1874, 'truck': 4595, 'drive': 1363, 'drew': 1360, 'mentally': 2809, 'buying': 641, 'bobby': 525, 'offered': 3088, 'shake': 3914, 'react': 3540, 'dancing': 1107, 'encounter': 1466, 'laws': 2540, 'nature': 2975, 'behavior': 446, 'unpleasant': 4674, 'established': 1524, 'namely': 2962, 'remain': 3609, 'gratuitous': 1961, 'kinds': 2478, 'war': 4792, 'assault': 324, 'delivers': 1172, 'surviving': 4323, 'reach': 3536, 'questionable': 3488, 'missing': 2869, 'ie': 2221, 'childish': 791, 'similar': 3978, 'compared': 912, 'individuals': 2278, 'soap': 4047, 'ensemble': 1492, 'telling': 4396, 'inept': 2281, 'plots': 3310, 'staying': 4168, 'shadows': 3913, 'generous': 1886, 'stays': 4169, 'reminiscent': 3621, 'brian': 576, 'raising': 3509, 'holly': 2136, 'returns': 3668, 'ruin': 3750, 'chaos': 755, 'patrick': 3213, 'george': 1893, 'demons': 1178, 'underrated': 4642, 'endings': 1472, 'range': 3516, 'painfully': 3172, 'leslie': 2574, 'clichés': 846, 'dialogs': 1233, 'share': 3920, 'outstanding': 3147, 'impact': 2244, 'dvds': 1392, 'six': 4010, 'holiday': 2134, 'appreciation': 281, 'breath': 573, 'fresh': 1833, 'air': 164, 'stale': 4141, 'crash': 1033, 'bang': 393, 'drivel': 1364, 'magazine': 2701, 'figures': 1713, 'selfish': 3870, 'con': 928, 'deaf': 1134, 'prove': 3445, 'answers': 252, 'convincingly': 986, 'shape': 3919, 'broad': 590, 'thrilling': 4474, 'ride': 3692, 'edition': 1422, 'saying': 3800, 'hey': 2095, 'passes': 3203, 'admittedly': 123, 'described': 1195, 'stewart': 4184, 'tour': 4538, 'cave': 727, 'stranger': 4213, 'connection': 946, 'bat': 410, 'makeup': 2717, 'ape': 266, 'killing': 2472, 'heres': 2087, 'nurse': 3063, 'hospital': 2172, 'accident': 84, 'throat': 4476, 'nonsense': 3030, 'irritating': 2359, 'pure': 3471, 'yeah': 4977, 'rented': 3628, 'vampires': 4712, 'atrocious': 335, 'jumped': 2430, 'sleeping': 4025, 'sitting': 4007, 'sudden': 4272, 'results': 3662, 'mexico': 2827, 'body': 527, 'guard': 1988, 'twin': 4615, 'ends': 1474, 'laura': 2536, 'ashley': 313, 'abusive': 75, 'promise': 3430, 'directions': 1262, 'barry': 401, 'married': 2744, 'track': 4544, 'resolution': 3649, 'wwii': 4975, 'al': 170, 'week': 4837, 'steel': 4173, 'spoiled': 4122, 'likewise': 2603, 'pearl': 3220, 'duty': 1390, 'joined': 2413, 'combat': 882, 'crack': 1027, 'unit': 4663, 'engage': 1479, 'control': 977, 'battle': 414, 'handed': 2016, 'massive': 2756, 'wave': 4818, 'arrived': 301, 'faced': 1617, 'overcome': 3151, 'pride': 3391, 'troops': 4591, 'navy': 2976, 'albert': 174, 'thousands': 4466, 'wounded': 4961, 'difficult': 1249, 'order': 3126, 'defeat': 1157, 'resemblance': 3645, 'fears': 1677, 'noble': 3021, 'emotion': 1458, 'morris': 2908, 'teacher': 4375, 'baseball': 403, 'coach': 868, 'dennis': 1179, 'credible': 1048, 'relief': 3605, 'bay': 416, 'devil': 1228, 'tag': 4348, 'pacing': 3163, 'extra': 1606, 'subplots': 4256, 'national': 2970, 'adam': 111, 'vietnam': 4735, 'veteran': 4724, 'roy': 3745, 'loser': 2655, 'wound': 4960, 'receives': 3565, 'widmark': 4882, 'freedom': 1828, 'cell': 730, 'mate': 2765, 'mad': 2696, 'talk': 4358, 'identity': 2217, 'strangely': 4212, 'catch': 714, 'united': 4664, 'synopsis': 4344, 'trick': 4582, 'harvey': 2042, 'turkey': 4604, 'funnier': 1850, 'caine': 647, 'carter': 703, 'watchable': 4812, 'operation': 3117, 'shoes': 3941, 'id': 2212, 'anywhere': 263, 'presumably': 3380, 'opens': 3115, 'voiced': 4762, 'bbc': 417, 'absurd': 73, 'madness': 2698, 'legendary': 2565, '1980': 20, 'raise': 3507, 'rule': 3753, 'energy': 1478, 'captivating': 675, 'philosophical': 3253, 'cinematic': 818, 'semi': 3874, 'conversations': 981, 'heights': 2073, 'ourselves': 3140, 'lesson': 2577, 'further': 1853, 'kingdom': 2480, 'tend': 4400, 'flicks': 1755, 'futuristic': 1857, 'simon': 3982, 'garden': 1872, 'forty': 1807, 'forces': 1788, 'army': 295, 'string': 4227, 'dragon': 1344, 'consists': 955, 'bits': 490, 'cutting': 1092, 'properly': 3437, 'convey': 982, 'jaw': 2384, 'dropping': 1371, 'moore': 2901, 'fx': 1858, 'queen': 3485, 'manner': 2729, 'destroying': 1215, 'storytelling': 4209, 'dreadful': 1353, 'cliche': 843, 'rock': 3720, 'kicking': 2462, 'dust': 1388, 'olivier': 3103, 'brilliantly': 584, 'germany': 1898, 'exposed': 1598, 'jet': 2400, 'debut': 1143, 'smaller': 4034, 'fantastic': 1651, 'thankfully': 4422, 'military': 2844, '1996': 26, 'terrorists': 4414, 'cia': 814, 'contain': 962, 'send': 3875, 'door': 1328, 'network': 3000, 'rubbish': 3748, 'unforgettable': 4652, 'overwhelming': 3157, 'presence': 3373, 'sadness': 3770, 'approach': 282, 'rare': 3523, 'loose': 2650, 'understated': 4646, 'result': 3660, 'explosions': 1597, 'awe': 370, 'skills': 4014, 'viewed': 4737, 'politics': 3326, 'france': 1816, 'appeal': 271, 'amongst': 218, 'concept': 930, 'traditional': 4550, 'patient': 3211, 'regret': 3591, 'michelle': 2830, 'ignorant': 2223, 'dad': 1095, 'passion': 3205, 'sport': 4129, 'lawrence': 2539, 'kick': 2460, 'thumbs': 4485, 'hang': 2022, 'ground': 1979, 'financial': 1725, 'students': 4239, 'schools': 3814, 'teach': 4374, 'teenagers': 4391, '1970s': 17, 'inspiring': 2302, 'eg': 1434, 'donna': 1323, 'teens': 4392, 'stanwyck': 4149, 'station': 4164, 'prepared': 3371, 'fairy': 1632, 'wit': 4908, 'smooth': 4041, 'spiritual': 4116, 'tradition': 4549, 'presentation': 3375, 'eight': 1436, '2002': 32, 'race': 3499, 'relations': 3596, 'regard': 3588, 'derek': 1192, 'luke': 2687, 'denzel': 1181, 'washington': 4806, 'sticks': 4186, 'general': 1880, 'maintain': 2710, 'loving': 2675, 'intriguing': 2335, 'appreciate': 279, 'orson': 3132, 'welles': 4844, 'sees': 3866, 'park': 3190, 'hits': 2125, 'saves': 3796, 'ireland': 2352, 'husband': 2204, 'arthur': 305, 'attorney': 348, 'involved': 2346, 'glenn': 1918, 'scheme': 3812, 'naturally': 2974, 'lie': 2590, 'et': 1526, 'table': 4346, 'imdb': 2240, '1999': 27, 'candy': 668, 'shoots': 3944, 'exaggerated': 1552, 'uneven': 4649, '50': 51, 'opera': 3116, 'improve': 2254, 'relative': 3599, 'exotic': 1574, 'combination': 883, 'largely': 2518, 'creates': 1038, 'drops': 1372, 'serves': 3895, 'backdrop': 379, 'shocked': 3939, 'devoted': 1231, 'factory': 1623, 'equipment': 1511, 'dolls': 1316, 'living': 2629, 'experiment': 1583, 'commercial': 902, 'blank': 501, 'cage': 645, 'pilot': 3276, 'trek': 4578, 'cleverly': 842, 'planet': 3289, 'allow': 189, 'burned': 626, 'contact': 961, 'explained': 1587, 'bothered': 549, 'travel': 4567, 'kirk': 2482, 'charge': 761, 'received': 3564, 'orders': 3127, 'risk': 3704, 'occurred': 3077, 'advanced': 128, 'quit': 3494, 'season': 3843, 'constant': 957, 'proceedings': 3410, 'nick': 3012, 'sandra': 3782, 'loyal': 2679, 'pal': 3177, 'ruthless': 3764, 'gangster': 1868, 'satisfying': 3791, 'winner': 4897, 'desperate': 1208, 'wrestling': 4966, 'plans': 3292, 'month': 2896, 'rap': 3520, 'edited': 1420, 'fay': 1674, 'grim': 1974, 'henry': 2084, 'assume': 328, 'jay': 2386, 'ryan': 3765, 'toy': 4542, 'holds': 2131, 'deeper': 1155, 'hal': 2006, 'accomplished': 87, 'jeff': 2390, 'june': 2433, 'cash': 709, 'miscast': 2862, 'puts': 3481, 'cd': 728, 'clint': 850, 'eastwood': 1409, 'gritty': 1977, 'quotes': 3497, 'ya': 4976, 'scenery': 3810, 'co': 867, 'elvira': 1450, 'icon': 2211, 'monster': 2892, 'motion': 2913, 'pictures': 3270, 'wide': 4880, 'fame': 1642, 'charm': 767, 'respect': 3652, 'cameo': 657, 'mid': 2832, '2001': 31, 'impress': 2250, 'forgettable': 1794, 'convinced': 984, 'aunt': 355, 'vegas': 4717, 'claim': 828, 'travels': 4569, 'treat': 4572, 'mansion': 2731, 'uncle': 4636, 'vincent': 4746, 'powers': 3361, 'liners': 2611, 'taste': 4369, 'heavily': 2069, 'naked': 2959, 'comedies': 889, 'spoof': 4127, 'finale': 1723, 'consistently': 954, 'builds': 617, 'mildly': 2840, 'supernatural': 4302, 'wizard': 4919, 'hunt': 2198, 'burn': 625, 'unfunny': 4655, 'daniel': 1111, 'imagined': 2239, 'driving': 1368, 'intimate': 2331, 'emily': 1456, 'victoria': 4732, 'blunt': 520, 'elements': 1443, 'tender': 4401, 'technical': 4381, 'appreciated': 280, 'wonderfully': 4929, 'movement': 2923, 'cure': 1081, 'eat': 1411, 'brains': 563, 'doc': 1303, 'zombies': 4998, 'doctors': 1305, 'troubles': 4594, 'zombie': 4997, 'blockbuster': 509, 'crimes': 1056, 'alike': 185, 'suffering': 4277, 'mental': 2808, 'tear': 4379, 'chase': 769, 'market': 2740, 'grand': 1953, 'chest': 784, 'sat': 3786, 'random': 3514, 'chooses': 800, 'bridge': 578, 'idiot': 2218, 'stupidity': 4248, 'picking': 3267, 'decides': 1150, 'appalling': 268, 'aged': 149, 'extended': 1604, 'montage': 2894, 'recorded': 3574, 'shakespeare': 3915, 'prostitute': 3440, 'utter': 4701, 'thrill': 4471, 'suspend': 4329, 'instance': 2304, 'per': 3223, 'roots': 3738, 'subtlety': 4261, 'terrifying': 4410, 'channels': 754, 'costume': 1005, 'ghost': 1902, 'demon': 1177, 'appearances': 275, 'visible': 4753, 'extraordinary': 1607, 'rate': 3526, 'existence': 1571, 'ghosts': 1903, 'occasionally': 3075, 'window': 4894, 'pulls': 3464, 'closest': 857, 'criticism': 1063, 'print': 3399, 'prize': 3405, 'quest': 3486, 'struggle': 4234, 'listen': 2619, 'horrors': 2169, 'joseph': 2419, 'smith': 4038, 'religious': 3608, 'cost': 1003, 'suffered': 4276, 'beliefs': 452, 'commented': 900, 'carradine': 695, 'linda': 2609, 'theaters': 4428, 'teenager': 4390, 'gags': 1862, 'mindless': 2851, 'rival': 3706, 'laughed': 2532, 'lol': 2640, 'hitler': 2124, 'reflect': 3584, 'truth': 4599, 'accepted': 82, 'leader': 2546, 'der': 1191, 'nazi': 2977, 'beings': 449, 'christian': 808, 'plague': 3285, 'complain': 919, 'blown': 516, 'wake': 4774, 'holmes': 2139, 'potentially': 3356, 'study': 4242, 'clue': 864, '1990s': 25, 'cartoon': 704, 'cartoons': 705, 'mom': 2885, 'differences': 1247, 'caring': 691, 'racist': 3503, 'disappointment': 1275, 'bomb': 531, 'stinks': 4192, 'commercials': 903, 'abc': 63, 'press': 3379, 'unique': 4662, 'lawyer': 2541, 'installment': 2303, 'lasted': 2522, 'excited': 1561, 'circumstances': 822, 'ii': 2226, 'loss': 2659, 'saga': 3773, 'transformation': 4560, 'aging': 153, 'ambitious': 211, 'reaching': 3539, 'lowest': 2678, 'riveting': 3708, 'journey': 2421, 'greatly': 1967, 'mess': 2818, 'solution': 4059, 'pretend': 3381, 'timothy': 4499, 'deserved': 1200, '3rd': 47, 'dalton': 1098, 'nicholson': 3011, 'jon': 2416, 'houses': 2180, 'guts': 1999, 'sleazy': 4023, 'wanna': 4786, 'models': 2881, 'round': 3742, 'li': 2587, 'reputation': 3640, 'fooled': 1780, '40s': 49, 'popularity': 3334, 'profound': 3423, 'overrated': 3156, 'decisions': 1152, 'mountains': 2918, 'criminals': 1058, 'helicopter': 2076, 'fly': 1763, 'cases': 708, 'illogical': 2231, 'jewish': 2401, 'joan': 2404, 'fighter': 1708, 'brave': 567, 'poignant': 3315, 'entertained': 1498, 'hat': 2045, 'eve': 1532, 'producing': 3417, 'surprises': 4314, 'pseudo': 3454, 'tiresome': 4502, 'poem': 3312, 'glimpse': 1919, 'seeking': 3859, 'redemption': 3578, 'viewings': 4741, 'seventies': 3904, 'condition': 937, 'professor': 3422, 'bed': 436, 'sinister': 3998, 'consequences': 947, 'facial': 1619, 'ups': 4686, 'dogs': 1311, 'border': 539, 'trained': 4557, 'tongue': 4518, 'cheek': 779, 'russian': 3762, 'beating': 425, 'snow': 4045, 'turning': 4608, 'newly': 3004, 'korean': 2495, 'vast': 4716, 'shadow': 3912, 'everybody': 1540, 'angels': 234, 'lively': 2627, 'creative': 1041, 'popcorn': 3331, 'trust': 4598, 'revolves': 3682, 'discovered': 1280, 'trite': 4589, 'manipulative': 2727, 'explosion': 1596, 'focus': 1766, 'yesterday': 4983, 'chemistry': 782, 'families': 1644, 'anti': 254, 'spoil': 4121, 'anymore': 258, 'silent': 3975, 'afraid': 140, 'rolled': 3729, 'incoherent': 2265, 'overlook': 3153, 'miracle': 2860, 'library': 2589, 'overacting': 3149, 'tense': 4403, 'nominated': 3025, 'steals': 4172, 'advantage': 129, 'styles': 4250, 'unreal': 4676, 'kung': 2498, 'fu': 1844, 'versions': 4721, 'sounded': 4082, 'grace': 1950, 'cinemas': 817, 'subjects': 4254, 'directly': 1263, 'influenced': 2287, 'translation': 4562, 'wandering': 4785, 'panic': 3181, 'develops': 1226, 'yelling': 4980, 'primarily': 3393, 'grey': 1973, 'canada': 666, 'bill': 481, 'lovable': 2668, 'endearing': 1469, 'kicks': 2463, 'brutally': 604, 'depressing': 1188, 'pamela': 3179, 'reed': 3580, 'union': 4661, 'jobs': 2406, 'disappear': 1270, 'workers': 4943, 'wives': 4918, 'recognize': 3569, 'weight': 4840, 'thrillers': 4473, 'adults': 126, 'strictly': 4223, 'civil': 826, 'map': 2733, 'roberts': 3714, 'nancy': 2964, 'therefore': 4439, 'mainstream': 2709, 'april': 284, 'merit': 2816, 'massacre': 2754, 'fallen': 1638, 'deeply': 1156, 'plight': 3308, 'copies': 992, '1973': 19, 'inferior': 2285, 'charming': 768, 'enterprise': 1495, 'universe': 4666, 'threatening': 4468, 'glass': 1917, 'franchise': 1817, 'ironic': 2355, 'handle': 2018, 'misses': 2868, 'painful': 3171, 'dancers': 1105, 'cars': 702, 'remarkably': 3614, 'knife': 2487, 'youd': 4987, 'flashbacks': 1747, 'rising': 3703, 'sun': 4292, 'shirt': 3937, 'methods': 2825, 'official': 3094, 'offensive': 3086, 'unbelievable': 4634, 'hasnt': 2044, 'propaganda': 3435, 'pair': 3176, 'silver': 3977, 'row': 3744, 'specifically': 4100, 'nine': 3017, 'forth': 1804, 'till': 4493, 'thugs': 4484, 'source': 4086, 'carries': 699, 'todays': 4509, 'everyones': 1543, 'decades': 1145, '90s': 61, 'groups': 1981, 'code': 869, 'controversial': 978, 'hip': 2114, 'hop': 2154, 'knowledge': 2491, 'tap': 4364, 'hook': 2152, 'extras': 1608, 'solo': 4058, 'artists': 309, 'fashioned': 1660, 'occasion': 3073, 'whenever': 4863, 'competent': 917, 'notes': 3046, 'punch': 3466, 'novels': 3053, 'lesser': 2576, 'lewis': 2586, 'stiller': 4189, 'literature': 2623, 'performers': 3232, 'amitabh': 216, 'captured': 677, 'extent': 1605, 'subplot': 4255, 'laurel': 2537, 'hardy': 2037, 'shorts': 3948, 'destruction': 1216, 'caused': 724, 'stan': 4142, '1933': 12, 'hole': 2132, 'examples': 1554, 'built': 618, '30s': 44, 'personalities': 3241, 'abilities': 64, 'accept': 80, 'colonel': 876, 'endless': 1473, 'losing': 2658, 'sons': 4073, 'reviewers': 3678, 'noir': 3023, 'cook': 988, 'barbara': 397, 'phantom': 3251, 'drugs': 1374, 'mere': 2814, 'post': 3352, 'executed': 1565, 'daily': 1097, 'lonely': 2643, 'ridden': 3691, 'canadian': 667, 'descent': 1193, 'mouse': 2919, 'jerry': 2396, 'bottle': 550, 'changing': 752, 'inventive': 2341, 'guilt': 1994, 'investigate': 2342, 'funeral': 1849, 'vivid': 4760, 'hitting': 2126, 'helping': 2081, 'population': 3335, 'senseless': 3878, 'afterwards': 145, 'jesse': 2397, 'pointed': 3317, 'conflicts': 940, 'robbins': 3712, 'ensues': 1493, 'screening': 3830, 'lifetime': 2594, 'cooper': 990, 'ethan': 1528, 'segments': 3868, 'experiences': 1582, 'cities': 823, 'championship': 745, 'basketball': 409, 'soccer': 4048, 'fulci': 1845, 'skip': 4016, 'beatty': 427, 'pulling': 3463, 'robbery': 3711, 'incomprehensible': 2267, 'train': 4556, 'exists': 1573, 'wood': 4933, 'legend': 2564, 'lengthy': 2570, 'renting': 3629, 'priest': 3392, 'opposed': 3122, 'calling': 653, 'downright': 1337, 'comical': 894, 'cheese': 780, 'ran': 3513, 'fred': 1825, 'reasonably': 3559, 'mario': 2738, 'issue': 2364, 'blair': 497, 'seconds': 3848, 'succeeds': 4264, 'gothic': 1945, 'atmospheric': 334, 'sexuality': 3909, 'titles': 4506, 'currently': 1085, 'remembered': 3617, 'valley': 4707, 'gods': 1928, 'understandable': 4644, 'casting': 711, 'eyed': 1612, 'ian': 2209, 'walker': 4778, 'sid': 3964, 'marty': 2749, 'sarah': 3785, 'pleased': 3305, 'colors': 879, 'student': 4238, 'religion': 3607, 'elsewhere': 1449, 'artistic': 308, 'statement': 4162, 'broadway': 592, 'walter': 4784, 'matthau': 2771, 'comics': 895, 'charles': 764, 'learned': 2551, 'storm': 4206, 'sunshine': 4294, 'kudos': 2497, 'borrowed': 545, 'health': 2060, 'performer': 3231, 'strongly': 4231, 'qualities': 3483, 'inevitably': 2283, 'chased': 770, 'uwe': 4703, 'boll': 529, 'frequent': 1831, 'guide': 1993, 'spirits': 4115, 'wonders': 4931, 'listening': 2620, 'inspiration': 2300, 'stones': 4198, 'deep': 1154, 'purple': 3473, 'reunion': 3669, 'karen': 2444, 'jimmy': 2403, 'ray': 3533, 'billy': 482, 'bruce': 602, 'sing': 3992, 'molly': 2884, '16': 8, 'screenwriter': 3833, 'horses': 2171, 'private': 3404, '2nd': 41, 'intrigue': 2333, 'path': 3209, 'composed': 926, 'bell': 458, 'sounding': 4083, 'hurts': 2203, 'miserable': 2863, 'wells': 4845, 'craft': 1028, 'scope': 3821, 'exploration': 1593, 'scientists': 3819, 'masters': 2761, 'remotely': 3623, 'bird': 484, 'similarly': 3980, 'unfolds': 4651, 'stops': 4203, 'farm': 1656, 'loves': 2674, 'talks': 4361, 'remains': 3611, 'covered': 1023, 'bright': 581, 'whos': 4876, 'retarded': 3663, 'immensely': 2243, 'battles': 415, 'succeed': 4262, 'aliens': 184, 'worried': 4949, 'buildings': 616, 'kinda': 2477, 'scientific': 3817, 'breathtaking': 574, 'rob': 3710, 'earl': 1398, 'discussion': 1284, 'gangsters': 1869, 'innovative': 2295, 'tons': 4520, 'officers': 3093, 'dedicated': 1153, 'complicated': 925, 'unexpected': 4650, 'goodness': 1938, 'sacrifice': 3766, 'macy': 2695, 'campbell': 663, 'object': 3066, 'sutherland': 4333, 'careful': 688, 'loaded': 2632, 'hooked': 2153, 'sucked': 4270, 'implausible': 2245, 'creator': 1043, 'online': 3109, 'clichéd': 845, 'waves': 4819, 'westerns': 4854, 'stiff': 4187, 'choreography': 802, 'flaws': 1752, 'stevens': 4183, 'anthony': 253, 'flynn': 1765, 'league': 2549, 'happiness': 2031, 'honor': 2150, 'corruption': 1002, 'confusion': 943, 'september': 3884, 'affect': 136, 'lower': 2677, 'astaire': 330, 'rogers': 3725, 'ear': 1397, 'guessed': 1990, 'berlin': 467, 'ginger': 1908, 'acceptable': 81, 'theatrical': 4430, 'oddly': 3081, 'equivalent': 1512, 'cruel': 1070, 'sin': 3988, 'shouldnt': 3952, 'spread': 4133, 'limits': 2607, 'minds': 2852, 'legal': 2563, 'wealth': 4826, 'matrix': 2767, 'purposes': 3475, 'ratings': 3530, 'sexual': 3908, 'blows': 517, 'guns': 1998, 'security': 3854, 'ruined': 3751, 'involvement': 2347, 'reflection': 3585, 'justify': 2439, 'equal': 1509, 'arrogant': 303, 'motivation': 2914, 'rendition': 3625, 'pushed': 3478, 'dig': 1250, 'curse': 1086, 'phone': 3255, 'invasion': 2340, 'loads': 2633, 'delight': 1167, 'ages': 152, 'catchy': 717, 'tunes': 4603, 'hundred': 2195, 'perfection': 3225, 'uk': 4626, 'modesty': 2883, 'unknown': 4668, 'couples': 1017, 'split': 4120, 'ancient': 225, 'possessed': 3347, 'digital': 1251, 'los': 2653, 'angeles': 233, 'unintentional': 4658, 'latin': 2527, 'expressions': 1603, 'benefit': 465, 'strangers': 4214, 'vulnerable': 4768, 'remarks': 3615, 'closely': 855, 'matches': 2764, 'guest': 1992, 'mike': 2838, 'sick': 3963, 'seasons': 3844, 'anderson': 227, 'atlantis': 332, 'stargate': 4151, 'types': 4622, 'charlie': 765, 'animals': 240, 'ann': 244, 'promises': 3432, 'anyways': 262, 'everyday': 1541, 'hudson': 2184, 'winters': 4901, 'politically': 3325, 'indians': 2275, 'afford': 138, 'chicago': 785, 'creators': 1044, 'editor': 1423, 'luckily': 2682, 'subsequent': 4257, '70': 55, 'bette': 471, 'davis': 1126, 'waitress': 4773, 'mildred': 2841, 'obsessed': 3069, 'throwing': 4480, 'fish': 1738, 'football': 1783, 'melodrama': 2797, 'danger': 1109, 'solely': 4056, 'fest': 1696, 'marvelous': 2750, 'serving': 3897, 'antics': 255, 'childrens': 793, 'parent': 3187, 'typically': 4624, 'horrid': 2165, 'training': 4558, 'brilliance': 582, 'thirty': 4456, 'luck': 2681, 'allowing': 191, 'hoped': 2156, 'jamie': 2379, 'vehicle': 4718, 'ad': 110, 'grasp': 1960, 'creativity': 1042, 'originally': 3131, 'faster': 1662, 'bag': 384, 'harsh': 2040, 'contained': 963, 'remaining': 3610, 'rochester': 3719, 'eyre': 1614, 'depicted': 1183, 'depicting': 1184, 'obscure': 3068, 'unwatchable': 4682, 'bullets': 621, 'everywhere': 1545, 'swear': 4334, 'wished': 4905, 'trilogy': 4586, 'chapter': 757, 'darker': 1116, 'heat': 2067, 'investigation': 2343, 'killings': 2473, 'critic': 1061, 'fortune': 1806, 'nuts': 3064, 'detailed': 1218, 'views': 4742, 'needless': 2989, 'nazis': 2978, 'communist': 907, 'alcohol': 176, 'wholly': 4874, 'iron': 2354, 'link': 2613, 'relevant': 3604, 'realism': 3549, 'johnson': 2411, 'nations': 2971, 'east': 1407, 'ham': 2011, 'slave': 4022, 'rex': 3683, 'urge': 4689, 'fetched': 1698, 'snl': 4044, 'oliver': 3102, 'displays': 1293, 'intensity': 2317, 'jake': 2377, 'bull': 619, 'push': 3477, 'matched': 2763, 'oscars': 3134, 'realise': 3548, 'useless': 4695, 'blew': 505, 'sophisticated': 4075, 'georges': 1894, 'sings': 3997, 'piano': 3264, 'colorful': 878, 'gem': 1877, 'khan': 2459, 'drags': 1345, 'dubbing': 1380, 'winter': 4900, 'cruise': 1071, 'slight': 4027, 'sits': 4006, 'superhero': 4299, 'record': 3573, 'hadnt': 2004, 'removed': 3624, 'oil': 3097, 'poetic': 3313, 'birds': 485, 'blues': 519, 'spectacular': 4101, 'color': 877, 'nights': 3016, 'le': 2544, 'carrying': 701, 'lying': 2690, 'howard': 2182, 'jonathan': 2417, 'nicholas': 3010, 'format': 1799, 'eastern': 1408, 'cold': 872, 'suitable': 4285, 'homer': 2144, 'danny': 1112, 'glover': 1923, 'rings': 3699, 'limited': 2606, 'soul': 4079, 'beats': 426, 'switch': 4339, 'gentle': 1890, 'tall': 4362, 'sharp': 3922, 'classical': 836, 'kills': 2474, 'messed': 2821, 'noted': 3045, 'constantly': 958, 'faithful': 1634, 'jackson': 2375, 'mixture': 2878, 'green': 1971, 'skin': 4015, 'teeth': 4393, 'damage': 1099, 'hippie': 2115, 'crude': 1069, 'golden': 1934, 'sheer': 3925, 'aint': 163, 'letters': 2582, 'comparison': 914, 'meaningful': 2781, 'lesbian': 2573, 'creation': 1040, 'charlotte': 766, 'devoid': 1230, 'mrs': 2930, 'doll': 1313, 'amanda': 205, 'web': 4833, 'amazed': 208, 'robin': 3715, 'friendly': 1836, 'core': 995, 'porno': 3337, 'cardboard': 682, 'nonsensical': 3031, 'purely': 3472, 'newspaper': 3006, 'rocks': 3722, 'kicked': 2461, 'butt': 638, '24': 39, 'pointless': 3318, 'worry': 4950, 'fix': 1744, 'pulp': 3465, 'resources': 3651, '25': 40, 'nelson': 2997, 'cannibal': 669, 'dub': 1378, 'goofy': 1939, 'franco': 1820, 'balls': 390, 'eddie': 1416, 'clean': 838, 'holy': 2140, 'curiosity': 1082, 'bollywood': 530, 'surfing': 4311, 'prior': 3400, 'distinct': 1296, 'accompanied': 86, 'falk': 1636, 'demands': 1175, 'agreed': 156, 'pink': 3277, 'rebel': 3561, 'specific': 4099, 'twenty': 4612, 'monkey': 2890, 'unable': 4631, 'sally': 3776, 'shines': 3932, 'contrast': 975, 'warm': 4794, 'interaction': 2322, 'crisis': 1060, 'destiny': 1212, 'useful': 4694, 'committed': 905, 'sean': 3840, 'center': 732, 'comfortable': 892, 'homosexual': 2145, 'closet': 858, 'dealt': 1138, 'lit': 2621, 'underground': 4640, 'fathers': 1667, 'jealous': 2388, 'artificial': 306, 'cameras': 660, 'explore': 1594, 'reference': 3582, 'notion': 3050, 'environment': 1505, 'suspects': 4328, 'deliberately': 1166, 'closed': 854, 'glory': 1922, 'receive': 3563, 'appearing': 277, 'undoubtedly': 4648, 'psychiatrist': 3455, 'troubled': 4593, 'melodramatic': 2798, 'response': 3654, 'elaborate': 1439, 'scientist': 3818, 'definite': 1161, 'directorial': 1265, 'critical': 1062, 'pat': 3208, 'photos': 3261, 'produce': 3413, 'junk': 2436, 'breasts': 572, 'category': 718, 'knock': 2488, 'plastic': 3294, 'mask': 2752, 'conceived': 929, 'buddies': 608, 'lloyd': 2630, 'julie': 2428, 'husbands': 2205, 'hood': 2151, 'hints': 2113, 'protect': 3443, 'property': 3438, 'shining': 3933, 'scripted': 3835, 'manager': 2724, 'wins': 4899, 'mel': 2796, 'games': 1865, 'pitch': 3279, 'morning': 2906, 'celluloid': 731, 'fabulous': 1615, 'miles': 2843, 'tooth': 4524, 'jungle': 2434, 'civilization': 827, 'blatant': 502, 'lion': 2614, 'succeeded': 4263, 'threat': 4467, 'convoluted': 987, 'deadly': 1133, 'reduced': 3579, 'agents': 151, 'served': 3894, 'meaningless': 2782, 'status': 4165, 'parties': 3196, 'fancy': 1649, 'dress': 1357, 'rooms': 3736, 'inspector': 2299, 'gonna': 1936, 'gross': 1978, 'slick': 4026, 'nevertheless': 3002, 'eager': 1396, 'bob': 524, 'soviet': 4089, 'wed': 4835, '2006': 36, 'kim': 2475, 'improvement': 2256, 'concerns': 934, 'technique': 4383, 'unhappy': 4656, 'lucy': 2684, 'chess': 783, 'crafted': 1029, 'catching': 716, 'global': 1920, 'relation': 3595, 'karloff': 2445, 'demented': 1176, 'confusing': 942, 'fury': 1855, 'spain': 4091, 'generations': 1884, 'ingredients': 2289, 'exposure': 1599, 'flaw': 1749, 'wear': 4830, 'spielberg': 4110, 'jaws': 2385, 'fare': 1655, 'blacks': 494, 'overlooked': 3154, 'empire': 1464, 'travesty': 4570, 'burning': 627, 'formulaic': 1803, 'constructed': 959, 'humorous': 2193, 'strikes': 4225, 'womens': 4924, 'gender': 1878, 'womans': 4922, 'scottish': 3825, 'bare': 398, 'struggles': 4235, 'increasingly': 2268, 'vaguely': 4706, 'parody': 3192, 'basis': 408, 'walked': 4776, 'masterful': 2758, 'craig': 1030, 'rotten': 3740, 'perform': 3227, 'horrendous': 2162, 'liberal': 2588, 'batman': 413, 'ron': 3734, 'philip': 3252, 'prime': 3395, 'raymond': 3534, 'mayor': 2777, 'brazil': 568, 'access': 83, 'repeat': 3630, 'props': 3439, 'floating': 1758, 'escaped': 1518, 'hung': 2197, 'omen': 3104, 'attitude': 346, 'merits': 2817, 'bullet': 620, 'trashy': 4566, 'lemmon': 2567, 'sloppy': 4030, 'felix': 1689, 'tracy': 4546, 'broadcast': 591, 'enjoying': 1487, 'seek': 3858, 'ought': 3138, 'teaching': 4377, 'abraham': 69, 'wisdom': 4902, 'homeless': 2143, 'odds': 3082, 'passionate': 3206, 'photographed': 3258, 'belongs': 460, 'altogether': 202, 'erotic': 1515, 'poster': 3353, 'productions': 3420, '1972': 18, 'jessica': 2398, 'americas': 215, 'superficial': 4298, 'talents': 4356, 'charisma': 762, 'warrior': 4802, 'samurai': 3779, 'prince': 3396, 'stellar': 4174, 'desired': 1206, 'expert': 1585, 'disc': 1278, 'trailers': 4555, 'revolution': 3680, 'prequel': 3372, 'woody': 4936, 'beneath': 464, 'pushing': 3479, 'aimed': 162, 'feminist': 1695, 'midnight': 2834, 'internet': 2327, 'weapon': 4828, 'reads': 3545, 'higher': 2101, 'classes': 834, 'humble': 2191, 'heroes': 2089, 'spell': 4104, 'achievement': 94, 'cox': 1026, 'painted': 3174, 'frequently': 1832, 'assumed': 329, 'comparing': 913, 'wallace': 4782, 'larger': 2519, 'kings': 2481, 'heroic': 2090, 'duke': 1383, 'persons': 3244, 'compelled': 915, 'safety': 3772, 'greater': 1965, 'centered': 733, 'honesty': 2148, 'pie': 3271, 'simpson': 3987, 'growing': 1983, 'thank': 4421, 'itll': 2369, 'idiotic': 2219, 'delivering': 1171, 'ned': 2986, 'intentionally': 2320, 'counter': 1011, 'hearted': 2065, 'brown': 601, 'earned': 1401, 'embarrassment': 1455, 'watches': 4814, 'sentimental': 3882, 'duo': 1386, 'mixed': 2877, 'spike': 4111, 'provoking': 3452, 'endure': 1475, 'halfway': 2008, 'polished': 3323, 'shop': 3945, 'suspicious': 4332, 'chicks': 787, 'motives': 2916, 'attempting': 342, 'gruesome': 1986, 'highlights': 2104, 'jerk': 2395, 'suits': 4287, 'speed': 4103, 'flight': 1757, 'elvis': 1451, 'worker': 4942, 'lessons': 2578, 'returned': 3666, 'attempted': 341, 'starred': 4153, 'chuck': 812, 'picks': 3268, 'rambo': 3511, 'base': 402, 'theory': 4437, 'jackie': 2374, 'chan': 746, 'food': 1778, 'distribution': 1298, 'displayed': 1292, 'failing': 1627, 'celebrity': 729, 'amounts': 220, 'jazz': 2387, 'andrew': 228, 'heston': 2094, 'progress': 3425, 'terrorist': 4413, 'gary': 1873, 'defend': 1158, 'discovery': 1282, 'revelation': 3674, 'hoffman': 2128, 'voight': 4764, 'naive': 2958, 'perspective': 3245, 'causing': 726, 'stayed': 4167, 'folk': 1770, 'inane': 2258, 'unpredictable': 4675, 'mini': 2854, 'granted': 1957, 'birthday': 487, 'connected': 945, 'tomatoes': 4515, 'enthusiasm': 1501, '2007': 37, 'werewolf': 4850, 'cheating': 776, 'experiments': 1584, 'slapstick': 4019, 'incompetent': 2266, 'alcoholic': 177, 'hello': 2078, 'losers': 2656, 'medical': 2790, 'elderly': 1440, 'unlikely': 4671, 'essence': 1521, 'ruby': 3749, 'madonna': 2699, 'shut': 3961, 'lees': 2560, 'victor': 4731, 'spring': 4134, 'treasure': 4571, 'pops': 3332, 'focuses': 1768, 'survivors': 4325, 'length': 2569, 'guarantee': 1987, 'construction': 960, 'tie': 4488, 'fascinated': 1657, 'domestic': 1318, 'tape': 4365, 'stinker': 4191, 'focusing': 1769, 'ridiculously': 3694, 'devils': 1229, 'greed': 1968, 'simmons': 3981, 'album': 175, 'outrageous': 3145, 'carrie': 697, 'slaughter': 4021, 'notorious': 3051, 'gordon': 1940, 'museum': 2945, 'accused': 91, 'measure': 2786, '60': 53, 'stunt': 4245, 'bargain': 400, 'bin': 483, 'surrounded': 4318, 'confidence': 938, 'sneak': 4043, 'possibilities': 3348, 'disturbed': 1299, 'riding': 3695, 'aids': 161, 'facing': 1620, 'resort': 3650, 'mass': 2753, 'germans': 1897, 'reveal': 3670, '1940s': 13, 'rabbit': 3498, 'ballet': 389, 'imagery': 2234, 'advance': 127, 'danes': 1108, 'featured': 1679, 'hopper': 2161, 'mistaken': 2872, 'exceptional': 1558, 'seeks': 3860, 'chorus': 803, 'rushed': 3760, 'theyd': 4443, 'cats': 721, 'suggested': 4281, 'defined': 1160, 'annie': 247, 'psychotic': 3459, 'explaining': 1588, 'plausible': 3295, 'degree': 1164, 'attraction': 350, 'stomach': 4196, 'activities': 102, 'occurs': 3078, 'brady': 561, 'unbearable': 4633, 'wishing': 4907, 'robots': 3718, 'theyve': 4446, '50s': 52, 'outcome': 3142, 'slightest': 4028, 'essential': 1522, 'months': 2897, 'dramas': 1347, '35': 45, 'trees': 4577, 'climactic': 848, 'ward': 4793, 'cagney': 646, 'boom': 537, 'mature': 2773, 'chair': 742, 'trail': 4553, 'card': 681, 'forgive': 1795, 'bite': 489, 'sellers': 3872, 'engaged': 1480, 'shy': 3962, 'vice': 4727, 'designs': 1204, 'relies': 3606, 'cringe': 1059, 'selling': 3873, 'jr': 2423, 'photo': 3257, 'letting': 2583, 'thoughtful': 4463, 'burton': 630, 'idiots': 2220, 'simplistic': 3985, 'signs': 3973, 'instant': 2305, 'routine': 3743, 'mexican': 2826, 'exercise': 1568, 'absence': 70, 'tame': 4363, 'lacked': 2503, 'superman': 4301, 'estate': 1525, 'petty': 3249, 'stated': 4161, 'deceased': 1146, 'pot': 3354, 'headed': 2058, 'airport': 167, 'replaced': 3634, 'cared': 685, 'aforementioned': 139, 'ultra': 4629, 'advise': 134, 'product': 3418, 'marks': 2742, 'kidding': 2465, 'catches': 715, 'oz': 3160, 'pet': 3246, 'australia': 356, 'brando': 566, 'method': 2824, 'feed': 1683, 'wedding': 4836, 'dressing': 1359, 'meeting': 2794, 'despair': 1207, 'cuba': 1075, 'transition': 4561, 'wrap': 4963, 'nervous': 2999, 'depression': 1189, 'household': 2179, 'illness': 2230, 'willis': 4890, 'hammer': 2014, 'rachel': 3500, 'julia': 2427, 'consistent': 953, 'normally': 3034, 'dollar': 1314, 'hundreds': 2196, 'satan': 3787, 'walken': 4777, 'tiger': 4491, 'solve': 4060, 'nostalgic': 3039, 'responsibility': 3655, 'countryside': 1015, 'reel': 3581, 'bound': 553, 'regardless': 3590, 'hire': 2116, 'church': 813, 'widow': 4883, 'opened': 3113, 'trademark': 4548, 'backgrounds': 381, 'disease': 1285, 'andrews': 229, 'menace': 2806, 'creature': 1045, 'ramones': 3512, 'notable': 3041, 'authority': 360, '18': 10, 'beast': 422, 'clips': 852, 'performed': 3230, 'lily': 2605, 'judy': 2426, 'childhood': 790, 'christians': 809, 'coffee': 870, 'argument': 291, 'offended': 3085, 'phony': 3256, 'scares': 3806, 'mile': 2842, 'term': 4405, 'sincere': 3991, '1968': 16, 'revolutionary': 3681, 'dynamic': 1394, 'scripts': 3836, 'significant': 3972, 'existed': 1570, 'host': 2173, 'babe': 375, 'corrupt': 1001, 'depressed': 1187, 'moody': 2899, 'proceeds': 3411, 'heck': 2071, 'connect': 944, 'rocket': 3721, 'ironically': 2356, 'uninspired': 4657, 'avoided': 364, 'unseen': 4678, 'godzilla': 1929, 'mighty': 2836, 'button': 639, 'required': 3641, 'walls': 4783, 'rubber': 3747, 'banned': 395, 'divorce': 1301, 'restored': 3659, 'minimal': 2855, 'disneys': 1290, 'mgm': 2828, 'dancer': 1104, 'hed': 2072, 'brooklyn': 595, 'satire': 3788, 'bands': 392, 'raw': 3532, 'signed': 3971, 'integrity': 2311, 'seed': 3856, 'pacino': 3164, 'respected': 3653, 'cusack': 1088, 'motivations': 2915, 'cole': 873, 'formula': 1802, 'swedish': 4335, 'columbo': 881, 'basement': 405, 'scarecrow': 3804, 'stunts': 4246, 'clues': 865, 'junior': 2435, 'brenda': 575, 'awfully': 373, 'neo': 2998, 'caliber': 649, 'cards': 683, 'exceptionally': 1559, 'bath': 411, 'warmth': 4796, 'stretched': 4222, '75': 57, 'cup': 1080, 'messages': 2820, 'continued': 970, 'bugs': 613, 'mundane': 2938, 'drink': 1361, 'admire': 121, 'lust': 2689, 'stilted': 4190, 'kay': 2447, 'hamilton': 2012, 'clothing': 861, 'akshay': 169, 'fitting': 1742, 'dinosaurs': 1256, 'bears': 421, 'desperation': 1210, 'fed': 1682, 'dinosaur': 1255, 'pile': 3275, 'lifestyle': 2593, 'poverty': 3357, 'boxing': 556, 'square': 4136, 'philosophy': 3254, 'machines': 2694, 'bacall': 377, 'flashback': 1746, 'similarities': 3979, 'parallel': 3185, 'sisters': 4002, 'tied': 4489, 'familys': 1646, 'yellow': 4981, 'spoke': 4125, 'murderous': 2942, 'pitt': 3280, 'weakest': 4825, 'blah': 496, 'monkeys': 2891, 'bold': 528, 'pro': 3406, 'savage': 3793, 'laid': 2508, 'bathroom': 412, 'nation': 2969, 'moronic': 2907, 'minimum': 2856, 'stooges': 4200, 'overdone': 3152, 'relatives': 3601, 'pig': 3274, 'del': 1165, 'survived': 4322, 'marketing': 2741, 'wannabe': 4787, 'blade': 495, 'easier': 1405, 'enjoys': 1489, 'triumph': 4590, 'complexity': 924, 'richards': 3687, 'shell': 3927, 'edward': 1426, 'hopeless': 2158, 'farce': 1654, 'judging': 2425, 'chaplin': 756, 'bud': 607, 'joey': 2408, 'paulie': 3215, 'anime': 243, 'morality': 2903, 'weeks': 4839, 'lugosi': 2686, 'frankenstein': 1822, 'twelve': 4611, 'interviews': 2330, 'un': 4630, 'maria': 2736, 'recording': 3575, 'doubts': 1333, 'obnoxious': 3067, 'juvenile': 2441, 'kitchen': 2485, 'iraq': 2351, 'lab': 2501, 'pants': 3182, 'patients': 3212, 'interpretation': 2328, 'shelley': 3928, 'sappy': 3784, 'trial': 4580, 'terry': 4415, 'pretending': 3382, 'lou': 2663, 'brad': 560, 'freeman': 1829, 'secretary': 3850, 'taught': 4370, 'touched': 4534, 'dozens': 1339, 'dreary': 1356, 'st': 4137, 'spirited': 4114, 'muslim': 2949, 'drunken': 1376, 'tommy': 4516, 'mail': 2706, 'strip': 4228, 'adams': 112, 'bergman': 466, 'pit': 3278, 'bleak': 503, 'bore': 540, 'warming': 4795, 'iran': 2350, 'hart': 2041, 'witches': 4910, 'francis': 1818, 'resulting': 3661, 'davies': 1125, 'gifted': 1907, 'outer': 3143, 'whereas': 4865, 'rank': 3518, 'peters': 3248, 'cake': 648, 'seagal': 3839, 'explored': 1595, 'combine': 884, 'carrey': 696, 'kapoor': 2443, 'ha': 2002, 'showcase': 3954, 'eric': 1514, 'splendid': 4119, 'mild': 2839, 'grinch': 1975, 'characterization': 759, 'ninja': 3018, 'companion': 909, 'jenny': 2393, 'developing': 1224, 'rocky': 3723, 'lately': 2524, 'streep': 4215, 'edie': 1419, 'opinions': 3119, 'enormous': 1490, 'niro': 3019, 'sullivan': 4288, 'continues': 971, 'circle': 821, 'hanks': 2025, 'suited': 4286, 'thru': 4483, 'wacky': 4769, 'adorable': 124, 'checking': 778, 'arrival': 299, 'norman': 3035, 'paranoia': 3186, 'furthermore': 1854, 'pan': 3180, 'sole': 4055, 'conventional': 979, 'psychic': 3456, 'dolph': 1317, 'whale': 4857, 'ken': 2453, 'education': 1424, 'letter': 2581, 'returning': 3667, 'arms': 294, 'believes': 456, 'prom': 3429, 'orange': 3125, 'arguably': 289, 'poetry': 3314, 'slap': 4018, 'opportunities': 3120, 'hank': 2024, 'inappropriate': 2259, 'sandler': 3781, 'documentaries': 1306, 'margaret': 2735, 'kenneth': 2455, 'branagh': 564, 'persona': 3239, '1984': 23, 'grandfather': 1954, 'offering': 3089, 'giallo': 1904, 'royal': 3746, 'jeffrey': 2391, 'arnold': 296, 'stole': 4194, 'dentist': 1180, 'worn': 4948, 'acid': 95, 'calm': 655, 'purchase': 3469, 'neil': 2995, 'bumbling': 622, 'damon': 1101, 'sixties': 4011, 'bela': 450, 'instantly': 2306, 'secretly': 3851, 'waited': 4771, 'blob': 507, 'tune': 4602, 'monk': 2889, 'ashamed': 312, 'graphics': 1959, 'forms': 1801, 'mirror': 2861, 'gandhi': 1866, 'diane': 1238, 'matthew': 2772, 'trade': 4547, 'resident': 3647, 'ho': 2127, 'gabriel': 1859, 'wolf': 4920, 'landscapes': 2514, 'warriors': 4803, 'betty': 474, 'cary': 706, '3d': 46, 'hamlet': 2013, 'narrator': 2967, 'segment': 3867, 'nomination': 3026, 'brosnan': 597, 'businessman': 634, 'species': 4098, 'educational': 1425, 'pages': 3168, 'richardson': 3688, 'scooby': 3820, 'doo': 1325, 'mann': 2728, 'streisand': 4218, 'melting': 2799, 'nostalgia': 3038, 'dickens': 1240, 'scrooge': 3837, 'miike': 2837, 'lincoln': 2608, 'fonda': 1777, 'stereotype': 4178, 'garbo': 1871, 'doors': 1329, 'corporate': 998, 'primary': 3394, 'gadget': 1860, 'wendy': 4846, 'dave': 1123, 'pokemon': 3320}\n"
     ]
    }
   ],
   "source": [
    "print(str(vocabulary))"
   ]
  },
  {
   "cell_type": "markdown",
   "metadata": {},
   "source": [
    "Once you have added the endpoint name to the Lambda function, click on **Save**. Your Lambda function is now up and running. Next we need to create a way for our web app to execute the Lambda function."
   ]
  },
  {
   "cell_type": "markdown",
   "metadata": {},
   "source": [
    "### Setting up API Gateway\n",
    "\n",
    "Now that our Lambda function is set up, it is time to create a new API using API Gateway that will trigger the Lambda function we have just created.\n",
    "\n",
    "Using AWS Console, navigate to **Amazon API Gateway** and then click on **Get started**.\n",
    "\n",
    "On the next page, make sure that **New API** is selected and give the new api a name, for example, `sentiment_analysis_web_app`. Then, click on **Create API**.\n",
    "\n",
    "Now we have created an API, however it doesn't currently do anything. What we want it to do is to trigger the Lambda function that we created earlier.\n",
    "\n",
    "Select the **Actions** dropdown menu and click **Create Method**. A new blank method will be created, select its dropdown menu and select **POST**, then click on the check mark beside it.\n",
    "\n",
    "For the integration point, make sure that **Lambda Function** is selected and click on the **Use Lambda Proxy integration**. This option makes sure that the data that is sent to the API is then sent directly to the Lambda function with no processing. It also means that the return value must be a proper response object as it will also not be processed by API Gateway.\n",
    "\n",
    "Type the name of the Lambda function you created earlier into the **Lambda Function** text entry box and then click on **Save**. Click on **OK** in the pop-up box that then appears, giving permission to API Gateway to invoke the Lambda function you created.\n",
    "\n",
    "The last step in creating the API Gateway is to select the **Actions** dropdown and click on **Deploy API**. You will need to create a new Deployment stage and name it anything you like, for example `prod`.\n",
    "\n",
    "You have now successfully set up a public API to access your SageMaker model. Make sure to copy or write down the URL provided to invoke your newly created public API as this will be needed in the next step. This URL can be found at the top of the page, highlighted in blue next to the text **Invoke URL**."
   ]
  },
  {
   "cell_type": "markdown",
   "metadata": {},
   "source": [
    "## Step 7: Deploying our web app\n",
    "\n",
    "Now that we have a publicly available API, we can start using it in a web app. For our purposes, we have provided a simple static html file which can make use of the public api you created earlier.\n",
    "\n",
    "In the `website` folder there should be a file called `index.html`. Download the file to your computer and open that file up in a text editor of your choice. There should be a line which contains **\\*\\*REPLACE WITH PUBLIC API URL\\*\\***. Replace this string with the url that you wrote down in the last step and then save the file.\n",
    "\n",
    "Now, if you open `index.html` on your local computer, your browser will behave as a local web server and you can use the provided site to interact with your SageMaker model.\n",
    "\n",
    "If you'd like to go further, you can host this html file anywhere you'd like, for example using github or hosting a static site on Amazon's S3. Once you have done this you can share the link with anyone you'd like and have them play with it too!\n",
    "\n",
    "> **Important Note** In order for the web app to communicate with the SageMaker endpoint, the endpoint has to actually be deployed and running. This means that you are paying for it. Make sure that the endpoint is running when you want to use the web app but that you shut it down when you don't need it, otherwise you will end up with a surprisingly large AWS bill."
   ]
  },
  {
   "cell_type": "markdown",
   "metadata": {},
   "source": [
    "### Delete the endpoint\n",
    "\n",
    "Remember to always shut down your endpoint if you are no longer using it. You are charged for the length of time that the endpoint is running so if you forget and leave it on you could end up with an unexpectedly large bill."
   ]
  },
  {
   "cell_type": "code",
   "execution_count": null,
   "metadata": {},
   "outputs": [],
   "source": [
    "xgb_predictor.delete_endpoint()"
   ]
  },
  {
   "cell_type": "markdown",
   "metadata": {},
   "source": [
    "## Optional: Clean up\n",
    "\n",
    "The default notebook instance on SageMaker doesn't have a lot of excess disk space available. As you continue to complete and execute notebooks you will eventually fill up this disk space, leading to errors which can be difficult to diagnose. Once you are completely finished using a notebook it is a good idea to remove the files that you created along the way. Of course, you can do this from the terminal or from the notebook hub if you would like. The cell below contains some commands to clean up the created files from within the notebook."
   ]
  },
  {
   "cell_type": "code",
   "execution_count": null,
   "metadata": {},
   "outputs": [],
   "source": [
    "# First we will remove all of the files contained in the data_dir directory\n",
    "!rm $data_dir/*\n",
    "\n",
    "# And then we delete the directory itself\n",
    "!rmdir $data_dir\n",
    "\n",
    "# Similarly we remove the files in the cache_dir directory and the directory itself\n",
    "!rm $cache_dir/*\n",
    "!rmdir $cache_dir"
   ]
  },
  {
   "cell_type": "code",
   "execution_count": null,
   "metadata": {},
   "outputs": [],
   "source": []
  }
 ],
 "metadata": {
  "kernelspec": {
   "display_name": "conda_python3",
   "language": "python",
   "name": "conda_python3"
  },
  "language_info": {
   "codemirror_mode": {
    "name": "ipython",
    "version": 3
   },
   "file_extension": ".py",
   "mimetype": "text/x-python",
   "name": "python",
   "nbconvert_exporter": "python",
   "pygments_lexer": "ipython3",
   "version": "3.6.10"
  }
 },
 "nbformat": 4,
 "nbformat_minor": 2
}
